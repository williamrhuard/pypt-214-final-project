{
 "cells": [
  {
   "cell_type": "code",
   "execution_count": 1,
   "id": "f2be0378",
   "metadata": {},
   "outputs": [],
   "source": [
    "import numpy as np\n",
    "import pandas as pd\n",
    "import matplotlib.pyplot as plt"
   ]
  },
  {
   "cell_type": "code",
   "execution_count": 2,
   "id": "2de94d79",
   "metadata": {},
   "outputs": [
    {
     "data": {
      "text/html": [
       "<div>\n",
       "<style scoped>\n",
       "    .dataframe tbody tr th:only-of-type {\n",
       "        vertical-align: middle;\n",
       "    }\n",
       "\n",
       "    .dataframe tbody tr th {\n",
       "        vertical-align: top;\n",
       "    }\n",
       "\n",
       "    .dataframe thead th {\n",
       "        text-align: right;\n",
       "    }\n",
       "</style>\n",
       "<table border=\"1\" class=\"dataframe\">\n",
       "  <thead>\n",
       "    <tr style=\"text-align: right;\">\n",
       "      <th></th>\n",
       "      <th>robotid</th>\n",
       "      <th>datetime</th>\n",
       "      <th>nmssn</th>\n",
       "      <th>runm</th>\n",
       "      <th>chrgm</th>\n",
       "      <th>pausem</th>\n",
       "      <th>outcome</th>\n",
       "    </tr>\n",
       "  </thead>\n",
       "  <tbody>\n",
       "    <tr>\n",
       "      <th>0</th>\n",
       "      <td>000NG2FMLJBT9ANZ</td>\n",
       "      <td>2017-10-01 16:17:22</td>\n",
       "      <td>40</td>\n",
       "      <td>3</td>\n",
       "      <td>1</td>\n",
       "      <td>2</td>\n",
       "      <td>stuck</td>\n",
       "    </tr>\n",
       "    <tr>\n",
       "      <th>1</th>\n",
       "      <td>000NG2FMLJBT9ANZ</td>\n",
       "      <td>2017-10-03 14:25:56</td>\n",
       "      <td>41</td>\n",
       "      <td>83</td>\n",
       "      <td>0</td>\n",
       "      <td>13</td>\n",
       "      <td>ok</td>\n",
       "    </tr>\n",
       "    <tr>\n",
       "      <th>2</th>\n",
       "      <td>000NG2FMLJBT9ANZ</td>\n",
       "      <td>2017-10-04 12:32:51</td>\n",
       "      <td>42</td>\n",
       "      <td>66</td>\n",
       "      <td>13</td>\n",
       "      <td>12</td>\n",
       "      <td>ok</td>\n",
       "    </tr>\n",
       "    <tr>\n",
       "      <th>3</th>\n",
       "      <td>000NG2FMLJBT9ANZ</td>\n",
       "      <td>2017-10-26 02:12:55</td>\n",
       "      <td>45</td>\n",
       "      <td>72</td>\n",
       "      <td>24</td>\n",
       "      <td>0</td>\n",
       "      <td>cncl</td>\n",
       "    </tr>\n",
       "    <tr>\n",
       "      <th>4</th>\n",
       "      <td>000NG2FMLJBT9ANZ</td>\n",
       "      <td>2017-10-27 07:17:39</td>\n",
       "      <td>46</td>\n",
       "      <td>61</td>\n",
       "      <td>9</td>\n",
       "      <td>0</td>\n",
       "      <td>cncl</td>\n",
       "    </tr>\n",
       "  </tbody>\n",
       "</table>\n",
       "</div>"
      ],
      "text/plain": [
       "            robotid             datetime  nmssn  runm  chrgm  pausem outcome\n",
       "0  000NG2FMLJBT9ANZ  2017-10-01 16:17:22     40     3      1       2   stuck\n",
       "1  000NG2FMLJBT9ANZ  2017-10-03 14:25:56     41    83      0      13      ok\n",
       "2  000NG2FMLJBT9ANZ  2017-10-04 12:32:51     42    66     13      12      ok\n",
       "3  000NG2FMLJBT9ANZ  2017-10-26 02:12:55     45    72     24       0    cncl\n",
       "4  000NG2FMLJBT9ANZ  2017-10-27 07:17:39     46    61      9       0    cncl"
      ]
     },
     "execution_count": 2,
     "metadata": {},
     "output_type": "execute_result"
    }
   ],
   "source": [
    "mission_data = pd.read_csv('/Users/whuard/Desktop/General_Assembly/DS-interview-challenge/data/mission_data.csv')\n",
    "mission_data.head()"
   ]
  },
  {
   "cell_type": "code",
   "execution_count": 3,
   "id": "33449b0d",
   "metadata": {},
   "outputs": [
    {
     "data": {
      "text/plain": [
       "(367679, 7)"
      ]
     },
     "execution_count": 3,
     "metadata": {},
     "output_type": "execute_result"
    }
   ],
   "source": [
    "mission_data.shape"
   ]
  },
  {
   "cell_type": "code",
   "execution_count": 4,
   "id": "d44f4836",
   "metadata": {},
   "outputs": [],
   "source": [
    "geo_data = pd.read_csv('/Users/whuard/Desktop/General_Assembly/DS-interview-challenge/data/geo_data.csv')"
   ]
  },
  {
   "cell_type": "code",
   "execution_count": 5,
   "id": "3f6f9bec",
   "metadata": {},
   "outputs": [
    {
     "data": {
      "text/html": [
       "<div>\n",
       "<style scoped>\n",
       "    .dataframe tbody tr th:only-of-type {\n",
       "        vertical-align: middle;\n",
       "    }\n",
       "\n",
       "    .dataframe tbody tr th {\n",
       "        vertical-align: top;\n",
       "    }\n",
       "\n",
       "    .dataframe thead th {\n",
       "        text-align: right;\n",
       "    }\n",
       "</style>\n",
       "<table border=\"1\" class=\"dataframe\">\n",
       "  <thead>\n",
       "    <tr style=\"text-align: right;\">\n",
       "      <th></th>\n",
       "      <th>country_cd</th>\n",
       "      <th>timezone</th>\n",
       "      <th>robotid</th>\n",
       "    </tr>\n",
       "  </thead>\n",
       "  <tbody>\n",
       "    <tr>\n",
       "      <th>0</th>\n",
       "      <td>SE</td>\n",
       "      <td>Europe/Stockholm</td>\n",
       "      <td>T29NF13ZIYISNF79</td>\n",
       "    </tr>\n",
       "    <tr>\n",
       "      <th>1</th>\n",
       "      <td>JP</td>\n",
       "      <td>Asia/Tokyo</td>\n",
       "      <td>9S12V26O6G426OYR</td>\n",
       "    </tr>\n",
       "    <tr>\n",
       "      <th>2</th>\n",
       "      <td>IL</td>\n",
       "      <td>Asia/Jerusalem</td>\n",
       "      <td>QI6X3P9JKNILKKU1</td>\n",
       "    </tr>\n",
       "    <tr>\n",
       "      <th>3</th>\n",
       "      <td>IL</td>\n",
       "      <td>Asia/Jerusalem</td>\n",
       "      <td>7OMKNWMWA4XWC911</td>\n",
       "    </tr>\n",
       "    <tr>\n",
       "      <th>4</th>\n",
       "      <td>IL</td>\n",
       "      <td>Asia/Jerusalem</td>\n",
       "      <td>YO63CL0ZFK83SYCZ</td>\n",
       "    </tr>\n",
       "  </tbody>\n",
       "</table>\n",
       "</div>"
      ],
      "text/plain": [
       "  country_cd          timezone           robotid\n",
       "0         SE  Europe/Stockholm  T29NF13ZIYISNF79\n",
       "1         JP        Asia/Tokyo  9S12V26O6G426OYR\n",
       "2         IL    Asia/Jerusalem  QI6X3P9JKNILKKU1\n",
       "3         IL    Asia/Jerusalem  7OMKNWMWA4XWC911\n",
       "4         IL    Asia/Jerusalem  YO63CL0ZFK83SYCZ"
      ]
     },
     "execution_count": 5,
     "metadata": {},
     "output_type": "execute_result"
    }
   ],
   "source": [
    "geo_data.head()"
   ]
  },
  {
   "cell_type": "code",
   "execution_count": 6,
   "id": "98fe987c",
   "metadata": {},
   "outputs": [
    {
     "data": {
      "text/plain": [
       "(10000, 3)"
      ]
     },
     "execution_count": 6,
     "metadata": {},
     "output_type": "execute_result"
    }
   ],
   "source": [
    "geo_data.shape"
   ]
  }
 ],
 "metadata": {
  "kernelspec": {
   "display_name": "Python 3 (ipykernel)",
   "language": "python",
   "name": "python3"
  },
  "language_info": {
   "codemirror_mode": {
    "name": "ipython",
    "version": 3
   },
   "file_extension": ".py",
   "mimetype": "text/x-python",
   "name": "python",
   "nbconvert_exporter": "python",
   "pygments_lexer": "ipython3",
   "version": "3.9.7"
  }
 },
 "nbformat": 4,
 "nbformat_minor": 5
}
