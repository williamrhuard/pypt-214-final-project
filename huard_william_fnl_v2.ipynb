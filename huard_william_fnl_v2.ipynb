{
 "cells": [
  {
   "cell_type": "markdown",
   "id": "334ccdb5",
   "metadata": {},
   "source": [
    "# Step 0: Imports\n",
    "Read in our 3 favorite libraries here, plus any more you might need."
   ]
  },
  {
   "cell_type": "code",
   "execution_count": 1,
   "id": "06793be8",
   "metadata": {},
   "outputs": [],
   "source": [
    "import numpy as np\n",
    "import pandas as pd\n",
    "import matplotlib.pyplot as plt\n",
    "from datetime import datetime #, timezone\n",
    "import pytz\n",
    "import re"
   ]
  },
  {
   "cell_type": "markdown",
   "id": "d12e6872",
   "metadata": {},
   "source": [
    "# Step 1: Load in Data\n",
    "Read in `mission_data.csv`, a dataset containing the details of cleaning missions for a sample of 10,000 wifi-connected robots. The columns are defined as follows:\n",
    "\n",
    "* `robotid`: a unique robot identifier\n",
    "* `datetime`: a date string that represents the start time of a mission in GMT\n",
    "* `nmssn`: mission number. This information comes from an internal counter on the robot that increments +1 per mission. Be aware that the complete mission history from mission 1 may not be included for each robot (due to missions being run before the robot was connected to wifi or data loss). The max mission number per robot should reflect its total number of missions to date reported to the database.\n",
    "* `runm`: this is the time in minutes that the robot spent actually cleaning.\n",
    "* `chrgm`: this is the time in minutes that a robot spent charging.\n",
    "* `pausem`: this is the time in minutes that a robot spent paused.\n",
    "* `outcome`: this is the end status of a mission. \"Cncl\" indicates that the mission was cancelled by the user. \"Stuck\" means the robot got stuck on an obstacle, and was not rescued within 90 minutes, so could not return to the dock. \"Bat\" means the robot's battery grew too low for it to return to the dock. \"Ok\" means the robot successfully completed cleaning the space and returned to the dock.\n",
    "\n",
    "Read in `geo_data.csv`, a dataset containing the details of the robot's geographic location. The columns are defined as follows:\n",
    "\n",
    "* `robotid`: unique robot identifier\n",
    "* `country_cd`: 2-letter ISO country code\n",
    "* `timezone`: robot's timezone (from IANA/Olson database)\n",
    "\n",
    "The following sub-sections are included in Step 1:\n",
    "* 1a. Load in additional dataset(s) as needed\n",
    "* 1b. Data Cleaning\n",
    "* 1c. Initial Data Merging"
   ]
  },
  {
   "cell_type": "code",
   "execution_count": 2,
   "id": "7351d034",
   "metadata": {},
   "outputs": [
    {
     "data": {
      "text/html": [
       "<div>\n",
       "<style scoped>\n",
       "    .dataframe tbody tr th:only-of-type {\n",
       "        vertical-align: middle;\n",
       "    }\n",
       "\n",
       "    .dataframe tbody tr th {\n",
       "        vertical-align: top;\n",
       "    }\n",
       "\n",
       "    .dataframe thead th {\n",
       "        text-align: right;\n",
       "    }\n",
       "</style>\n",
       "<table border=\"1\" class=\"dataframe\">\n",
       "  <thead>\n",
       "    <tr style=\"text-align: right;\">\n",
       "      <th></th>\n",
       "      <th>robotid</th>\n",
       "      <th>datetime</th>\n",
       "      <th>nmssn</th>\n",
       "      <th>runm</th>\n",
       "      <th>chrgm</th>\n",
       "      <th>pausem</th>\n",
       "      <th>outcome</th>\n",
       "    </tr>\n",
       "  </thead>\n",
       "  <tbody>\n",
       "    <tr>\n",
       "      <th>0</th>\n",
       "      <td>000NG2FMLJBT9ANZ</td>\n",
       "      <td>2017-10-01 16:17:22</td>\n",
       "      <td>40</td>\n",
       "      <td>3</td>\n",
       "      <td>1</td>\n",
       "      <td>2</td>\n",
       "      <td>stuck</td>\n",
       "    </tr>\n",
       "    <tr>\n",
       "      <th>1</th>\n",
       "      <td>000NG2FMLJBT9ANZ</td>\n",
       "      <td>2017-10-03 14:25:56</td>\n",
       "      <td>41</td>\n",
       "      <td>83</td>\n",
       "      <td>0</td>\n",
       "      <td>13</td>\n",
       "      <td>ok</td>\n",
       "    </tr>\n",
       "    <tr>\n",
       "      <th>2</th>\n",
       "      <td>000NG2FMLJBT9ANZ</td>\n",
       "      <td>2017-10-04 12:32:51</td>\n",
       "      <td>42</td>\n",
       "      <td>66</td>\n",
       "      <td>13</td>\n",
       "      <td>12</td>\n",
       "      <td>ok</td>\n",
       "    </tr>\n",
       "    <tr>\n",
       "      <th>3</th>\n",
       "      <td>000NG2FMLJBT9ANZ</td>\n",
       "      <td>2017-10-26 02:12:55</td>\n",
       "      <td>45</td>\n",
       "      <td>72</td>\n",
       "      <td>24</td>\n",
       "      <td>0</td>\n",
       "      <td>cncl</td>\n",
       "    </tr>\n",
       "    <tr>\n",
       "      <th>4</th>\n",
       "      <td>000NG2FMLJBT9ANZ</td>\n",
       "      <td>2017-10-27 07:17:39</td>\n",
       "      <td>46</td>\n",
       "      <td>61</td>\n",
       "      <td>9</td>\n",
       "      <td>0</td>\n",
       "      <td>cncl</td>\n",
       "    </tr>\n",
       "  </tbody>\n",
       "</table>\n",
       "</div>"
      ],
      "text/plain": [
       "            robotid             datetime  nmssn  runm  chrgm  pausem outcome\n",
       "0  000NG2FMLJBT9ANZ  2017-10-01 16:17:22     40     3      1       2   stuck\n",
       "1  000NG2FMLJBT9ANZ  2017-10-03 14:25:56     41    83      0      13      ok\n",
       "2  000NG2FMLJBT9ANZ  2017-10-04 12:32:51     42    66     13      12      ok\n",
       "3  000NG2FMLJBT9ANZ  2017-10-26 02:12:55     45    72     24       0    cncl\n",
       "4  000NG2FMLJBT9ANZ  2017-10-27 07:17:39     46    61      9       0    cncl"
      ]
     },
     "execution_count": 2,
     "metadata": {},
     "output_type": "execute_result"
    }
   ],
   "source": [
    "mission = pd.read_csv('/Users/whuard/Desktop/General_Assembly/DS-interview-challenge/data/mission_data.csv')\n",
    "mission.head()"
   ]
  },
  {
   "cell_type": "code",
   "execution_count": 3,
   "id": "642c5ce7",
   "metadata": {},
   "outputs": [
    {
     "data": {
      "text/plain": [
       "(367679, 7)"
      ]
     },
     "execution_count": 3,
     "metadata": {},
     "output_type": "execute_result"
    }
   ],
   "source": [
    "# Take a look at how many rows and columns in this dataframe\n",
    "mission.shape"
   ]
  },
  {
   "cell_type": "code",
   "execution_count": 4,
   "id": "09828cf4",
   "metadata": {},
   "outputs": [
    {
     "data": {
      "text/html": [
       "<div>\n",
       "<style scoped>\n",
       "    .dataframe tbody tr th:only-of-type {\n",
       "        vertical-align: middle;\n",
       "    }\n",
       "\n",
       "    .dataframe tbody tr th {\n",
       "        vertical-align: top;\n",
       "    }\n",
       "\n",
       "    .dataframe thead th {\n",
       "        text-align: right;\n",
       "    }\n",
       "</style>\n",
       "<table border=\"1\" class=\"dataframe\">\n",
       "  <thead>\n",
       "    <tr style=\"text-align: right;\">\n",
       "      <th></th>\n",
       "      <th>country_cd</th>\n",
       "      <th>timezone</th>\n",
       "      <th>robotid</th>\n",
       "    </tr>\n",
       "  </thead>\n",
       "  <tbody>\n",
       "    <tr>\n",
       "      <th>0</th>\n",
       "      <td>SE</td>\n",
       "      <td>Europe/Stockholm</td>\n",
       "      <td>T29NF13ZIYISNF79</td>\n",
       "    </tr>\n",
       "    <tr>\n",
       "      <th>1</th>\n",
       "      <td>JP</td>\n",
       "      <td>Asia/Tokyo</td>\n",
       "      <td>9S12V26O6G426OYR</td>\n",
       "    </tr>\n",
       "    <tr>\n",
       "      <th>2</th>\n",
       "      <td>IL</td>\n",
       "      <td>Asia/Jerusalem</td>\n",
       "      <td>QI6X3P9JKNILKKU1</td>\n",
       "    </tr>\n",
       "    <tr>\n",
       "      <th>3</th>\n",
       "      <td>IL</td>\n",
       "      <td>Asia/Jerusalem</td>\n",
       "      <td>7OMKNWMWA4XWC911</td>\n",
       "    </tr>\n",
       "    <tr>\n",
       "      <th>4</th>\n",
       "      <td>IL</td>\n",
       "      <td>Asia/Jerusalem</td>\n",
       "      <td>YO63CL0ZFK83SYCZ</td>\n",
       "    </tr>\n",
       "  </tbody>\n",
       "</table>\n",
       "</div>"
      ],
      "text/plain": [
       "  country_cd          timezone           robotid\n",
       "0         SE  Europe/Stockholm  T29NF13ZIYISNF79\n",
       "1         JP        Asia/Tokyo  9S12V26O6G426OYR\n",
       "2         IL    Asia/Jerusalem  QI6X3P9JKNILKKU1\n",
       "3         IL    Asia/Jerusalem  7OMKNWMWA4XWC911\n",
       "4         IL    Asia/Jerusalem  YO63CL0ZFK83SYCZ"
      ]
     },
     "execution_count": 4,
     "metadata": {},
     "output_type": "execute_result"
    }
   ],
   "source": [
    "geo = pd.read_csv('/Users/whuard/Desktop/General_Assembly/DS-interview-challenge/data/geo_data.csv')\n",
    "geo.head()"
   ]
  },
  {
   "cell_type": "code",
   "execution_count": 5,
   "id": "76dc81d0",
   "metadata": {},
   "outputs": [
    {
     "data": {
      "text/plain": [
       "(10000, 3)"
      ]
     },
     "execution_count": 5,
     "metadata": {},
     "output_type": "execute_result"
    }
   ],
   "source": [
    "# Take a look at how many rows and columns in this dataframe\n",
    "geo.shape"
   ]
  },
  {
   "cell_type": "markdown",
   "id": "f05374b5",
   "metadata": {},
   "source": [
    "## 1a. Load in additional dataset as found on github to make data transformation easier"
   ]
  },
  {
   "cell_type": "code",
   "execution_count": 6,
   "id": "b7dab220",
   "metadata": {},
   "outputs": [],
   "source": [
    "# Loading in country codes csv for English short name\n",
    "# Downloaded from github https://gist.github.com/radcliff/f09c0f88344a7fcef373\n",
    "iso_codes = pd.read_csv('data/wikipedia-iso-country-codes.csv', keep_default_na=False)"
   ]
  },
  {
   "cell_type": "code",
   "execution_count": 7,
   "id": "e2aa73d3",
   "metadata": {
    "scrolled": true
   },
   "outputs": [
    {
     "data": {
      "text/html": [
       "<div>\n",
       "<style scoped>\n",
       "    .dataframe tbody tr th:only-of-type {\n",
       "        vertical-align: middle;\n",
       "    }\n",
       "\n",
       "    .dataframe tbody tr th {\n",
       "        vertical-align: top;\n",
       "    }\n",
       "\n",
       "    .dataframe thead th {\n",
       "        text-align: right;\n",
       "    }\n",
       "</style>\n",
       "<table border=\"1\" class=\"dataframe\">\n",
       "  <thead>\n",
       "    <tr style=\"text-align: right;\">\n",
       "      <th></th>\n",
       "      <th>English short name lower case</th>\n",
       "      <th>Alpha-2 code</th>\n",
       "      <th>Alpha-3 code</th>\n",
       "      <th>Numeric code</th>\n",
       "      <th>ISO 3166-2</th>\n",
       "    </tr>\n",
       "  </thead>\n",
       "  <tbody>\n",
       "    <tr>\n",
       "      <th>0</th>\n",
       "      <td>Afghanistan</td>\n",
       "      <td>AF</td>\n",
       "      <td>AFG</td>\n",
       "      <td>4</td>\n",
       "      <td>ISO 3166-2:AF</td>\n",
       "    </tr>\n",
       "    <tr>\n",
       "      <th>1</th>\n",
       "      <td>Åland Islands</td>\n",
       "      <td>AX</td>\n",
       "      <td>ALA</td>\n",
       "      <td>248</td>\n",
       "      <td>ISO 3166-2:AX</td>\n",
       "    </tr>\n",
       "    <tr>\n",
       "      <th>2</th>\n",
       "      <td>Albania</td>\n",
       "      <td>AL</td>\n",
       "      <td>ALB</td>\n",
       "      <td>8</td>\n",
       "      <td>ISO 3166-2:AL</td>\n",
       "    </tr>\n",
       "    <tr>\n",
       "      <th>3</th>\n",
       "      <td>Algeria</td>\n",
       "      <td>DZ</td>\n",
       "      <td>DZA</td>\n",
       "      <td>12</td>\n",
       "      <td>ISO 3166-2:DZ</td>\n",
       "    </tr>\n",
       "    <tr>\n",
       "      <th>4</th>\n",
       "      <td>American Samoa</td>\n",
       "      <td>AS</td>\n",
       "      <td>ASM</td>\n",
       "      <td>16</td>\n",
       "      <td>ISO 3166-2:AS</td>\n",
       "    </tr>\n",
       "  </tbody>\n",
       "</table>\n",
       "</div>"
      ],
      "text/plain": [
       "  English short name lower case Alpha-2 code Alpha-3 code  Numeric code  \\\n",
       "0                   Afghanistan           AF          AFG             4   \n",
       "1                 Åland Islands           AX          ALA           248   \n",
       "2                       Albania           AL          ALB             8   \n",
       "3                       Algeria           DZ          DZA            12   \n",
       "4                American Samoa           AS          ASM            16   \n",
       "\n",
       "      ISO 3166-2  \n",
       "0  ISO 3166-2:AF  \n",
       "1  ISO 3166-2:AX  \n",
       "2  ISO 3166-2:AL  \n",
       "3  ISO 3166-2:DZ  \n",
       "4  ISO 3166-2:AS  "
      ]
     },
     "execution_count": 7,
     "metadata": {},
     "output_type": "execute_result"
    }
   ],
   "source": [
    "# Look at the iso codes dataframe\n",
    "iso_codes.head()"
   ]
  },
  {
   "cell_type": "code",
   "execution_count": 8,
   "id": "f4061b84",
   "metadata": {},
   "outputs": [
    {
     "data": {
      "text/html": [
       "<div>\n",
       "<style scoped>\n",
       "    .dataframe tbody tr th:only-of-type {\n",
       "        vertical-align: middle;\n",
       "    }\n",
       "\n",
       "    .dataframe tbody tr th {\n",
       "        vertical-align: top;\n",
       "    }\n",
       "\n",
       "    .dataframe thead th {\n",
       "        text-align: right;\n",
       "    }\n",
       "</style>\n",
       "<table border=\"1\" class=\"dataframe\">\n",
       "  <thead>\n",
       "    <tr style=\"text-align: right;\">\n",
       "      <th></th>\n",
       "      <th>country</th>\n",
       "      <th>country_cd</th>\n",
       "      <th>alpha_3</th>\n",
       "      <th>numeric_code</th>\n",
       "      <th>iso_3166_2</th>\n",
       "    </tr>\n",
       "  </thead>\n",
       "  <tbody>\n",
       "    <tr>\n",
       "      <th>0</th>\n",
       "      <td>Afghanistan</td>\n",
       "      <td>AF</td>\n",
       "      <td>AFG</td>\n",
       "      <td>4</td>\n",
       "      <td>ISO 3166-2:AF</td>\n",
       "    </tr>\n",
       "    <tr>\n",
       "      <th>1</th>\n",
       "      <td>Åland Islands</td>\n",
       "      <td>AX</td>\n",
       "      <td>ALA</td>\n",
       "      <td>248</td>\n",
       "      <td>ISO 3166-2:AX</td>\n",
       "    </tr>\n",
       "    <tr>\n",
       "      <th>2</th>\n",
       "      <td>Albania</td>\n",
       "      <td>AL</td>\n",
       "      <td>ALB</td>\n",
       "      <td>8</td>\n",
       "      <td>ISO 3166-2:AL</td>\n",
       "    </tr>\n",
       "    <tr>\n",
       "      <th>3</th>\n",
       "      <td>Algeria</td>\n",
       "      <td>DZ</td>\n",
       "      <td>DZA</td>\n",
       "      <td>12</td>\n",
       "      <td>ISO 3166-2:DZ</td>\n",
       "    </tr>\n",
       "    <tr>\n",
       "      <th>4</th>\n",
       "      <td>American Samoa</td>\n",
       "      <td>AS</td>\n",
       "      <td>ASM</td>\n",
       "      <td>16</td>\n",
       "      <td>ISO 3166-2:AS</td>\n",
       "    </tr>\n",
       "  </tbody>\n",
       "</table>\n",
       "</div>"
      ],
      "text/plain": [
       "          country country_cd alpha_3  numeric_code     iso_3166_2\n",
       "0     Afghanistan         AF     AFG             4  ISO 3166-2:AF\n",
       "1   Åland Islands         AX     ALA           248  ISO 3166-2:AX\n",
       "2         Albania         AL     ALB             8  ISO 3166-2:AL\n",
       "3         Algeria         DZ     DZA            12  ISO 3166-2:DZ\n",
       "4  American Samoa         AS     ASM            16  ISO 3166-2:AS"
      ]
     },
     "execution_count": 8,
     "metadata": {},
     "output_type": "execute_result"
    }
   ],
   "source": [
    "# rename columns to make working with this df easier\n",
    "iso_codes.columns = ['country', 'country_cd', 'alpha_3', 'numeric_code', 'iso_3166_2']\n",
    "iso_codes.head()"
   ]
  },
  {
   "cell_type": "markdown",
   "id": "e44a8915",
   "metadata": {},
   "source": [
    "## 1b. Data Cleaning"
   ]
  },
  {
   "cell_type": "code",
   "execution_count": 9,
   "id": "2bda04cd",
   "metadata": {},
   "outputs": [
    {
     "data": {
      "text/plain": [
       "robotid     0\n",
       "datetime    0\n",
       "nmssn       0\n",
       "runm        0\n",
       "chrgm       0\n",
       "pausem      0\n",
       "outcome     0\n",
       "dtype: int64"
      ]
     },
     "execution_count": 9,
     "metadata": {},
     "output_type": "execute_result"
    }
   ],
   "source": [
    "# There are no missing values in the mission dataset\n",
    "mission.isna().sum()"
   ]
  },
  {
   "cell_type": "code",
   "execution_count": 10,
   "id": "386a6aa4",
   "metadata": {},
   "outputs": [
    {
     "data": {
      "text/plain": [
       "country_cd    2\n",
       "timezone      0\n",
       "robotid       0\n",
       "dtype: int64"
      ]
     },
     "execution_count": 10,
     "metadata": {},
     "output_type": "execute_result"
    }
   ],
   "source": [
    "# There are two missing values for country_cd in 10,000 entries\n",
    "geo.isna().sum()"
   ]
  },
  {
   "cell_type": "code",
   "execution_count": 11,
   "id": "1fd274db",
   "metadata": {},
   "outputs": [
    {
     "data": {
      "text/html": [
       "<div>\n",
       "<style scoped>\n",
       "    .dataframe tbody tr th:only-of-type {\n",
       "        vertical-align: middle;\n",
       "    }\n",
       "\n",
       "    .dataframe tbody tr th {\n",
       "        vertical-align: top;\n",
       "    }\n",
       "\n",
       "    .dataframe thead th {\n",
       "        text-align: right;\n",
       "    }\n",
       "</style>\n",
       "<table border=\"1\" class=\"dataframe\">\n",
       "  <thead>\n",
       "    <tr style=\"text-align: right;\">\n",
       "      <th></th>\n",
       "      <th>country_cd</th>\n",
       "      <th>timezone</th>\n",
       "      <th>robotid</th>\n",
       "    </tr>\n",
       "  </thead>\n",
       "  <tbody>\n",
       "    <tr>\n",
       "      <th>6091</th>\n",
       "      <td>NaN</td>\n",
       "      <td>Europe/Vaduz</td>\n",
       "      <td>QMJXZLREE88GULA1</td>\n",
       "    </tr>\n",
       "    <tr>\n",
       "      <th>6363</th>\n",
       "      <td>NaN</td>\n",
       "      <td>Africa/Windhoek</td>\n",
       "      <td>Z9JJM7JRIGJYLER2</td>\n",
       "    </tr>\n",
       "  </tbody>\n",
       "</table>\n",
       "</div>"
      ],
      "text/plain": [
       "     country_cd         timezone           robotid\n",
       "6091        NaN     Europe/Vaduz  QMJXZLREE88GULA1\n",
       "6363        NaN  Africa/Windhoek  Z9JJM7JRIGJYLER2"
      ]
     },
     "execution_count": 11,
     "metadata": {},
     "output_type": "execute_result"
    }
   ],
   "source": [
    "# This will return all rows with NaN in the column specified\n",
    "# As we can see we are missing the country_cd related to timezone Europe/Vaduz and Africa/Winhoek\n",
    "geo[geo['country_cd'].isna()]"
   ]
  },
  {
   "cell_type": "code",
   "execution_count": 12,
   "id": "eb46a015",
   "metadata": {},
   "outputs": [
    {
     "data": {
      "text/html": [
       "<div>\n",
       "<style scoped>\n",
       "    .dataframe tbody tr th:only-of-type {\n",
       "        vertical-align: middle;\n",
       "    }\n",
       "\n",
       "    .dataframe tbody tr th {\n",
       "        vertical-align: top;\n",
       "    }\n",
       "\n",
       "    .dataframe thead th {\n",
       "        text-align: right;\n",
       "    }\n",
       "</style>\n",
       "<table border=\"1\" class=\"dataframe\">\n",
       "  <thead>\n",
       "    <tr style=\"text-align: right;\">\n",
       "      <th></th>\n",
       "      <th>country_cd</th>\n",
       "      <th>timezone</th>\n",
       "      <th>robotid</th>\n",
       "    </tr>\n",
       "  </thead>\n",
       "  <tbody>\n",
       "    <tr>\n",
       "      <th>6091</th>\n",
       "      <td>NaN</td>\n",
       "      <td>Europe/Vaduz</td>\n",
       "      <td>QMJXZLREE88GULA1</td>\n",
       "    </tr>\n",
       "    <tr>\n",
       "      <th>6363</th>\n",
       "      <td>NaN</td>\n",
       "      <td>Africa/Windhoek</td>\n",
       "      <td>Z9JJM7JRIGJYLER2</td>\n",
       "    </tr>\n",
       "  </tbody>\n",
       "</table>\n",
       "</div>"
      ],
      "text/plain": [
       "     country_cd         timezone           robotid\n",
       "6091        NaN     Europe/Vaduz  QMJXZLREE88GULA1\n",
       "6363        NaN  Africa/Windhoek  Z9JJM7JRIGJYLER2"
      ]
     },
     "execution_count": 12,
     "metadata": {},
     "output_type": "execute_result"
    }
   ],
   "source": [
    "# This is to show all rows with NaN in an entire frame regardless of column\n",
    "geo[geo.isnull().any(axis=1)]"
   ]
  },
  {
   "cell_type": "code",
   "execution_count": 13,
   "id": "0cd6a27d",
   "metadata": {},
   "outputs": [
    {
     "data": {
      "text/html": [
       "<div>\n",
       "<style scoped>\n",
       "    .dataframe tbody tr th:only-of-type {\n",
       "        vertical-align: middle;\n",
       "    }\n",
       "\n",
       "    .dataframe tbody tr th {\n",
       "        vertical-align: top;\n",
       "    }\n",
       "\n",
       "    .dataframe thead th {\n",
       "        text-align: right;\n",
       "    }\n",
       "</style>\n",
       "<table border=\"1\" class=\"dataframe\">\n",
       "  <thead>\n",
       "    <tr style=\"text-align: right;\">\n",
       "      <th></th>\n",
       "      <th>country_cd</th>\n",
       "      <th>timezone</th>\n",
       "      <th>robotid</th>\n",
       "    </tr>\n",
       "  </thead>\n",
       "  <tbody>\n",
       "    <tr>\n",
       "      <th>6091</th>\n",
       "      <td>NaN</td>\n",
       "      <td>Europe/Vaduz</td>\n",
       "      <td>QMJXZLREE88GULA1</td>\n",
       "    </tr>\n",
       "    <tr>\n",
       "      <th>9657</th>\n",
       "      <td>NO</td>\n",
       "      <td>Europe/Vaduz</td>\n",
       "      <td>JCU2B100T9CTZT7L</td>\n",
       "    </tr>\n",
       "  </tbody>\n",
       "</table>\n",
       "</div>"
      ],
      "text/plain": [
       "     country_cd      timezone           robotid\n",
       "6091        NaN  Europe/Vaduz  QMJXZLREE88GULA1\n",
       "9657         NO  Europe/Vaduz  JCU2B100T9CTZT7L"
      ]
     },
     "execution_count": 13,
     "metadata": {},
     "output_type": "execute_result"
    }
   ],
   "source": [
    "# Filter the geo dataframe by timezone to see if there are any other entries for Europe/Vaduz\n",
    "geo[geo['timezone']=='Europe/Vaduz']"
   ]
  },
  {
   "cell_type": "code",
   "execution_count": 14,
   "id": "f1f9e0a5",
   "metadata": {},
   "outputs": [],
   "source": [
    "# Since we know NO is the correct country_cod, we index the geo dataframe\n",
    "# for null values of country_cd and where timezone is Europe/Vaduz and set the empyty value\n",
    "# to equal 'NO', which is the correct country code\n",
    "geo.loc[(geo['country_cd'].isna()) & (geo['timezone']=='Europe/Vaduz'),'country_cd']='NO'"
   ]
  },
  {
   "cell_type": "code",
   "execution_count": 15,
   "id": "02941ac4",
   "metadata": {},
   "outputs": [
    {
     "data": {
      "text/html": [
       "<div>\n",
       "<style scoped>\n",
       "    .dataframe tbody tr th:only-of-type {\n",
       "        vertical-align: middle;\n",
       "    }\n",
       "\n",
       "    .dataframe tbody tr th {\n",
       "        vertical-align: top;\n",
       "    }\n",
       "\n",
       "    .dataframe thead th {\n",
       "        text-align: right;\n",
       "    }\n",
       "</style>\n",
       "<table border=\"1\" class=\"dataframe\">\n",
       "  <thead>\n",
       "    <tr style=\"text-align: right;\">\n",
       "      <th></th>\n",
       "      <th>country_cd</th>\n",
       "      <th>timezone</th>\n",
       "      <th>robotid</th>\n",
       "    </tr>\n",
       "  </thead>\n",
       "  <tbody>\n",
       "    <tr>\n",
       "      <th>6091</th>\n",
       "      <td>NO</td>\n",
       "      <td>Europe/Vaduz</td>\n",
       "      <td>QMJXZLREE88GULA1</td>\n",
       "    </tr>\n",
       "    <tr>\n",
       "      <th>9657</th>\n",
       "      <td>NO</td>\n",
       "      <td>Europe/Vaduz</td>\n",
       "      <td>JCU2B100T9CTZT7L</td>\n",
       "    </tr>\n",
       "  </tbody>\n",
       "</table>\n",
       "</div>"
      ],
      "text/plain": [
       "     country_cd      timezone           robotid\n",
       "6091         NO  Europe/Vaduz  QMJXZLREE88GULA1\n",
       "9657         NO  Europe/Vaduz  JCU2B100T9CTZT7L"
      ]
     },
     "execution_count": 15,
     "metadata": {},
     "output_type": "execute_result"
    }
   ],
   "source": [
    "# Filter the geo dataframe by the below timezone to ensure the country_cd strings are correct\n",
    "geo[geo['timezone']=='Europe/Vaduz']"
   ]
  },
  {
   "cell_type": "code",
   "execution_count": 16,
   "id": "70d06c0f",
   "metadata": {},
   "outputs": [
    {
     "data": {
      "text/html": [
       "<div>\n",
       "<style scoped>\n",
       "    .dataframe tbody tr th:only-of-type {\n",
       "        vertical-align: middle;\n",
       "    }\n",
       "\n",
       "    .dataframe tbody tr th {\n",
       "        vertical-align: top;\n",
       "    }\n",
       "\n",
       "    .dataframe thead th {\n",
       "        text-align: right;\n",
       "    }\n",
       "</style>\n",
       "<table border=\"1\" class=\"dataframe\">\n",
       "  <thead>\n",
       "    <tr style=\"text-align: right;\">\n",
       "      <th></th>\n",
       "      <th>country_cd</th>\n",
       "      <th>timezone</th>\n",
       "      <th>robotid</th>\n",
       "    </tr>\n",
       "  </thead>\n",
       "  <tbody>\n",
       "    <tr>\n",
       "      <th>6363</th>\n",
       "      <td>NaN</td>\n",
       "      <td>Africa/Windhoek</td>\n",
       "      <td>Z9JJM7JRIGJYLER2</td>\n",
       "    </tr>\n",
       "  </tbody>\n",
       "</table>\n",
       "</div>"
      ],
      "text/plain": [
       "     country_cd         timezone           robotid\n",
       "6363        NaN  Africa/Windhoek  Z9JJM7JRIGJYLER2"
      ]
     },
     "execution_count": 16,
     "metadata": {},
     "output_type": "execute_result"
    }
   ],
   "source": [
    "# Now we filter the geo dataframe to see how many entries there are for 'Africa/Windhoek'\n",
    "geo[geo['timezone']=='Africa/Windhoek']"
   ]
  },
  {
   "cell_type": "code",
   "execution_count": 17,
   "id": "210bb440",
   "metadata": {},
   "outputs": [],
   "source": [
    "# Seeing as there is only one entry, I used google to find the correct 2-letter ISO country_cd which is NA\n",
    "# https://www.nationsonline.org/oneworld/namibia.htm\n",
    "# So we use the same logic above to insert NA in the correct row\n",
    "geo.loc[(geo['country_cd'].isna()) & (geo['timezone']=='Africa/Windhoek'),'country_cd']='NA'"
   ]
  },
  {
   "cell_type": "code",
   "execution_count": 18,
   "id": "fab3b0c9",
   "metadata": {},
   "outputs": [
    {
     "data": {
      "text/html": [
       "<div>\n",
       "<style scoped>\n",
       "    .dataframe tbody tr th:only-of-type {\n",
       "        vertical-align: middle;\n",
       "    }\n",
       "\n",
       "    .dataframe tbody tr th {\n",
       "        vertical-align: top;\n",
       "    }\n",
       "\n",
       "    .dataframe thead th {\n",
       "        text-align: right;\n",
       "    }\n",
       "</style>\n",
       "<table border=\"1\" class=\"dataframe\">\n",
       "  <thead>\n",
       "    <tr style=\"text-align: right;\">\n",
       "      <th></th>\n",
       "      <th>country_cd</th>\n",
       "      <th>timezone</th>\n",
       "      <th>robotid</th>\n",
       "    </tr>\n",
       "  </thead>\n",
       "  <tbody>\n",
       "    <tr>\n",
       "      <th>6363</th>\n",
       "      <td>NA</td>\n",
       "      <td>Africa/Windhoek</td>\n",
       "      <td>Z9JJM7JRIGJYLER2</td>\n",
       "    </tr>\n",
       "  </tbody>\n",
       "</table>\n",
       "</div>"
      ],
      "text/plain": [
       "     country_cd         timezone           robotid\n",
       "6363         NA  Africa/Windhoek  Z9JJM7JRIGJYLER2"
      ]
     },
     "execution_count": 18,
     "metadata": {},
     "output_type": "execute_result"
    }
   ],
   "source": [
    "# Filter by county_cd == NA to ensure the string was properly updated\n",
    "geo[geo.country_cd=='NA']"
   ]
  },
  {
   "cell_type": "code",
   "execution_count": 19,
   "id": "933356cd",
   "metadata": {},
   "outputs": [
    {
     "data": {
      "text/plain": [
       "country_cd    0\n",
       "timezone      0\n",
       "robotid       0\n",
       "dtype: int64"
      ]
     },
     "execution_count": 19,
     "metadata": {},
     "output_type": "execute_result"
    }
   ],
   "source": [
    "# Run one last check to ensure we have no missing values\n",
    "geo.isnull().sum()"
   ]
  },
  {
   "cell_type": "markdown",
   "id": "a6c4c178",
   "metadata": {},
   "source": [
    "## 1c. Initial Data Merging"
   ]
  },
  {
   "cell_type": "code",
   "execution_count": 20,
   "id": "546913f0",
   "metadata": {},
   "outputs": [
    {
     "data": {
      "text/html": [
       "<div>\n",
       "<style scoped>\n",
       "    .dataframe tbody tr th:only-of-type {\n",
       "        vertical-align: middle;\n",
       "    }\n",
       "\n",
       "    .dataframe tbody tr th {\n",
       "        vertical-align: top;\n",
       "    }\n",
       "\n",
       "    .dataframe thead th {\n",
       "        text-align: right;\n",
       "    }\n",
       "</style>\n",
       "<table border=\"1\" class=\"dataframe\">\n",
       "  <thead>\n",
       "    <tr style=\"text-align: right;\">\n",
       "      <th></th>\n",
       "      <th>robotid</th>\n",
       "      <th>datetime</th>\n",
       "      <th>nmssn</th>\n",
       "      <th>runm</th>\n",
       "      <th>chrgm</th>\n",
       "      <th>pausem</th>\n",
       "      <th>outcome</th>\n",
       "    </tr>\n",
       "  </thead>\n",
       "  <tbody>\n",
       "    <tr>\n",
       "      <th>0</th>\n",
       "      <td>000NG2FMLJBT9ANZ</td>\n",
       "      <td>2017-10-01 16:17:22</td>\n",
       "      <td>40</td>\n",
       "      <td>3</td>\n",
       "      <td>1</td>\n",
       "      <td>2</td>\n",
       "      <td>stuck</td>\n",
       "    </tr>\n",
       "    <tr>\n",
       "      <th>1</th>\n",
       "      <td>000NG2FMLJBT9ANZ</td>\n",
       "      <td>2017-10-03 14:25:56</td>\n",
       "      <td>41</td>\n",
       "      <td>83</td>\n",
       "      <td>0</td>\n",
       "      <td>13</td>\n",
       "      <td>ok</td>\n",
       "    </tr>\n",
       "    <tr>\n",
       "      <th>2</th>\n",
       "      <td>000NG2FMLJBT9ANZ</td>\n",
       "      <td>2017-10-04 12:32:51</td>\n",
       "      <td>42</td>\n",
       "      <td>66</td>\n",
       "      <td>13</td>\n",
       "      <td>12</td>\n",
       "      <td>ok</td>\n",
       "    </tr>\n",
       "    <tr>\n",
       "      <th>3</th>\n",
       "      <td>000NG2FMLJBT9ANZ</td>\n",
       "      <td>2017-10-26 02:12:55</td>\n",
       "      <td>45</td>\n",
       "      <td>72</td>\n",
       "      <td>24</td>\n",
       "      <td>0</td>\n",
       "      <td>cncl</td>\n",
       "    </tr>\n",
       "    <tr>\n",
       "      <th>4</th>\n",
       "      <td>000NG2FMLJBT9ANZ</td>\n",
       "      <td>2017-10-27 07:17:39</td>\n",
       "      <td>46</td>\n",
       "      <td>61</td>\n",
       "      <td>9</td>\n",
       "      <td>0</td>\n",
       "      <td>cncl</td>\n",
       "    </tr>\n",
       "  </tbody>\n",
       "</table>\n",
       "</div>"
      ],
      "text/plain": [
       "            robotid             datetime  nmssn  runm  chrgm  pausem outcome\n",
       "0  000NG2FMLJBT9ANZ  2017-10-01 16:17:22     40     3      1       2   stuck\n",
       "1  000NG2FMLJBT9ANZ  2017-10-03 14:25:56     41    83      0      13      ok\n",
       "2  000NG2FMLJBT9ANZ  2017-10-04 12:32:51     42    66     13      12      ok\n",
       "3  000NG2FMLJBT9ANZ  2017-10-26 02:12:55     45    72     24       0    cncl\n",
       "4  000NG2FMLJBT9ANZ  2017-10-27 07:17:39     46    61      9       0    cncl"
      ]
     },
     "execution_count": 20,
     "metadata": {},
     "output_type": "execute_result"
    }
   ],
   "source": [
    "# Reminding myself of what both dataframes look like in order to merge them together in one\n",
    "mission.head()"
   ]
  },
  {
   "cell_type": "code",
   "execution_count": 21,
   "id": "31f99f7e",
   "metadata": {},
   "outputs": [
    {
     "data": {
      "text/html": [
       "<div>\n",
       "<style scoped>\n",
       "    .dataframe tbody tr th:only-of-type {\n",
       "        vertical-align: middle;\n",
       "    }\n",
       "\n",
       "    .dataframe tbody tr th {\n",
       "        vertical-align: top;\n",
       "    }\n",
       "\n",
       "    .dataframe thead th {\n",
       "        text-align: right;\n",
       "    }\n",
       "</style>\n",
       "<table border=\"1\" class=\"dataframe\">\n",
       "  <thead>\n",
       "    <tr style=\"text-align: right;\">\n",
       "      <th></th>\n",
       "      <th>country_cd</th>\n",
       "      <th>timezone</th>\n",
       "      <th>robotid</th>\n",
       "    </tr>\n",
       "  </thead>\n",
       "  <tbody>\n",
       "    <tr>\n",
       "      <th>0</th>\n",
       "      <td>SE</td>\n",
       "      <td>Europe/Stockholm</td>\n",
       "      <td>T29NF13ZIYISNF79</td>\n",
       "    </tr>\n",
       "    <tr>\n",
       "      <th>1</th>\n",
       "      <td>JP</td>\n",
       "      <td>Asia/Tokyo</td>\n",
       "      <td>9S12V26O6G426OYR</td>\n",
       "    </tr>\n",
       "    <tr>\n",
       "      <th>2</th>\n",
       "      <td>IL</td>\n",
       "      <td>Asia/Jerusalem</td>\n",
       "      <td>QI6X3P9JKNILKKU1</td>\n",
       "    </tr>\n",
       "    <tr>\n",
       "      <th>3</th>\n",
       "      <td>IL</td>\n",
       "      <td>Asia/Jerusalem</td>\n",
       "      <td>7OMKNWMWA4XWC911</td>\n",
       "    </tr>\n",
       "    <tr>\n",
       "      <th>4</th>\n",
       "      <td>IL</td>\n",
       "      <td>Asia/Jerusalem</td>\n",
       "      <td>YO63CL0ZFK83SYCZ</td>\n",
       "    </tr>\n",
       "  </tbody>\n",
       "</table>\n",
       "</div>"
      ],
      "text/plain": [
       "  country_cd          timezone           robotid\n",
       "0         SE  Europe/Stockholm  T29NF13ZIYISNF79\n",
       "1         JP        Asia/Tokyo  9S12V26O6G426OYR\n",
       "2         IL    Asia/Jerusalem  QI6X3P9JKNILKKU1\n",
       "3         IL    Asia/Jerusalem  7OMKNWMWA4XWC911\n",
       "4         IL    Asia/Jerusalem  YO63CL0ZFK83SYCZ"
      ]
     },
     "execution_count": 21,
     "metadata": {},
     "output_type": "execute_result"
    }
   ],
   "source": [
    "geo.head()"
   ]
  },
  {
   "cell_type": "code",
   "execution_count": 22,
   "id": "5f90cb77",
   "metadata": {},
   "outputs": [
    {
     "name": "stdout",
     "output_type": "stream",
     "text": [
      "<class 'pandas.core.frame.DataFrame'>\n",
      "RangeIndex: 367679 entries, 0 to 367678\n",
      "Data columns (total 7 columns):\n",
      " #   Column    Non-Null Count   Dtype \n",
      "---  ------    --------------   ----- \n",
      " 0   robotid   367679 non-null  object\n",
      " 1   datetime  367679 non-null  object\n",
      " 2   nmssn     367679 non-null  int64 \n",
      " 3   runm      367679 non-null  int64 \n",
      " 4   chrgm     367679 non-null  int64 \n",
      " 5   pausem    367679 non-null  int64 \n",
      " 6   outcome   367679 non-null  object\n",
      "dtypes: int64(4), object(3)\n",
      "memory usage: 19.6+ MB\n"
     ]
    }
   ],
   "source": [
    "# Look at some high level dataframe information prior to merging\n",
    "mission.info()"
   ]
  },
  {
   "cell_type": "code",
   "execution_count": 23,
   "id": "9d370235",
   "metadata": {},
   "outputs": [
    {
     "name": "stdout",
     "output_type": "stream",
     "text": [
      "<class 'pandas.core.frame.DataFrame'>\n",
      "RangeIndex: 10000 entries, 0 to 9999\n",
      "Data columns (total 3 columns):\n",
      " #   Column      Non-Null Count  Dtype \n",
      "---  ------      --------------  ----- \n",
      " 0   country_cd  10000 non-null  object\n",
      " 1   timezone    10000 non-null  object\n",
      " 2   robotid     10000 non-null  object\n",
      "dtypes: object(3)\n",
      "memory usage: 234.5+ KB\n"
     ]
    }
   ],
   "source": [
    "# Look at some high level dataframe information prior to merging\n",
    "geo.info()"
   ]
  },
  {
   "cell_type": "code",
   "execution_count": 24,
   "id": "9d520c09",
   "metadata": {},
   "outputs": [],
   "source": [
    "# Converting the datime column from a string to a datetime\n",
    "mission['datetime'] = pd.to_datetime(mission['datetime'])"
   ]
  },
  {
   "cell_type": "code",
   "execution_count": 25,
   "id": "3ae1a5c8",
   "metadata": {},
   "outputs": [
    {
     "name": "stdout",
     "output_type": "stream",
     "text": [
      "<class 'pandas.core.frame.DataFrame'>\n",
      "RangeIndex: 367679 entries, 0 to 367678\n",
      "Data columns (total 7 columns):\n",
      " #   Column    Non-Null Count   Dtype         \n",
      "---  ------    --------------   -----         \n",
      " 0   robotid   367679 non-null  object        \n",
      " 1   datetime  367679 non-null  datetime64[ns]\n",
      " 2   nmssn     367679 non-null  int64         \n",
      " 3   runm      367679 non-null  int64         \n",
      " 4   chrgm     367679 non-null  int64         \n",
      " 5   pausem    367679 non-null  int64         \n",
      " 6   outcome   367679 non-null  object        \n",
      "dtypes: datetime64[ns](1), int64(4), object(2)\n",
      "memory usage: 19.6+ MB\n"
     ]
    }
   ],
   "source": [
    "# Confirming the datime column has the proper Dtype\n",
    "mission.info()"
   ]
  },
  {
   "cell_type": "code",
   "execution_count": 26,
   "id": "c1374129",
   "metadata": {},
   "outputs": [
    {
     "data": {
      "text/html": [
       "<div>\n",
       "<style scoped>\n",
       "    .dataframe tbody tr th:only-of-type {\n",
       "        vertical-align: middle;\n",
       "    }\n",
       "\n",
       "    .dataframe tbody tr th {\n",
       "        vertical-align: top;\n",
       "    }\n",
       "\n",
       "    .dataframe thead th {\n",
       "        text-align: right;\n",
       "    }\n",
       "</style>\n",
       "<table border=\"1\" class=\"dataframe\">\n",
       "  <thead>\n",
       "    <tr style=\"text-align: right;\">\n",
       "      <th></th>\n",
       "      <th>robotid</th>\n",
       "      <th>datetime</th>\n",
       "      <th>nmssn</th>\n",
       "      <th>runm</th>\n",
       "      <th>chrgm</th>\n",
       "      <th>pausem</th>\n",
       "      <th>outcome</th>\n",
       "      <th>country_cd</th>\n",
       "      <th>timezone</th>\n",
       "    </tr>\n",
       "  </thead>\n",
       "  <tbody>\n",
       "    <tr>\n",
       "      <th>0</th>\n",
       "      <td>000NG2FMLJBT9ANZ</td>\n",
       "      <td>2017-10-01 16:17:22</td>\n",
       "      <td>40</td>\n",
       "      <td>3</td>\n",
       "      <td>1</td>\n",
       "      <td>2</td>\n",
       "      <td>stuck</td>\n",
       "      <td>IL</td>\n",
       "      <td>Asia/Jerusalem</td>\n",
       "    </tr>\n",
       "    <tr>\n",
       "      <th>1</th>\n",
       "      <td>000NG2FMLJBT9ANZ</td>\n",
       "      <td>2017-10-03 14:25:56</td>\n",
       "      <td>41</td>\n",
       "      <td>83</td>\n",
       "      <td>0</td>\n",
       "      <td>13</td>\n",
       "      <td>ok</td>\n",
       "      <td>IL</td>\n",
       "      <td>Asia/Jerusalem</td>\n",
       "    </tr>\n",
       "    <tr>\n",
       "      <th>2</th>\n",
       "      <td>000NG2FMLJBT9ANZ</td>\n",
       "      <td>2017-10-04 12:32:51</td>\n",
       "      <td>42</td>\n",
       "      <td>66</td>\n",
       "      <td>13</td>\n",
       "      <td>12</td>\n",
       "      <td>ok</td>\n",
       "      <td>IL</td>\n",
       "      <td>Asia/Jerusalem</td>\n",
       "    </tr>\n",
       "    <tr>\n",
       "      <th>3</th>\n",
       "      <td>000NG2FMLJBT9ANZ</td>\n",
       "      <td>2017-10-26 02:12:55</td>\n",
       "      <td>45</td>\n",
       "      <td>72</td>\n",
       "      <td>24</td>\n",
       "      <td>0</td>\n",
       "      <td>cncl</td>\n",
       "      <td>IL</td>\n",
       "      <td>Asia/Jerusalem</td>\n",
       "    </tr>\n",
       "    <tr>\n",
       "      <th>4</th>\n",
       "      <td>000NG2FMLJBT9ANZ</td>\n",
       "      <td>2017-10-27 07:17:39</td>\n",
       "      <td>46</td>\n",
       "      <td>61</td>\n",
       "      <td>9</td>\n",
       "      <td>0</td>\n",
       "      <td>cncl</td>\n",
       "      <td>IL</td>\n",
       "      <td>Asia/Jerusalem</td>\n",
       "    </tr>\n",
       "    <tr>\n",
       "      <th>5</th>\n",
       "      <td>000Y9NBMJ77LQ7S7</td>\n",
       "      <td>2016-11-28 05:41:25</td>\n",
       "      <td>55</td>\n",
       "      <td>61</td>\n",
       "      <td>0</td>\n",
       "      <td>13</td>\n",
       "      <td>ok</td>\n",
       "      <td>JP</td>\n",
       "      <td>Asia/Tokyo</td>\n",
       "    </tr>\n",
       "    <tr>\n",
       "      <th>6</th>\n",
       "      <td>000Y9NBMJ77LQ7S7</td>\n",
       "      <td>2016-12-20 10:06:42</td>\n",
       "      <td>56</td>\n",
       "      <td>31</td>\n",
       "      <td>0</td>\n",
       "      <td>6</td>\n",
       "      <td>cncl</td>\n",
       "      <td>JP</td>\n",
       "      <td>Asia/Tokyo</td>\n",
       "    </tr>\n",
       "    <tr>\n",
       "      <th>7</th>\n",
       "      <td>000Y9NBMJ77LQ7S7</td>\n",
       "      <td>2017-02-18 03:16:40</td>\n",
       "      <td>57</td>\n",
       "      <td>11</td>\n",
       "      <td>0</td>\n",
       "      <td>2</td>\n",
       "      <td>cncl</td>\n",
       "      <td>JP</td>\n",
       "      <td>Asia/Tokyo</td>\n",
       "    </tr>\n",
       "    <tr>\n",
       "      <th>8</th>\n",
       "      <td>000Y9NBMJ77LQ7S7</td>\n",
       "      <td>2017-03-08 10:49:36</td>\n",
       "      <td>58</td>\n",
       "      <td>78</td>\n",
       "      <td>0</td>\n",
       "      <td>0</td>\n",
       "      <td>ok</td>\n",
       "      <td>JP</td>\n",
       "      <td>Asia/Tokyo</td>\n",
       "    </tr>\n",
       "    <tr>\n",
       "      <th>9</th>\n",
       "      <td>000Y9NBMJ77LQ7S7</td>\n",
       "      <td>2017-03-19 10:21:15</td>\n",
       "      <td>59</td>\n",
       "      <td>99</td>\n",
       "      <td>0</td>\n",
       "      <td>0</td>\n",
       "      <td>cncl</td>\n",
       "      <td>JP</td>\n",
       "      <td>Asia/Tokyo</td>\n",
       "    </tr>\n",
       "  </tbody>\n",
       "</table>\n",
       "</div>"
      ],
      "text/plain": [
       "            robotid            datetime  nmssn  runm  chrgm  pausem outcome  \\\n",
       "0  000NG2FMLJBT9ANZ 2017-10-01 16:17:22     40     3      1       2   stuck   \n",
       "1  000NG2FMLJBT9ANZ 2017-10-03 14:25:56     41    83      0      13      ok   \n",
       "2  000NG2FMLJBT9ANZ 2017-10-04 12:32:51     42    66     13      12      ok   \n",
       "3  000NG2FMLJBT9ANZ 2017-10-26 02:12:55     45    72     24       0    cncl   \n",
       "4  000NG2FMLJBT9ANZ 2017-10-27 07:17:39     46    61      9       0    cncl   \n",
       "5  000Y9NBMJ77LQ7S7 2016-11-28 05:41:25     55    61      0      13      ok   \n",
       "6  000Y9NBMJ77LQ7S7 2016-12-20 10:06:42     56    31      0       6    cncl   \n",
       "7  000Y9NBMJ77LQ7S7 2017-02-18 03:16:40     57    11      0       2    cncl   \n",
       "8  000Y9NBMJ77LQ7S7 2017-03-08 10:49:36     58    78      0       0      ok   \n",
       "9  000Y9NBMJ77LQ7S7 2017-03-19 10:21:15     59    99      0       0    cncl   \n",
       "\n",
       "  country_cd        timezone  \n",
       "0         IL  Asia/Jerusalem  \n",
       "1         IL  Asia/Jerusalem  \n",
       "2         IL  Asia/Jerusalem  \n",
       "3         IL  Asia/Jerusalem  \n",
       "4         IL  Asia/Jerusalem  \n",
       "5         JP      Asia/Tokyo  \n",
       "6         JP      Asia/Tokyo  \n",
       "7         JP      Asia/Tokyo  \n",
       "8         JP      Asia/Tokyo  \n",
       "9         JP      Asia/Tokyo  "
      ]
     },
     "execution_count": 26,
     "metadata": {},
     "output_type": "execute_result"
    }
   ],
   "source": [
    "# Now I merge the two dataframes, I want to keep all records from the mission dataset,\n",
    "# so I will use a left join. Both dataframes have a robotid and I will merge using that column\n",
    "mis_geo = pd.merge(\n",
    "    mission,\n",
    "    geo,\n",
    "    left_on='robotid',\n",
    "    right_on='robotid',\n",
    "    how='left'\n",
    ")\n",
    "# Using a left join, I will be able to see if we have mission data on robots but, missing location data\n",
    "mis_geo.head(10)"
   ]
  },
  {
   "cell_type": "code",
   "execution_count": 27,
   "id": "e39e6434",
   "metadata": {},
   "outputs": [
    {
     "data": {
      "text/plain": [
       "robotid       0\n",
       "datetime      0\n",
       "nmssn         0\n",
       "runm          0\n",
       "chrgm         0\n",
       "pausem        0\n",
       "outcome       0\n",
       "country_cd    0\n",
       "timezone      0\n",
       "dtype: int64"
      ]
     },
     "execution_count": 27,
     "metadata": {},
     "output_type": "execute_result"
    }
   ],
   "source": [
    "# Confirming we are not missing any data in the merged dataframe\n",
    "mis_geo.isna().sum()"
   ]
  },
  {
   "cell_type": "code",
   "execution_count": 28,
   "id": "76e8c484",
   "metadata": {},
   "outputs": [
    {
     "data": {
      "text/plain": [
       "(367679, 9)"
      ]
     },
     "execution_count": 28,
     "metadata": {},
     "output_type": "execute_result"
    }
   ],
   "source": [
    "mis_geo.shape"
   ]
  },
  {
   "cell_type": "markdown",
   "id": "c31ade03",
   "metadata": {},
   "source": [
    "# Step 2: Tasks\n",
    "\n",
    "Perform data analysis exploring use patterns of the typical robot user per country. Include relevant visualizations where appropriate.\n",
    "\n",
    "#### 2.1 Are there geographic differences in robot usage?\n",
    "* a: Data Exploration\n",
    "* b: Creating new columns Part I\n",
    "* c: Explore Geographic Differences (Number of Robots per Country)\n",
    "* d: Creating new columns Part II\n",
    "* e: Explore Geographic Differences (Mission Outcomes)\n",
    "* f: Explore Geographic Differences (Time of Day Usage)\n",
    "* g: Explore Geographic Differences for time spent cleaning, charging, paused and number of missions\n",
    "* h: Explore Geographic Differences (Robot Usage)\n",
    "\n",
    "#### 2.2 Address any possible effects of data loss on your findings.\n",
    "* a: Data Loss Investigation\n",
    "* b: Explore mission loss prior to mission # 50"
   ]
  },
  {
   "cell_type": "markdown",
   "id": "a5002e34",
   "metadata": {},
   "source": [
    "## 2.1a Data Exploration"
   ]
  },
  {
   "cell_type": "code",
   "execution_count": 29,
   "id": "e163aba6",
   "metadata": {},
   "outputs": [
    {
     "data": {
      "text/html": [
       "<div>\n",
       "<style scoped>\n",
       "    .dataframe tbody tr th:only-of-type {\n",
       "        vertical-align: middle;\n",
       "    }\n",
       "\n",
       "    .dataframe tbody tr th {\n",
       "        vertical-align: top;\n",
       "    }\n",
       "\n",
       "    .dataframe thead th {\n",
       "        text-align: right;\n",
       "    }\n",
       "</style>\n",
       "<table border=\"1\" class=\"dataframe\">\n",
       "  <thead>\n",
       "    <tr style=\"text-align: right;\">\n",
       "      <th></th>\n",
       "      <th>nmssn</th>\n",
       "      <th>runm</th>\n",
       "      <th>chrgm</th>\n",
       "      <th>pausem</th>\n",
       "    </tr>\n",
       "  </thead>\n",
       "  <tbody>\n",
       "    <tr>\n",
       "      <th>count</th>\n",
       "      <td>367679.000000</td>\n",
       "      <td>367679.000000</td>\n",
       "      <td>367679.000000</td>\n",
       "      <td>367679.000000</td>\n",
       "    </tr>\n",
       "    <tr>\n",
       "      <th>mean</th>\n",
       "      <td>73.258984</td>\n",
       "      <td>48.906383</td>\n",
       "      <td>5.152772</td>\n",
       "      <td>6.231351</td>\n",
       "    </tr>\n",
       "    <tr>\n",
       "      <th>std</th>\n",
       "      <td>35.749076</td>\n",
       "      <td>29.819507</td>\n",
       "      <td>8.364238</td>\n",
       "      <td>8.202553</td>\n",
       "    </tr>\n",
       "    <tr>\n",
       "      <th>min</th>\n",
       "      <td>1.000000</td>\n",
       "      <td>0.000000</td>\n",
       "      <td>0.000000</td>\n",
       "      <td>0.000000</td>\n",
       "    </tr>\n",
       "    <tr>\n",
       "      <th>25%</th>\n",
       "      <td>47.000000</td>\n",
       "      <td>27.000000</td>\n",
       "      <td>0.000000</td>\n",
       "      <td>0.000000</td>\n",
       "    </tr>\n",
       "    <tr>\n",
       "      <th>50%</th>\n",
       "      <td>71.000000</td>\n",
       "      <td>47.000000</td>\n",
       "      <td>0.000000</td>\n",
       "      <td>1.000000</td>\n",
       "    </tr>\n",
       "    <tr>\n",
       "      <th>75%</th>\n",
       "      <td>95.000000</td>\n",
       "      <td>70.000000</td>\n",
       "      <td>11.000000</td>\n",
       "      <td>12.000000</td>\n",
       "    </tr>\n",
       "    <tr>\n",
       "      <th>max</th>\n",
       "      <td>248.000000</td>\n",
       "      <td>144.000000</td>\n",
       "      <td>30.000000</td>\n",
       "      <td>40.000000</td>\n",
       "    </tr>\n",
       "  </tbody>\n",
       "</table>\n",
       "</div>"
      ],
      "text/plain": [
       "               nmssn           runm          chrgm         pausem\n",
       "count  367679.000000  367679.000000  367679.000000  367679.000000\n",
       "mean       73.258984      48.906383       5.152772       6.231351\n",
       "std        35.749076      29.819507       8.364238       8.202553\n",
       "min         1.000000       0.000000       0.000000       0.000000\n",
       "25%        47.000000      27.000000       0.000000       0.000000\n",
       "50%        71.000000      47.000000       0.000000       1.000000\n",
       "75%        95.000000      70.000000      11.000000      12.000000\n",
       "max       248.000000     144.000000      30.000000      40.000000"
      ]
     },
     "execution_count": 29,
     "metadata": {},
     "output_type": "execute_result"
    }
   ],
   "source": [
    "# Explore the descriptive statistics for the merged mission + geo_data dataframe\n",
    "mis_geo.describe()"
   ]
  },
  {
   "cell_type": "code",
   "execution_count": 30,
   "id": "aa76d951",
   "metadata": {},
   "outputs": [
    {
     "data": {
      "text/plain": [
       "IL    59.867167\n",
       "CN     5.726191\n",
       "FR     4.819149\n",
       "JP     3.193819\n",
       "CA     3.026009\n",
       "AT     2.871527\n",
       "DE     2.253052\n",
       "US     2.235918\n",
       "BE     1.393335\n",
       "NO     1.230421\n",
       "PL     1.193432\n",
       "IT     1.183369\n",
       "TW     1.124894\n",
       "RU     1.069683\n",
       "AU     0.843127\n",
       "Name: country_cd, dtype: float64"
      ]
     },
     "execution_count": 30,
     "metadata": {},
     "output_type": "execute_result"
    }
   ],
   "source": [
    "# For each country, show the percent of the total data it represents\n",
    "mis_geo.country_cd.value_counts(normalize=True).head(15)*100"
   ]
  },
  {
   "cell_type": "code",
   "execution_count": 31,
   "id": "9ef0159f",
   "metadata": {},
   "outputs": [
    {
     "data": {
      "text/plain": [
       "'87% of the data is represented by the top 10 countries'"
      ]
     },
     "execution_count": 31,
     "metadata": {},
     "output_type": "execute_result"
    }
   ],
   "source": [
    "# 87% of the data comes from the top 10 countries\n",
    "f\"{round(mis_geo.country_cd.value_counts(normalize=True).head(10).sum()*100)}% of the data is represented by the top 10 countries\""
   ]
  },
  {
   "cell_type": "code",
   "execution_count": 32,
   "id": "052efc82",
   "metadata": {},
   "outputs": [
    {
     "data": {
      "text/plain": [
       "'92% of the data is represented by the top 15 countries'"
      ]
     },
     "execution_count": 32,
     "metadata": {},
     "output_type": "execute_result"
    }
   ],
   "source": [
    "# 92% of the data comes from the top 15 countries\n",
    "f\"{round(mis_geo.country_cd.value_counts(normalize=True).head(15).sum()*100)}% of the data is represented by the top 15 countries\""
   ]
  },
  {
   "cell_type": "code",
   "execution_count": 33,
   "id": "4b7eabd3",
   "metadata": {},
   "outputs": [
    {
     "data": {
      "text/plain": [
       "'95% of the data is represented by the top 20 countries'"
      ]
     },
     "execution_count": 33,
     "metadata": {},
     "output_type": "execute_result"
    }
   ],
   "source": [
    "# 95% of the data comes from the top 20 countries\n",
    "f\"{round(mis_geo.country_cd.value_counts(normalize=True).head(20).sum()*100)}% of the data is represented by the top 20 countries\""
   ]
  },
  {
   "cell_type": "markdown",
   "id": "cf540365",
   "metadata": {},
   "source": [
    "## 2.1b Create new columns for deeper exploration and analysis"
   ]
  },
  {
   "cell_type": "code",
   "execution_count": 34,
   "id": "73eea85c",
   "metadata": {},
   "outputs": [
    {
     "data": {
      "text/html": [
       "<div>\n",
       "<style scoped>\n",
       "    .dataframe tbody tr th:only-of-type {\n",
       "        vertical-align: middle;\n",
       "    }\n",
       "\n",
       "    .dataframe tbody tr th {\n",
       "        vertical-align: top;\n",
       "    }\n",
       "\n",
       "    .dataframe thead th {\n",
       "        text-align: right;\n",
       "    }\n",
       "</style>\n",
       "<table border=\"1\" class=\"dataframe\">\n",
       "  <thead>\n",
       "    <tr style=\"text-align: right;\">\n",
       "      <th></th>\n",
       "      <th>country</th>\n",
       "      <th>country_cd</th>\n",
       "      <th>alpha_3</th>\n",
       "      <th>numeric_code</th>\n",
       "      <th>iso_3166_2</th>\n",
       "    </tr>\n",
       "  </thead>\n",
       "  <tbody>\n",
       "    <tr>\n",
       "      <th>0</th>\n",
       "      <td>Afghanistan</td>\n",
       "      <td>AF</td>\n",
       "      <td>AFG</td>\n",
       "      <td>4</td>\n",
       "      <td>ISO 3166-2:AF</td>\n",
       "    </tr>\n",
       "    <tr>\n",
       "      <th>1</th>\n",
       "      <td>Åland Islands</td>\n",
       "      <td>AX</td>\n",
       "      <td>ALA</td>\n",
       "      <td>248</td>\n",
       "      <td>ISO 3166-2:AX</td>\n",
       "    </tr>\n",
       "    <tr>\n",
       "      <th>2</th>\n",
       "      <td>Albania</td>\n",
       "      <td>AL</td>\n",
       "      <td>ALB</td>\n",
       "      <td>8</td>\n",
       "      <td>ISO 3166-2:AL</td>\n",
       "    </tr>\n",
       "    <tr>\n",
       "      <th>3</th>\n",
       "      <td>Algeria</td>\n",
       "      <td>DZ</td>\n",
       "      <td>DZA</td>\n",
       "      <td>12</td>\n",
       "      <td>ISO 3166-2:DZ</td>\n",
       "    </tr>\n",
       "    <tr>\n",
       "      <th>4</th>\n",
       "      <td>American Samoa</td>\n",
       "      <td>AS</td>\n",
       "      <td>ASM</td>\n",
       "      <td>16</td>\n",
       "      <td>ISO 3166-2:AS</td>\n",
       "    </tr>\n",
       "  </tbody>\n",
       "</table>\n",
       "</div>"
      ],
      "text/plain": [
       "          country country_cd alpha_3  numeric_code     iso_3166_2\n",
       "0     Afghanistan         AF     AFG             4  ISO 3166-2:AF\n",
       "1   Åland Islands         AX     ALA           248  ISO 3166-2:AX\n",
       "2         Albania         AL     ALB             8  ISO 3166-2:AL\n",
       "3         Algeria         DZ     DZA            12  ISO 3166-2:DZ\n",
       "4  American Samoa         AS     ASM            16  ISO 3166-2:AS"
      ]
     },
     "execution_count": 34,
     "metadata": {},
     "output_type": "execute_result"
    }
   ],
   "source": [
    "# Remind myself what the iso_codes df looks like\n",
    "iso_codes.head()"
   ]
  },
  {
   "cell_type": "code",
   "execution_count": 35,
   "id": "826bb286",
   "metadata": {},
   "outputs": [
    {
     "name": "stdout",
     "output_type": "stream",
     "text": [
      "<class 'pandas.core.frame.DataFrame'>\n",
      "RangeIndex: 246 entries, 0 to 245\n",
      "Data columns (total 5 columns):\n",
      " #   Column        Non-Null Count  Dtype \n",
      "---  ------        --------------  ----- \n",
      " 0   country       246 non-null    object\n",
      " 1   country_cd    246 non-null    object\n",
      " 2   alpha_3       246 non-null    object\n",
      " 3   numeric_code  246 non-null    int64 \n",
      " 4   iso_3166_2    246 non-null    object\n",
      "dtypes: int64(1), object(4)\n",
      "memory usage: 9.7+ KB\n"
     ]
    }
   ],
   "source": [
    "iso_codes.info()"
   ]
  },
  {
   "cell_type": "code",
   "execution_count": 36,
   "id": "8b420856",
   "metadata": {},
   "outputs": [
    {
     "data": {
      "text/html": [
       "<div>\n",
       "<style scoped>\n",
       "    .dataframe tbody tr th:only-of-type {\n",
       "        vertical-align: middle;\n",
       "    }\n",
       "\n",
       "    .dataframe tbody tr th {\n",
       "        vertical-align: top;\n",
       "    }\n",
       "\n",
       "    .dataframe thead th {\n",
       "        text-align: right;\n",
       "    }\n",
       "</style>\n",
       "<table border=\"1\" class=\"dataframe\">\n",
       "  <thead>\n",
       "    <tr style=\"text-align: right;\">\n",
       "      <th></th>\n",
       "      <th>robotid</th>\n",
       "      <th>datetime</th>\n",
       "      <th>nmssn</th>\n",
       "      <th>runm</th>\n",
       "      <th>chrgm</th>\n",
       "      <th>pausem</th>\n",
       "      <th>outcome</th>\n",
       "      <th>country_cd</th>\n",
       "      <th>timezone</th>\n",
       "      <th>country</th>\n",
       "    </tr>\n",
       "  </thead>\n",
       "  <tbody>\n",
       "    <tr>\n",
       "      <th>0</th>\n",
       "      <td>000NG2FMLJBT9ANZ</td>\n",
       "      <td>2017-10-01 16:17:22</td>\n",
       "      <td>40</td>\n",
       "      <td>3</td>\n",
       "      <td>1</td>\n",
       "      <td>2</td>\n",
       "      <td>stuck</td>\n",
       "      <td>IL</td>\n",
       "      <td>Asia/Jerusalem</td>\n",
       "      <td>Israel</td>\n",
       "    </tr>\n",
       "    <tr>\n",
       "      <th>1</th>\n",
       "      <td>000NG2FMLJBT9ANZ</td>\n",
       "      <td>2017-10-03 14:25:56</td>\n",
       "      <td>41</td>\n",
       "      <td>83</td>\n",
       "      <td>0</td>\n",
       "      <td>13</td>\n",
       "      <td>ok</td>\n",
       "      <td>IL</td>\n",
       "      <td>Asia/Jerusalem</td>\n",
       "      <td>Israel</td>\n",
       "    </tr>\n",
       "    <tr>\n",
       "      <th>2</th>\n",
       "      <td>000NG2FMLJBT9ANZ</td>\n",
       "      <td>2017-10-04 12:32:51</td>\n",
       "      <td>42</td>\n",
       "      <td>66</td>\n",
       "      <td>13</td>\n",
       "      <td>12</td>\n",
       "      <td>ok</td>\n",
       "      <td>IL</td>\n",
       "      <td>Asia/Jerusalem</td>\n",
       "      <td>Israel</td>\n",
       "    </tr>\n",
       "    <tr>\n",
       "      <th>3</th>\n",
       "      <td>000NG2FMLJBT9ANZ</td>\n",
       "      <td>2017-10-26 02:12:55</td>\n",
       "      <td>45</td>\n",
       "      <td>72</td>\n",
       "      <td>24</td>\n",
       "      <td>0</td>\n",
       "      <td>cncl</td>\n",
       "      <td>IL</td>\n",
       "      <td>Asia/Jerusalem</td>\n",
       "      <td>Israel</td>\n",
       "    </tr>\n",
       "    <tr>\n",
       "      <th>4</th>\n",
       "      <td>000NG2FMLJBT9ANZ</td>\n",
       "      <td>2017-10-27 07:17:39</td>\n",
       "      <td>46</td>\n",
       "      <td>61</td>\n",
       "      <td>9</td>\n",
       "      <td>0</td>\n",
       "      <td>cncl</td>\n",
       "      <td>IL</td>\n",
       "      <td>Asia/Jerusalem</td>\n",
       "      <td>Israel</td>\n",
       "    </tr>\n",
       "    <tr>\n",
       "      <th>5</th>\n",
       "      <td>000Y9NBMJ77LQ7S7</td>\n",
       "      <td>2016-11-28 05:41:25</td>\n",
       "      <td>55</td>\n",
       "      <td>61</td>\n",
       "      <td>0</td>\n",
       "      <td>13</td>\n",
       "      <td>ok</td>\n",
       "      <td>JP</td>\n",
       "      <td>Asia/Tokyo</td>\n",
       "      <td>Japan</td>\n",
       "    </tr>\n",
       "    <tr>\n",
       "      <th>6</th>\n",
       "      <td>000Y9NBMJ77LQ7S7</td>\n",
       "      <td>2016-12-20 10:06:42</td>\n",
       "      <td>56</td>\n",
       "      <td>31</td>\n",
       "      <td>0</td>\n",
       "      <td>6</td>\n",
       "      <td>cncl</td>\n",
       "      <td>JP</td>\n",
       "      <td>Asia/Tokyo</td>\n",
       "      <td>Japan</td>\n",
       "    </tr>\n",
       "    <tr>\n",
       "      <th>7</th>\n",
       "      <td>000Y9NBMJ77LQ7S7</td>\n",
       "      <td>2017-02-18 03:16:40</td>\n",
       "      <td>57</td>\n",
       "      <td>11</td>\n",
       "      <td>0</td>\n",
       "      <td>2</td>\n",
       "      <td>cncl</td>\n",
       "      <td>JP</td>\n",
       "      <td>Asia/Tokyo</td>\n",
       "      <td>Japan</td>\n",
       "    </tr>\n",
       "    <tr>\n",
       "      <th>8</th>\n",
       "      <td>000Y9NBMJ77LQ7S7</td>\n",
       "      <td>2017-03-08 10:49:36</td>\n",
       "      <td>58</td>\n",
       "      <td>78</td>\n",
       "      <td>0</td>\n",
       "      <td>0</td>\n",
       "      <td>ok</td>\n",
       "      <td>JP</td>\n",
       "      <td>Asia/Tokyo</td>\n",
       "      <td>Japan</td>\n",
       "    </tr>\n",
       "    <tr>\n",
       "      <th>9</th>\n",
       "      <td>000Y9NBMJ77LQ7S7</td>\n",
       "      <td>2017-03-19 10:21:15</td>\n",
       "      <td>59</td>\n",
       "      <td>99</td>\n",
       "      <td>0</td>\n",
       "      <td>0</td>\n",
       "      <td>cncl</td>\n",
       "      <td>JP</td>\n",
       "      <td>Asia/Tokyo</td>\n",
       "      <td>Japan</td>\n",
       "    </tr>\n",
       "  </tbody>\n",
       "</table>\n",
       "</div>"
      ],
      "text/plain": [
       "            robotid            datetime  nmssn  runm  chrgm  pausem outcome  \\\n",
       "0  000NG2FMLJBT9ANZ 2017-10-01 16:17:22     40     3      1       2   stuck   \n",
       "1  000NG2FMLJBT9ANZ 2017-10-03 14:25:56     41    83      0      13      ok   \n",
       "2  000NG2FMLJBT9ANZ 2017-10-04 12:32:51     42    66     13      12      ok   \n",
       "3  000NG2FMLJBT9ANZ 2017-10-26 02:12:55     45    72     24       0    cncl   \n",
       "4  000NG2FMLJBT9ANZ 2017-10-27 07:17:39     46    61      9       0    cncl   \n",
       "5  000Y9NBMJ77LQ7S7 2016-11-28 05:41:25     55    61      0      13      ok   \n",
       "6  000Y9NBMJ77LQ7S7 2016-12-20 10:06:42     56    31      0       6    cncl   \n",
       "7  000Y9NBMJ77LQ7S7 2017-02-18 03:16:40     57    11      0       2    cncl   \n",
       "8  000Y9NBMJ77LQ7S7 2017-03-08 10:49:36     58    78      0       0      ok   \n",
       "9  000Y9NBMJ77LQ7S7 2017-03-19 10:21:15     59    99      0       0    cncl   \n",
       "\n",
       "  country_cd        timezone country  \n",
       "0         IL  Asia/Jerusalem  Israel  \n",
       "1         IL  Asia/Jerusalem  Israel  \n",
       "2         IL  Asia/Jerusalem  Israel  \n",
       "3         IL  Asia/Jerusalem  Israel  \n",
       "4         IL  Asia/Jerusalem  Israel  \n",
       "5         JP      Asia/Tokyo   Japan  \n",
       "6         JP      Asia/Tokyo   Japan  \n",
       "7         JP      Asia/Tokyo   Japan  \n",
       "8         JP      Asia/Tokyo   Japan  \n",
       "9         JP      Asia/Tokyo   Japan  "
      ]
     },
     "execution_count": 36,
     "metadata": {},
     "output_type": "execute_result"
    }
   ],
   "source": [
    "# Now I merge the two dataframes, I want to keep all records from the mission dataset,\n",
    "# so I will use a left join. Both dataframes have a robotid and I will merge using that column\n",
    "mis_geo_iso = pd.merge(\n",
    "    mis_geo,\n",
    "    iso_codes[['country', 'country_cd']],\n",
    "    left_on='country_cd',\n",
    "    right_on='country_cd',\n",
    "    how='left'\n",
    ")\n",
    "# Take a look at the resulting df to ensure the output is as expected\n",
    "mis_geo_iso.head(10)"
   ]
  },
  {
   "cell_type": "code",
   "execution_count": 37,
   "id": "82752777",
   "metadata": {},
   "outputs": [
    {
     "name": "stdout",
     "output_type": "stream",
     "text": [
      "<class 'pandas.core.frame.DataFrame'>\n",
      "Int64Index: 367679 entries, 0 to 367678\n",
      "Data columns (total 10 columns):\n",
      " #   Column      Non-Null Count   Dtype         \n",
      "---  ------      --------------   -----         \n",
      " 0   robotid     367679 non-null  object        \n",
      " 1   datetime    367679 non-null  datetime64[ns]\n",
      " 2   nmssn       367679 non-null  int64         \n",
      " 3   runm        367679 non-null  int64         \n",
      " 4   chrgm       367679 non-null  int64         \n",
      " 5   pausem      367679 non-null  int64         \n",
      " 6   outcome     367679 non-null  object        \n",
      " 7   country_cd  367679 non-null  object        \n",
      " 8   timezone    367679 non-null  object        \n",
      " 9   country     367671 non-null  object        \n",
      "dtypes: datetime64[ns](1), int64(4), object(5)\n",
      "memory usage: 30.9+ MB\n"
     ]
    }
   ],
   "source": [
    "# Explore the column dats type information\n",
    "mis_geo_iso.info()"
   ]
  },
  {
   "cell_type": "markdown",
   "id": "318c4ab3",
   "metadata": {},
   "source": [
    "## 2.1c Explore Geographic Differences (Number of Robots per Country)\n"
   ]
  },
  {
   "cell_type": "code",
   "execution_count": 38,
   "id": "5592207b",
   "metadata": {},
   "outputs": [
    {
     "data": {
      "text/plain": [
       "country\n",
       "Israel     5956\n",
       "China       539\n",
       "France      481\n",
       "Japan       293\n",
       "Austria     285\n",
       "Name: robotid, dtype: int64"
      ]
     },
     "execution_count": 38,
     "metadata": {},
     "output_type": "execute_result"
    }
   ],
   "source": [
    "# Graph the count of unique robots per country for the top 10 countries\n",
    "country_robot_count = mis_geo_iso.groupby('country')['robotid'].nunique().sort_values(ascending=False).head(10)\n",
    "country_robot_count.head()"
   ]
  },
  {
   "cell_type": "code",
   "execution_count": 39,
   "id": "96ce9aac",
   "metadata": {},
   "outputs": [
    {
     "data": {
      "image/png": "[encoded data removed]",
      "text/plain": [
       "<Figure size 1296x432 with 1 Axes>"
      ]
     },
     "metadata": {
      "needs_background": "light"
     },
     "output_type": "display_data"
    }
   ],
   "source": [
    "fig, ax = plt.subplots(figsize=(18,6))\n",
    "\n",
    "bars = ax.bar(country_robot_count.index, country_robot_count, color='yellowgreen')\n",
    "\n",
    "ax.bar_label(bars,label_type='edge',size=13)\n",
    "\n",
    "plt.xticks(size=12)\n",
    "plt.yticks(size=12)\n",
    "# plt.xlabel('Country')\n",
    "ax.set_xlabel('Country', size = 16, c='grey')\n",
    "# plt.ylabel('Number of Robots')\n",
    "ax.set_ylabel('Number of Robots', size=16 ,c='grey')\n",
    "plt.title(\"Number of Robots per Country\", size =20, loc='left');\n",
    "\n",
    "plt.savefig(f\"plots/fig_2c.png\")"
   ]
  },
  {
   "cell_type": "markdown",
   "id": "38e81c02",
   "metadata": {},
   "source": [
    "## 2.1d Create new columns for local time, hour of day, and year_month\n"
   ]
  },
  {
   "cell_type": "markdown",
   "id": "88944cde",
   "metadata": {},
   "source": [
    "### The following is to create the local_time column:"
   ]
  },
  {
   "cell_type": "code",
   "execution_count": 40,
   "id": "7af4bd5c",
   "metadata": {},
   "outputs": [
    {
     "data": {
      "text/html": [
       "<div>\n",
       "<style scoped>\n",
       "    .dataframe tbody tr th:only-of-type {\n",
       "        vertical-align: middle;\n",
       "    }\n",
       "\n",
       "    .dataframe tbody tr th {\n",
       "        vertical-align: top;\n",
       "    }\n",
       "\n",
       "    .dataframe thead th {\n",
       "        text-align: right;\n",
       "    }\n",
       "</style>\n",
       "<table border=\"1\" class=\"dataframe\">\n",
       "  <thead>\n",
       "    <tr style=\"text-align: right;\">\n",
       "      <th></th>\n",
       "      <th>robotid</th>\n",
       "      <th>datetime</th>\n",
       "      <th>nmssn</th>\n",
       "      <th>runm</th>\n",
       "      <th>chrgm</th>\n",
       "      <th>pausem</th>\n",
       "      <th>outcome</th>\n",
       "      <th>country_cd</th>\n",
       "      <th>timezone</th>\n",
       "      <th>country</th>\n",
       "    </tr>\n",
       "  </thead>\n",
       "  <tbody>\n",
       "    <tr>\n",
       "      <th>0</th>\n",
       "      <td>000NG2FMLJBT9ANZ</td>\n",
       "      <td>2017-10-01 16:17:22</td>\n",
       "      <td>40</td>\n",
       "      <td>3</td>\n",
       "      <td>1</td>\n",
       "      <td>2</td>\n",
       "      <td>stuck</td>\n",
       "      <td>IL</td>\n",
       "      <td>Asia/Jerusalem</td>\n",
       "      <td>Israel</td>\n",
       "    </tr>\n",
       "    <tr>\n",
       "      <th>1</th>\n",
       "      <td>000NG2FMLJBT9ANZ</td>\n",
       "      <td>2017-10-03 14:25:56</td>\n",
       "      <td>41</td>\n",
       "      <td>83</td>\n",
       "      <td>0</td>\n",
       "      <td>13</td>\n",
       "      <td>ok</td>\n",
       "      <td>IL</td>\n",
       "      <td>Asia/Jerusalem</td>\n",
       "      <td>Israel</td>\n",
       "    </tr>\n",
       "    <tr>\n",
       "      <th>2</th>\n",
       "      <td>000NG2FMLJBT9ANZ</td>\n",
       "      <td>2017-10-04 12:32:51</td>\n",
       "      <td>42</td>\n",
       "      <td>66</td>\n",
       "      <td>13</td>\n",
       "      <td>12</td>\n",
       "      <td>ok</td>\n",
       "      <td>IL</td>\n",
       "      <td>Asia/Jerusalem</td>\n",
       "      <td>Israel</td>\n",
       "    </tr>\n",
       "    <tr>\n",
       "      <th>3</th>\n",
       "      <td>000NG2FMLJBT9ANZ</td>\n",
       "      <td>2017-10-26 02:12:55</td>\n",
       "      <td>45</td>\n",
       "      <td>72</td>\n",
       "      <td>24</td>\n",
       "      <td>0</td>\n",
       "      <td>cncl</td>\n",
       "      <td>IL</td>\n",
       "      <td>Asia/Jerusalem</td>\n",
       "      <td>Israel</td>\n",
       "    </tr>\n",
       "    <tr>\n",
       "      <th>4</th>\n",
       "      <td>000NG2FMLJBT9ANZ</td>\n",
       "      <td>2017-10-27 07:17:39</td>\n",
       "      <td>46</td>\n",
       "      <td>61</td>\n",
       "      <td>9</td>\n",
       "      <td>0</td>\n",
       "      <td>cncl</td>\n",
       "      <td>IL</td>\n",
       "      <td>Asia/Jerusalem</td>\n",
       "      <td>Israel</td>\n",
       "    </tr>\n",
       "  </tbody>\n",
       "</table>\n",
       "</div>"
      ],
      "text/plain": [
       "            robotid            datetime  nmssn  runm  chrgm  pausem outcome  \\\n",
       "0  000NG2FMLJBT9ANZ 2017-10-01 16:17:22     40     3      1       2   stuck   \n",
       "1  000NG2FMLJBT9ANZ 2017-10-03 14:25:56     41    83      0      13      ok   \n",
       "2  000NG2FMLJBT9ANZ 2017-10-04 12:32:51     42    66     13      12      ok   \n",
       "3  000NG2FMLJBT9ANZ 2017-10-26 02:12:55     45    72     24       0    cncl   \n",
       "4  000NG2FMLJBT9ANZ 2017-10-27 07:17:39     46    61      9       0    cncl   \n",
       "\n",
       "  country_cd        timezone country  \n",
       "0         IL  Asia/Jerusalem  Israel  \n",
       "1         IL  Asia/Jerusalem  Israel  \n",
       "2         IL  Asia/Jerusalem  Israel  \n",
       "3         IL  Asia/Jerusalem  Israel  \n",
       "4         IL  Asia/Jerusalem  Israel  "
      ]
     },
     "execution_count": 40,
     "metadata": {},
     "output_type": "execute_result"
    }
   ],
   "source": [
    "# Look at df again\n",
    "mis_geo_iso.head()"
   ]
  },
  {
   "cell_type": "code",
   "execution_count": 41,
   "id": "94169f59",
   "metadata": {},
   "outputs": [],
   "source": [
    "# Write a function to convert UTC to Local Time using datetime and timezone inputs\n",
    "def utc_to_local(df_datetime, df_timezone):\n",
    "    # Because I previously converted the datetime column to a datetime object,\n",
    "    # I need to convert it to a string for this function to work\n",
    "    utc_time = datetime.strptime(str(df_datetime), '%Y-%m-%d %H:%M:%S') \n",
    "    # Return a dateime.tzinfo implementation for the given timezone\n",
    "    tz = pytz.timezone(df_timezone)\n",
    "    # Replace method\n",
    "    utc_time = utc_time.replace(tzinfo=pytz.UTC)\n",
    "    # Astimezone method\n",
    "    local_time = utc_time.astimezone(tz)\n",
    "    return local_time"
   ]
  },
  {
   "cell_type": "code",
   "execution_count": 42,
   "id": "32fae11b",
   "metadata": {},
   "outputs": [
    {
     "data": {
      "text/html": [
       "<div>\n",
       "<style scoped>\n",
       "    .dataframe tbody tr th:only-of-type {\n",
       "        vertical-align: middle;\n",
       "    }\n",
       "\n",
       "    .dataframe tbody tr th {\n",
       "        vertical-align: top;\n",
       "    }\n",
       "\n",
       "    .dataframe thead th {\n",
       "        text-align: right;\n",
       "    }\n",
       "</style>\n",
       "<table border=\"1\" class=\"dataframe\">\n",
       "  <thead>\n",
       "    <tr style=\"text-align: right;\">\n",
       "      <th></th>\n",
       "      <th>robotid</th>\n",
       "      <th>datetime</th>\n",
       "      <th>nmssn</th>\n",
       "      <th>runm</th>\n",
       "      <th>chrgm</th>\n",
       "      <th>pausem</th>\n",
       "      <th>outcome</th>\n",
       "      <th>country_cd</th>\n",
       "      <th>timezone</th>\n",
       "      <th>country</th>\n",
       "      <th>local_time</th>\n",
       "    </tr>\n",
       "  </thead>\n",
       "  <tbody>\n",
       "    <tr>\n",
       "      <th>0</th>\n",
       "      <td>000NG2FMLJBT9ANZ</td>\n",
       "      <td>2017-10-01 16:17:22</td>\n",
       "      <td>40</td>\n",
       "      <td>3</td>\n",
       "      <td>1</td>\n",
       "      <td>2</td>\n",
       "      <td>stuck</td>\n",
       "      <td>IL</td>\n",
       "      <td>Asia/Jerusalem</td>\n",
       "      <td>Israel</td>\n",
       "      <td>2017-10-01 19:17:22+03:00</td>\n",
       "    </tr>\n",
       "    <tr>\n",
       "      <th>1</th>\n",
       "      <td>000NG2FMLJBT9ANZ</td>\n",
       "      <td>2017-10-03 14:25:56</td>\n",
       "      <td>41</td>\n",
       "      <td>83</td>\n",
       "      <td>0</td>\n",
       "      <td>13</td>\n",
       "      <td>ok</td>\n",
       "      <td>IL</td>\n",
       "      <td>Asia/Jerusalem</td>\n",
       "      <td>Israel</td>\n",
       "      <td>2017-10-03 17:25:56+03:00</td>\n",
       "    </tr>\n",
       "    <tr>\n",
       "      <th>2</th>\n",
       "      <td>000NG2FMLJBT9ANZ</td>\n",
       "      <td>2017-10-04 12:32:51</td>\n",
       "      <td>42</td>\n",
       "      <td>66</td>\n",
       "      <td>13</td>\n",
       "      <td>12</td>\n",
       "      <td>ok</td>\n",
       "      <td>IL</td>\n",
       "      <td>Asia/Jerusalem</td>\n",
       "      <td>Israel</td>\n",
       "      <td>2017-10-04 15:32:51+03:00</td>\n",
       "    </tr>\n",
       "    <tr>\n",
       "      <th>3</th>\n",
       "      <td>000NG2FMLJBT9ANZ</td>\n",
       "      <td>2017-10-26 02:12:55</td>\n",
       "      <td>45</td>\n",
       "      <td>72</td>\n",
       "      <td>24</td>\n",
       "      <td>0</td>\n",
       "      <td>cncl</td>\n",
       "      <td>IL</td>\n",
       "      <td>Asia/Jerusalem</td>\n",
       "      <td>Israel</td>\n",
       "      <td>2017-10-26 05:12:55+03:00</td>\n",
       "    </tr>\n",
       "    <tr>\n",
       "      <th>4</th>\n",
       "      <td>000NG2FMLJBT9ANZ</td>\n",
       "      <td>2017-10-27 07:17:39</td>\n",
       "      <td>46</td>\n",
       "      <td>61</td>\n",
       "      <td>9</td>\n",
       "      <td>0</td>\n",
       "      <td>cncl</td>\n",
       "      <td>IL</td>\n",
       "      <td>Asia/Jerusalem</td>\n",
       "      <td>Israel</td>\n",
       "      <td>2017-10-27 10:17:39+03:00</td>\n",
       "    </tr>\n",
       "  </tbody>\n",
       "</table>\n",
       "</div>"
      ],
      "text/plain": [
       "            robotid            datetime  nmssn  runm  chrgm  pausem outcome  \\\n",
       "0  000NG2FMLJBT9ANZ 2017-10-01 16:17:22     40     3      1       2   stuck   \n",
       "1  000NG2FMLJBT9ANZ 2017-10-03 14:25:56     41    83      0      13      ok   \n",
       "2  000NG2FMLJBT9ANZ 2017-10-04 12:32:51     42    66     13      12      ok   \n",
       "3  000NG2FMLJBT9ANZ 2017-10-26 02:12:55     45    72     24       0    cncl   \n",
       "4  000NG2FMLJBT9ANZ 2017-10-27 07:17:39     46    61      9       0    cncl   \n",
       "\n",
       "  country_cd        timezone country                 local_time  \n",
       "0         IL  Asia/Jerusalem  Israel  2017-10-01 19:17:22+03:00  \n",
       "1         IL  Asia/Jerusalem  Israel  2017-10-03 17:25:56+03:00  \n",
       "2         IL  Asia/Jerusalem  Israel  2017-10-04 15:32:51+03:00  \n",
       "3         IL  Asia/Jerusalem  Israel  2017-10-26 05:12:55+03:00  \n",
       "4         IL  Asia/Jerusalem  Israel  2017-10-27 10:17:39+03:00  "
      ]
     },
     "execution_count": 42,
     "metadata": {},
     "output_type": "execute_result"
    }
   ],
   "source": [
    "# Using my function created above, create a new column for local time using the datetime and timezone for each\n",
    "# row as the inputs to the function\n",
    "mis_geo_iso['local_time'] = mis_geo_iso.apply(lambda x: utc_to_local(x['datetime'], x['timezone']), axis=1)\n",
    "mis_geo_iso.head()"
   ]
  },
  {
   "cell_type": "markdown",
   "id": "218d7cdc",
   "metadata": {},
   "source": [
    "### The following is to create the hour_of_day column:"
   ]
  },
  {
   "cell_type": "code",
   "execution_count": 43,
   "id": "ac402137",
   "metadata": {},
   "outputs": [],
   "source": [
    "mis_geo_iso['hour_of_day'] = mis_geo_iso['local_time'].astype(str)"
   ]
  },
  {
   "cell_type": "code",
   "execution_count": 44,
   "id": "243a98ef",
   "metadata": {},
   "outputs": [
    {
     "data": {
      "text/html": [
       "<div>\n",
       "<style scoped>\n",
       "    .dataframe tbody tr th:only-of-type {\n",
       "        vertical-align: middle;\n",
       "    }\n",
       "\n",
       "    .dataframe tbody tr th {\n",
       "        vertical-align: top;\n",
       "    }\n",
       "\n",
       "    .dataframe thead th {\n",
       "        text-align: right;\n",
       "    }\n",
       "</style>\n",
       "<table border=\"1\" class=\"dataframe\">\n",
       "  <thead>\n",
       "    <tr style=\"text-align: right;\">\n",
       "      <th></th>\n",
       "      <th>robotid</th>\n",
       "      <th>datetime</th>\n",
       "      <th>nmssn</th>\n",
       "      <th>runm</th>\n",
       "      <th>chrgm</th>\n",
       "      <th>pausem</th>\n",
       "      <th>outcome</th>\n",
       "      <th>country_cd</th>\n",
       "      <th>timezone</th>\n",
       "      <th>country</th>\n",
       "      <th>local_time</th>\n",
       "      <th>hour_of_day</th>\n",
       "    </tr>\n",
       "  </thead>\n",
       "  <tbody>\n",
       "    <tr>\n",
       "      <th>0</th>\n",
       "      <td>000NG2FMLJBT9ANZ</td>\n",
       "      <td>2017-10-01 16:17:22</td>\n",
       "      <td>40</td>\n",
       "      <td>3</td>\n",
       "      <td>1</td>\n",
       "      <td>2</td>\n",
       "      <td>stuck</td>\n",
       "      <td>IL</td>\n",
       "      <td>Asia/Jerusalem</td>\n",
       "      <td>Israel</td>\n",
       "      <td>2017-10-01 19:17:22+03:00</td>\n",
       "      <td>2017-10-01 19:17:22+03:00</td>\n",
       "    </tr>\n",
       "    <tr>\n",
       "      <th>1</th>\n",
       "      <td>000NG2FMLJBT9ANZ</td>\n",
       "      <td>2017-10-03 14:25:56</td>\n",
       "      <td>41</td>\n",
       "      <td>83</td>\n",
       "      <td>0</td>\n",
       "      <td>13</td>\n",
       "      <td>ok</td>\n",
       "      <td>IL</td>\n",
       "      <td>Asia/Jerusalem</td>\n",
       "      <td>Israel</td>\n",
       "      <td>2017-10-03 17:25:56+03:00</td>\n",
       "      <td>2017-10-03 17:25:56+03:00</td>\n",
       "    </tr>\n",
       "    <tr>\n",
       "      <th>2</th>\n",
       "      <td>000NG2FMLJBT9ANZ</td>\n",
       "      <td>2017-10-04 12:32:51</td>\n",
       "      <td>42</td>\n",
       "      <td>66</td>\n",
       "      <td>13</td>\n",
       "      <td>12</td>\n",
       "      <td>ok</td>\n",
       "      <td>IL</td>\n",
       "      <td>Asia/Jerusalem</td>\n",
       "      <td>Israel</td>\n",
       "      <td>2017-10-04 15:32:51+03:00</td>\n",
       "      <td>2017-10-04 15:32:51+03:00</td>\n",
       "    </tr>\n",
       "    <tr>\n",
       "      <th>3</th>\n",
       "      <td>000NG2FMLJBT9ANZ</td>\n",
       "      <td>2017-10-26 02:12:55</td>\n",
       "      <td>45</td>\n",
       "      <td>72</td>\n",
       "      <td>24</td>\n",
       "      <td>0</td>\n",
       "      <td>cncl</td>\n",
       "      <td>IL</td>\n",
       "      <td>Asia/Jerusalem</td>\n",
       "      <td>Israel</td>\n",
       "      <td>2017-10-26 05:12:55+03:00</td>\n",
       "      <td>2017-10-26 05:12:55+03:00</td>\n",
       "    </tr>\n",
       "    <tr>\n",
       "      <th>4</th>\n",
       "      <td>000NG2FMLJBT9ANZ</td>\n",
       "      <td>2017-10-27 07:17:39</td>\n",
       "      <td>46</td>\n",
       "      <td>61</td>\n",
       "      <td>9</td>\n",
       "      <td>0</td>\n",
       "      <td>cncl</td>\n",
       "      <td>IL</td>\n",
       "      <td>Asia/Jerusalem</td>\n",
       "      <td>Israel</td>\n",
       "      <td>2017-10-27 10:17:39+03:00</td>\n",
       "      <td>2017-10-27 10:17:39+03:00</td>\n",
       "    </tr>\n",
       "  </tbody>\n",
       "</table>\n",
       "</div>"
      ],
      "text/plain": [
       "            robotid            datetime  nmssn  runm  chrgm  pausem outcome  \\\n",
       "0  000NG2FMLJBT9ANZ 2017-10-01 16:17:22     40     3      1       2   stuck   \n",
       "1  000NG2FMLJBT9ANZ 2017-10-03 14:25:56     41    83      0      13      ok   \n",
       "2  000NG2FMLJBT9ANZ 2017-10-04 12:32:51     42    66     13      12      ok   \n",
       "3  000NG2FMLJBT9ANZ 2017-10-26 02:12:55     45    72     24       0    cncl   \n",
       "4  000NG2FMLJBT9ANZ 2017-10-27 07:17:39     46    61      9       0    cncl   \n",
       "\n",
       "  country_cd        timezone country                 local_time  \\\n",
       "0         IL  Asia/Jerusalem  Israel  2017-10-01 19:17:22+03:00   \n",
       "1         IL  Asia/Jerusalem  Israel  2017-10-03 17:25:56+03:00   \n",
       "2         IL  Asia/Jerusalem  Israel  2017-10-04 15:32:51+03:00   \n",
       "3         IL  Asia/Jerusalem  Israel  2017-10-26 05:12:55+03:00   \n",
       "4         IL  Asia/Jerusalem  Israel  2017-10-27 10:17:39+03:00   \n",
       "\n",
       "                 hour_of_day  \n",
       "0  2017-10-01 19:17:22+03:00  \n",
       "1  2017-10-03 17:25:56+03:00  \n",
       "2  2017-10-04 15:32:51+03:00  \n",
       "3  2017-10-26 05:12:55+03:00  \n",
       "4  2017-10-27 10:17:39+03:00  "
      ]
     },
     "execution_count": 44,
     "metadata": {},
     "output_type": "execute_result"
    }
   ],
   "source": [
    "mis_geo_iso.head()"
   ]
  },
  {
   "cell_type": "code",
   "execution_count": 45,
   "id": "4c4d6cb9",
   "metadata": {},
   "outputs": [
    {
     "data": {
      "text/plain": [
       "'2017-10-01 19:17:22+03:00'"
      ]
     },
     "execution_count": 45,
     "metadata": {},
     "output_type": "execute_result"
    }
   ],
   "source": [
    "# Working with the new column to understand how I can manipulate it to extract the hour of the day\n",
    "# from the string\n",
    "mis_geo_iso['hour_of_day'][0]"
   ]
  },
  {
   "cell_type": "code",
   "execution_count": 46,
   "id": "1da77d10",
   "metadata": {},
   "outputs": [
    {
     "data": {
      "text/plain": [
       "'01 19:17:22+03:00'"
      ]
     },
     "execution_count": 46,
     "metadata": {},
     "output_type": "execute_result"
    }
   ],
   "source": [
    "mis_geo_iso['hour_of_day'][0].split('-')[2]"
   ]
  },
  {
   "cell_type": "code",
   "execution_count": 47,
   "id": "4144456f",
   "metadata": {},
   "outputs": [
    {
     "data": {
      "text/plain": [
       "['2017', '10', '01', '19', '17', '22+03', '00']"
      ]
     },
     "execution_count": 47,
     "metadata": {},
     "output_type": "execute_result"
    }
   ],
   "source": [
    "# I found this library through googling/stackoverflow as a way to split out a string\n",
    "# with multiple delimeters \n",
    "re.split('[- :]',mis_geo_iso['hour_of_day'][0])"
   ]
  },
  {
   "cell_type": "code",
   "execution_count": 48,
   "id": "c61c6d4a",
   "metadata": {},
   "outputs": [
    {
     "data": {
      "text/plain": [
       "'19'"
      ]
     },
     "execution_count": 48,
     "metadata": {},
     "output_type": "execute_result"
    }
   ],
   "source": [
    "re.split('[- :]',mis_geo_iso['hour_of_day'][0])[3]"
   ]
  },
  {
   "cell_type": "code",
   "execution_count": 49,
   "id": "bf09f86c",
   "metadata": {},
   "outputs": [],
   "source": [
    "# Extract the hour of the day from the datetime string\n",
    "mis_geo_iso['hour_of_day'] = mis_geo_iso['hour_of_day'].apply(lambda x: re.split('[- :]', x)[3])"
   ]
  },
  {
   "cell_type": "code",
   "execution_count": 50,
   "id": "15b8ae25",
   "metadata": {},
   "outputs": [
    {
     "data": {
      "text/html": [
       "<div>\n",
       "<style scoped>\n",
       "    .dataframe tbody tr th:only-of-type {\n",
       "        vertical-align: middle;\n",
       "    }\n",
       "\n",
       "    .dataframe tbody tr th {\n",
       "        vertical-align: top;\n",
       "    }\n",
       "\n",
       "    .dataframe thead th {\n",
       "        text-align: right;\n",
       "    }\n",
       "</style>\n",
       "<table border=\"1\" class=\"dataframe\">\n",
       "  <thead>\n",
       "    <tr style=\"text-align: right;\">\n",
       "      <th></th>\n",
       "      <th>robotid</th>\n",
       "      <th>datetime</th>\n",
       "      <th>nmssn</th>\n",
       "      <th>runm</th>\n",
       "      <th>chrgm</th>\n",
       "      <th>pausem</th>\n",
       "      <th>outcome</th>\n",
       "      <th>country_cd</th>\n",
       "      <th>timezone</th>\n",
       "      <th>country</th>\n",
       "      <th>local_time</th>\n",
       "      <th>hour_of_day</th>\n",
       "    </tr>\n",
       "  </thead>\n",
       "  <tbody>\n",
       "    <tr>\n",
       "      <th>0</th>\n",
       "      <td>000NG2FMLJBT9ANZ</td>\n",
       "      <td>2017-10-01 16:17:22</td>\n",
       "      <td>40</td>\n",
       "      <td>3</td>\n",
       "      <td>1</td>\n",
       "      <td>2</td>\n",
       "      <td>stuck</td>\n",
       "      <td>IL</td>\n",
       "      <td>Asia/Jerusalem</td>\n",
       "      <td>Israel</td>\n",
       "      <td>2017-10-01 19:17:22+03:00</td>\n",
       "      <td>19</td>\n",
       "    </tr>\n",
       "    <tr>\n",
       "      <th>1</th>\n",
       "      <td>000NG2FMLJBT9ANZ</td>\n",
       "      <td>2017-10-03 14:25:56</td>\n",
       "      <td>41</td>\n",
       "      <td>83</td>\n",
       "      <td>0</td>\n",
       "      <td>13</td>\n",
       "      <td>ok</td>\n",
       "      <td>IL</td>\n",
       "      <td>Asia/Jerusalem</td>\n",
       "      <td>Israel</td>\n",
       "      <td>2017-10-03 17:25:56+03:00</td>\n",
       "      <td>17</td>\n",
       "    </tr>\n",
       "    <tr>\n",
       "      <th>2</th>\n",
       "      <td>000NG2FMLJBT9ANZ</td>\n",
       "      <td>2017-10-04 12:32:51</td>\n",
       "      <td>42</td>\n",
       "      <td>66</td>\n",
       "      <td>13</td>\n",
       "      <td>12</td>\n",
       "      <td>ok</td>\n",
       "      <td>IL</td>\n",
       "      <td>Asia/Jerusalem</td>\n",
       "      <td>Israel</td>\n",
       "      <td>2017-10-04 15:32:51+03:00</td>\n",
       "      <td>15</td>\n",
       "    </tr>\n",
       "    <tr>\n",
       "      <th>3</th>\n",
       "      <td>000NG2FMLJBT9ANZ</td>\n",
       "      <td>2017-10-26 02:12:55</td>\n",
       "      <td>45</td>\n",
       "      <td>72</td>\n",
       "      <td>24</td>\n",
       "      <td>0</td>\n",
       "      <td>cncl</td>\n",
       "      <td>IL</td>\n",
       "      <td>Asia/Jerusalem</td>\n",
       "      <td>Israel</td>\n",
       "      <td>2017-10-26 05:12:55+03:00</td>\n",
       "      <td>05</td>\n",
       "    </tr>\n",
       "    <tr>\n",
       "      <th>4</th>\n",
       "      <td>000NG2FMLJBT9ANZ</td>\n",
       "      <td>2017-10-27 07:17:39</td>\n",
       "      <td>46</td>\n",
       "      <td>61</td>\n",
       "      <td>9</td>\n",
       "      <td>0</td>\n",
       "      <td>cncl</td>\n",
       "      <td>IL</td>\n",
       "      <td>Asia/Jerusalem</td>\n",
       "      <td>Israel</td>\n",
       "      <td>2017-10-27 10:17:39+03:00</td>\n",
       "      <td>10</td>\n",
       "    </tr>\n",
       "  </tbody>\n",
       "</table>\n",
       "</div>"
      ],
      "text/plain": [
       "            robotid            datetime  nmssn  runm  chrgm  pausem outcome  \\\n",
       "0  000NG2FMLJBT9ANZ 2017-10-01 16:17:22     40     3      1       2   stuck   \n",
       "1  000NG2FMLJBT9ANZ 2017-10-03 14:25:56     41    83      0      13      ok   \n",
       "2  000NG2FMLJBT9ANZ 2017-10-04 12:32:51     42    66     13      12      ok   \n",
       "3  000NG2FMLJBT9ANZ 2017-10-26 02:12:55     45    72     24       0    cncl   \n",
       "4  000NG2FMLJBT9ANZ 2017-10-27 07:17:39     46    61      9       0    cncl   \n",
       "\n",
       "  country_cd        timezone country                 local_time hour_of_day  \n",
       "0         IL  Asia/Jerusalem  Israel  2017-10-01 19:17:22+03:00          19  \n",
       "1         IL  Asia/Jerusalem  Israel  2017-10-03 17:25:56+03:00          17  \n",
       "2         IL  Asia/Jerusalem  Israel  2017-10-04 15:32:51+03:00          15  \n",
       "3         IL  Asia/Jerusalem  Israel  2017-10-26 05:12:55+03:00          05  \n",
       "4         IL  Asia/Jerusalem  Israel  2017-10-27 10:17:39+03:00          10  "
      ]
     },
     "execution_count": 50,
     "metadata": {},
     "output_type": "execute_result"
    }
   ],
   "source": [
    "# Confirm output is as expected\n",
    "mis_geo_iso.head()"
   ]
  },
  {
   "cell_type": "code",
   "execution_count": 51,
   "id": "e14ef34b",
   "metadata": {},
   "outputs": [
    {
     "data": {
      "text/html": [
       "<div>\n",
       "<style scoped>\n",
       "    .dataframe tbody tr th:only-of-type {\n",
       "        vertical-align: middle;\n",
       "    }\n",
       "\n",
       "    .dataframe tbody tr th {\n",
       "        vertical-align: top;\n",
       "    }\n",
       "\n",
       "    .dataframe thead th {\n",
       "        text-align: right;\n",
       "    }\n",
       "</style>\n",
       "<table border=\"1\" class=\"dataframe\">\n",
       "  <thead>\n",
       "    <tr style=\"text-align: right;\">\n",
       "      <th></th>\n",
       "      <th>robotid</th>\n",
       "      <th>datetime</th>\n",
       "      <th>nmssn</th>\n",
       "      <th>runm</th>\n",
       "      <th>chrgm</th>\n",
       "      <th>pausem</th>\n",
       "      <th>outcome</th>\n",
       "      <th>country_cd</th>\n",
       "      <th>timezone</th>\n",
       "      <th>country</th>\n",
       "      <th>local_time</th>\n",
       "      <th>hour_of_day</th>\n",
       "    </tr>\n",
       "  </thead>\n",
       "  <tbody>\n",
       "    <tr>\n",
       "      <th>4648</th>\n",
       "      <td>0FSBUWPW1RJW8CBQ</td>\n",
       "      <td>2017-05-03 23:17:47</td>\n",
       "      <td>12</td>\n",
       "      <td>53</td>\n",
       "      <td>0</td>\n",
       "      <td>11</td>\n",
       "      <td>ok</td>\n",
       "      <td>US</td>\n",
       "      <td>America/Los_Angeles</td>\n",
       "      <td>United States</td>\n",
       "      <td>2017-05-03 16:17:47-07:00</td>\n",
       "      <td>16</td>\n",
       "    </tr>\n",
       "    <tr>\n",
       "      <th>4649</th>\n",
       "      <td>0FSBUWPW1RJW8CBQ</td>\n",
       "      <td>2017-05-06 07:31:56</td>\n",
       "      <td>13</td>\n",
       "      <td>18</td>\n",
       "      <td>0</td>\n",
       "      <td>4</td>\n",
       "      <td>cncl</td>\n",
       "      <td>US</td>\n",
       "      <td>America/Los_Angeles</td>\n",
       "      <td>United States</td>\n",
       "      <td>2017-05-06 00:31:56-07:00</td>\n",
       "      <td>00</td>\n",
       "    </tr>\n",
       "    <tr>\n",
       "      <th>4650</th>\n",
       "      <td>0FSBUWPW1RJW8CBQ</td>\n",
       "      <td>2017-06-03 16:16:53</td>\n",
       "      <td>14</td>\n",
       "      <td>109</td>\n",
       "      <td>0</td>\n",
       "      <td>0</td>\n",
       "      <td>ok</td>\n",
       "      <td>US</td>\n",
       "      <td>America/Los_Angeles</td>\n",
       "      <td>United States</td>\n",
       "      <td>2017-06-03 09:16:53-07:00</td>\n",
       "      <td>09</td>\n",
       "    </tr>\n",
       "    <tr>\n",
       "      <th>4651</th>\n",
       "      <td>0FSBUWPW1RJW8CBQ</td>\n",
       "      <td>2017-08-11 00:19:10</td>\n",
       "      <td>15</td>\n",
       "      <td>96</td>\n",
       "      <td>0</td>\n",
       "      <td>0</td>\n",
       "      <td>ok</td>\n",
       "      <td>US</td>\n",
       "      <td>America/Los_Angeles</td>\n",
       "      <td>United States</td>\n",
       "      <td>2017-08-10 17:19:10-07:00</td>\n",
       "      <td>17</td>\n",
       "    </tr>\n",
       "    <tr>\n",
       "      <th>4652</th>\n",
       "      <td>0FSBUWPW1RJW8CBQ</td>\n",
       "      <td>2017-08-16 04:28:17</td>\n",
       "      <td>16</td>\n",
       "      <td>75</td>\n",
       "      <td>0</td>\n",
       "      <td>0</td>\n",
       "      <td>ok</td>\n",
       "      <td>US</td>\n",
       "      <td>America/Los_Angeles</td>\n",
       "      <td>United States</td>\n",
       "      <td>2017-08-15 21:28:17-07:00</td>\n",
       "      <td>21</td>\n",
       "    </tr>\n",
       "  </tbody>\n",
       "</table>\n",
       "</div>"
      ],
      "text/plain": [
       "               robotid            datetime  nmssn  runm  chrgm  pausem  \\\n",
       "4648  0FSBUWPW1RJW8CBQ 2017-05-03 23:17:47     12    53      0      11   \n",
       "4649  0FSBUWPW1RJW8CBQ 2017-05-06 07:31:56     13    18      0       4   \n",
       "4650  0FSBUWPW1RJW8CBQ 2017-06-03 16:16:53     14   109      0       0   \n",
       "4651  0FSBUWPW1RJW8CBQ 2017-08-11 00:19:10     15    96      0       0   \n",
       "4652  0FSBUWPW1RJW8CBQ 2017-08-16 04:28:17     16    75      0       0   \n",
       "\n",
       "     outcome country_cd             timezone        country  \\\n",
       "4648      ok         US  America/Los_Angeles  United States   \n",
       "4649    cncl         US  America/Los_Angeles  United States   \n",
       "4650      ok         US  America/Los_Angeles  United States   \n",
       "4651      ok         US  America/Los_Angeles  United States   \n",
       "4652      ok         US  America/Los_Angeles  United States   \n",
       "\n",
       "                     local_time hour_of_day  \n",
       "4648  2017-05-03 16:17:47-07:00          16  \n",
       "4649  2017-05-06 00:31:56-07:00          00  \n",
       "4650  2017-06-03 09:16:53-07:00          09  \n",
       "4651  2017-08-10 17:19:10-07:00          17  \n",
       "4652  2017-08-15 21:28:17-07:00          21  "
      ]
     },
     "execution_count": 51,
     "metadata": {},
     "output_type": "execute_result"
    }
   ],
   "source": [
    "# Confirm local time and hour of day are correct as expected\n",
    "mis_geo_iso[mis_geo_iso['timezone']=='America/Los_Angeles'].head()"
   ]
  },
  {
   "cell_type": "markdown",
   "id": "9ecfbdbe",
   "metadata": {},
   "source": [
    "### The following is to create the year_month column:"
   ]
  },
  {
   "cell_type": "code",
   "execution_count": 52,
   "id": "6dc56631",
   "metadata": {},
   "outputs": [
    {
     "data": {
      "text/html": [
       "<div>\n",
       "<style scoped>\n",
       "    .dataframe tbody tr th:only-of-type {\n",
       "        vertical-align: middle;\n",
       "    }\n",
       "\n",
       "    .dataframe tbody tr th {\n",
       "        vertical-align: top;\n",
       "    }\n",
       "\n",
       "    .dataframe thead th {\n",
       "        text-align: right;\n",
       "    }\n",
       "</style>\n",
       "<table border=\"1\" class=\"dataframe\">\n",
       "  <thead>\n",
       "    <tr style=\"text-align: right;\">\n",
       "      <th></th>\n",
       "      <th>robotid</th>\n",
       "      <th>datetime</th>\n",
       "      <th>nmssn</th>\n",
       "      <th>runm</th>\n",
       "      <th>chrgm</th>\n",
       "      <th>pausem</th>\n",
       "      <th>outcome</th>\n",
       "      <th>country_cd</th>\n",
       "      <th>timezone</th>\n",
       "      <th>country</th>\n",
       "      <th>local_time</th>\n",
       "      <th>hour_of_day</th>\n",
       "      <th>year_month</th>\n",
       "    </tr>\n",
       "  </thead>\n",
       "  <tbody>\n",
       "    <tr>\n",
       "      <th>0</th>\n",
       "      <td>000NG2FMLJBT9ANZ</td>\n",
       "      <td>2017-10-01 16:17:22</td>\n",
       "      <td>40</td>\n",
       "      <td>3</td>\n",
       "      <td>1</td>\n",
       "      <td>2</td>\n",
       "      <td>stuck</td>\n",
       "      <td>IL</td>\n",
       "      <td>Asia/Jerusalem</td>\n",
       "      <td>Israel</td>\n",
       "      <td>2017-10-01 19:17:22+03:00</td>\n",
       "      <td>19</td>\n",
       "      <td>2017-10</td>\n",
       "    </tr>\n",
       "    <tr>\n",
       "      <th>1</th>\n",
       "      <td>000NG2FMLJBT9ANZ</td>\n",
       "      <td>2017-10-03 14:25:56</td>\n",
       "      <td>41</td>\n",
       "      <td>83</td>\n",
       "      <td>0</td>\n",
       "      <td>13</td>\n",
       "      <td>ok</td>\n",
       "      <td>IL</td>\n",
       "      <td>Asia/Jerusalem</td>\n",
       "      <td>Israel</td>\n",
       "      <td>2017-10-03 17:25:56+03:00</td>\n",
       "      <td>17</td>\n",
       "      <td>2017-10</td>\n",
       "    </tr>\n",
       "    <tr>\n",
       "      <th>2</th>\n",
       "      <td>000NG2FMLJBT9ANZ</td>\n",
       "      <td>2017-10-04 12:32:51</td>\n",
       "      <td>42</td>\n",
       "      <td>66</td>\n",
       "      <td>13</td>\n",
       "      <td>12</td>\n",
       "      <td>ok</td>\n",
       "      <td>IL</td>\n",
       "      <td>Asia/Jerusalem</td>\n",
       "      <td>Israel</td>\n",
       "      <td>2017-10-04 15:32:51+03:00</td>\n",
       "      <td>15</td>\n",
       "      <td>2017-10</td>\n",
       "    </tr>\n",
       "    <tr>\n",
       "      <th>3</th>\n",
       "      <td>000NG2FMLJBT9ANZ</td>\n",
       "      <td>2017-10-26 02:12:55</td>\n",
       "      <td>45</td>\n",
       "      <td>72</td>\n",
       "      <td>24</td>\n",
       "      <td>0</td>\n",
       "      <td>cncl</td>\n",
       "      <td>IL</td>\n",
       "      <td>Asia/Jerusalem</td>\n",
       "      <td>Israel</td>\n",
       "      <td>2017-10-26 05:12:55+03:00</td>\n",
       "      <td>05</td>\n",
       "      <td>2017-10</td>\n",
       "    </tr>\n",
       "    <tr>\n",
       "      <th>4</th>\n",
       "      <td>000NG2FMLJBT9ANZ</td>\n",
       "      <td>2017-10-27 07:17:39</td>\n",
       "      <td>46</td>\n",
       "      <td>61</td>\n",
       "      <td>9</td>\n",
       "      <td>0</td>\n",
       "      <td>cncl</td>\n",
       "      <td>IL</td>\n",
       "      <td>Asia/Jerusalem</td>\n",
       "      <td>Israel</td>\n",
       "      <td>2017-10-27 10:17:39+03:00</td>\n",
       "      <td>10</td>\n",
       "      <td>2017-10</td>\n",
       "    </tr>\n",
       "  </tbody>\n",
       "</table>\n",
       "</div>"
      ],
      "text/plain": [
       "            robotid            datetime  nmssn  runm  chrgm  pausem outcome  \\\n",
       "0  000NG2FMLJBT9ANZ 2017-10-01 16:17:22     40     3      1       2   stuck   \n",
       "1  000NG2FMLJBT9ANZ 2017-10-03 14:25:56     41    83      0      13      ok   \n",
       "2  000NG2FMLJBT9ANZ 2017-10-04 12:32:51     42    66     13      12      ok   \n",
       "3  000NG2FMLJBT9ANZ 2017-10-26 02:12:55     45    72     24       0    cncl   \n",
       "4  000NG2FMLJBT9ANZ 2017-10-27 07:17:39     46    61      9       0    cncl   \n",
       "\n",
       "  country_cd        timezone country                 local_time hour_of_day  \\\n",
       "0         IL  Asia/Jerusalem  Israel  2017-10-01 19:17:22+03:00          19   \n",
       "1         IL  Asia/Jerusalem  Israel  2017-10-03 17:25:56+03:00          17   \n",
       "2         IL  Asia/Jerusalem  Israel  2017-10-04 15:32:51+03:00          15   \n",
       "3         IL  Asia/Jerusalem  Israel  2017-10-26 05:12:55+03:00          05   \n",
       "4         IL  Asia/Jerusalem  Israel  2017-10-27 10:17:39+03:00          10   \n",
       "\n",
       "  year_month  \n",
       "0    2017-10  \n",
       "1    2017-10  \n",
       "2    2017-10  \n",
       "3    2017-10  \n",
       "4    2017-10  "
      ]
     },
     "execution_count": 52,
     "metadata": {},
     "output_type": "execute_result"
    }
   ],
   "source": [
    "#if the date format comes in datetime, we can also extract the day/month/year using the to_period function\n",
    "#where 'D', 'M', 'Y' are inputs\n",
    "mis_geo_iso['year_month'] = pd.to_datetime(mis_geo_iso['datetime']).dt.to_period('M')\n",
    "mis_geo_iso.head()"
   ]
  },
  {
   "cell_type": "code",
   "execution_count": 53,
   "id": "aabd36b8",
   "metadata": {},
   "outputs": [
    {
     "name": "stdout",
     "output_type": "stream",
     "text": [
      "<class 'pandas.core.frame.DataFrame'>\n",
      "Int64Index: 367679 entries, 0 to 367678\n",
      "Data columns (total 13 columns):\n",
      " #   Column       Non-Null Count   Dtype         \n",
      "---  ------       --------------   -----         \n",
      " 0   robotid      367679 non-null  object        \n",
      " 1   datetime     367679 non-null  datetime64[ns]\n",
      " 2   nmssn        367679 non-null  int64         \n",
      " 3   runm         367679 non-null  int64         \n",
      " 4   chrgm        367679 non-null  int64         \n",
      " 5   pausem       367679 non-null  int64         \n",
      " 6   outcome      367679 non-null  object        \n",
      " 7   country_cd   367679 non-null  object        \n",
      " 8   timezone     367679 non-null  object        \n",
      " 9   country      367671 non-null  object        \n",
      " 10  local_time   367679 non-null  object        \n",
      " 11  hour_of_day  367679 non-null  object        \n",
      " 12  year_month   367679 non-null  period[M]     \n",
      "dtypes: datetime64[ns](1), int64(4), object(7), period[M](1)\n",
      "memory usage: 47.3+ MB\n"
     ]
    }
   ],
   "source": [
    "# the year_month column has a data type of period, which we will need to convert back to a datetime, or\n",
    "# string for visualization purposes\n",
    "mis_geo_iso.info()"
   ]
  },
  {
   "cell_type": "markdown",
   "id": "c2cd02a9",
   "metadata": {},
   "source": [
    "## 2.1e Explore Geographic Differences (Mission Outcomes)\n",
    "\n",
    "I will create new dataframes, one for each of the top 10 countries as identified by robot count above.\n",
    "Then, I will explore the mission outcome distribution for each of the top 10 countries."
   ]
  },
  {
   "cell_type": "code",
   "execution_count": 54,
   "id": "e19ea451",
   "metadata": {},
   "outputs": [],
   "source": [
    "top_countries = ['Israel', 'China', 'France', 'Japan', 'Austria', 'Canada', 'United States', 'Germany',\n",
    "                   'Belgium', 'Poland']"
   ]
  },
  {
   "cell_type": "code",
   "execution_count": 55,
   "id": "97d414f5",
   "metadata": {},
   "outputs": [],
   "source": [
    "# Using a for loop, create a list of dataframes\n",
    "list_of_df = []\n",
    "\n",
    "for country in top_countries:\n",
    "    list_of_df.append(mis_geo_iso.loc[mis_geo_iso['country']== country,:])"
   ]
  },
  {
   "cell_type": "code",
   "execution_count": 56,
   "id": "73df6ec3",
   "metadata": {},
   "outputs": [],
   "source": [
    "# Assign the dataframes to each respective country\n",
    "israel = list_of_df[0]\n",
    "china = list_of_df[1]\n",
    "france = list_of_df[2]\n",
    "japan = list_of_df[3]\n",
    "austria = list_of_df[4]\n",
    "canada = list_of_df[5]\n",
    "united_states = list_of_df[6]\n",
    "germany = list_of_df[7]\n",
    "belgium = list_of_df[8]\n",
    "poland = list_of_df[9]"
   ]
  },
  {
   "cell_type": "code",
   "execution_count": 57,
   "id": "fdfafaa9",
   "metadata": {},
   "outputs": [
    {
     "data": {
      "text/html": [
       "<div>\n",
       "<style scoped>\n",
       "    .dataframe tbody tr th:only-of-type {\n",
       "        vertical-align: middle;\n",
       "    }\n",
       "\n",
       "    .dataframe tbody tr th {\n",
       "        vertical-align: top;\n",
       "    }\n",
       "\n",
       "    .dataframe thead th {\n",
       "        text-align: right;\n",
       "    }\n",
       "</style>\n",
       "<table border=\"1\" class=\"dataframe\">\n",
       "  <thead>\n",
       "    <tr style=\"text-align: right;\">\n",
       "      <th></th>\n",
       "      <th>robotid</th>\n",
       "      <th>datetime</th>\n",
       "      <th>nmssn</th>\n",
       "      <th>runm</th>\n",
       "      <th>chrgm</th>\n",
       "      <th>pausem</th>\n",
       "      <th>outcome</th>\n",
       "      <th>country_cd</th>\n",
       "      <th>timezone</th>\n",
       "      <th>country</th>\n",
       "      <th>local_time</th>\n",
       "      <th>hour_of_day</th>\n",
       "      <th>year_month</th>\n",
       "    </tr>\n",
       "  </thead>\n",
       "  <tbody>\n",
       "    <tr>\n",
       "      <th>277</th>\n",
       "      <td>024GL5LMHXQ4AXA5</td>\n",
       "      <td>2017-08-03 08:52:05</td>\n",
       "      <td>22</td>\n",
       "      <td>34</td>\n",
       "      <td>0</td>\n",
       "      <td>0</td>\n",
       "      <td>ok</td>\n",
       "      <td>CN</td>\n",
       "      <td>Asia/Shanghai</td>\n",
       "      <td>China</td>\n",
       "      <td>2017-08-03 16:52:05+08:00</td>\n",
       "      <td>16</td>\n",
       "      <td>2017-08</td>\n",
       "    </tr>\n",
       "    <tr>\n",
       "      <th>278</th>\n",
       "      <td>024GL5LMHXQ4AXA5</td>\n",
       "      <td>2017-08-03 02:39:11</td>\n",
       "      <td>23</td>\n",
       "      <td>66</td>\n",
       "      <td>0</td>\n",
       "      <td>0</td>\n",
       "      <td>ok</td>\n",
       "      <td>CN</td>\n",
       "      <td>Asia/Shanghai</td>\n",
       "      <td>China</td>\n",
       "      <td>2017-08-03 10:39:11+08:00</td>\n",
       "      <td>10</td>\n",
       "      <td>2017-08</td>\n",
       "    </tr>\n",
       "    <tr>\n",
       "      <th>279</th>\n",
       "      <td>024GL5LMHXQ4AXA5</td>\n",
       "      <td>2017-08-03 05:49:15</td>\n",
       "      <td>24</td>\n",
       "      <td>4</td>\n",
       "      <td>0</td>\n",
       "      <td>0</td>\n",
       "      <td>ok</td>\n",
       "      <td>CN</td>\n",
       "      <td>Asia/Shanghai</td>\n",
       "      <td>China</td>\n",
       "      <td>2017-08-03 13:49:15+08:00</td>\n",
       "      <td>13</td>\n",
       "      <td>2017-08</td>\n",
       "    </tr>\n",
       "    <tr>\n",
       "      <th>280</th>\n",
       "      <td>024GL5LMHXQ4AXA5</td>\n",
       "      <td>2017-08-03 02:47:32</td>\n",
       "      <td>25</td>\n",
       "      <td>67</td>\n",
       "      <td>0</td>\n",
       "      <td>0</td>\n",
       "      <td>ok</td>\n",
       "      <td>CN</td>\n",
       "      <td>Asia/Shanghai</td>\n",
       "      <td>China</td>\n",
       "      <td>2017-08-03 10:47:32+08:00</td>\n",
       "      <td>10</td>\n",
       "      <td>2017-08</td>\n",
       "    </tr>\n",
       "    <tr>\n",
       "      <th>281</th>\n",
       "      <td>024GL5LMHXQ4AXA5</td>\n",
       "      <td>2017-08-02 19:50:49</td>\n",
       "      <td>28</td>\n",
       "      <td>41</td>\n",
       "      <td>0</td>\n",
       "      <td>0</td>\n",
       "      <td>ok</td>\n",
       "      <td>CN</td>\n",
       "      <td>Asia/Shanghai</td>\n",
       "      <td>China</td>\n",
       "      <td>2017-08-03 03:50:49+08:00</td>\n",
       "      <td>03</td>\n",
       "      <td>2017-08</td>\n",
       "    </tr>\n",
       "  </tbody>\n",
       "</table>\n",
       "</div>"
      ],
      "text/plain": [
       "              robotid            datetime  nmssn  runm  chrgm  pausem outcome  \\\n",
       "277  024GL5LMHXQ4AXA5 2017-08-03 08:52:05     22    34      0       0      ok   \n",
       "278  024GL5LMHXQ4AXA5 2017-08-03 02:39:11     23    66      0       0      ok   \n",
       "279  024GL5LMHXQ4AXA5 2017-08-03 05:49:15     24     4      0       0      ok   \n",
       "280  024GL5LMHXQ4AXA5 2017-08-03 02:47:32     25    67      0       0      ok   \n",
       "281  024GL5LMHXQ4AXA5 2017-08-02 19:50:49     28    41      0       0      ok   \n",
       "\n",
       "    country_cd       timezone country                 local_time hour_of_day  \\\n",
       "277         CN  Asia/Shanghai   China  2017-08-03 16:52:05+08:00          16   \n",
       "278         CN  Asia/Shanghai   China  2017-08-03 10:39:11+08:00          10   \n",
       "279         CN  Asia/Shanghai   China  2017-08-03 13:49:15+08:00          13   \n",
       "280         CN  Asia/Shanghai   China  2017-08-03 10:47:32+08:00          10   \n",
       "281         CN  Asia/Shanghai   China  2017-08-03 03:50:49+08:00          03   \n",
       "\n",
       "    year_month  \n",
       "277    2017-08  \n",
       "278    2017-08  \n",
       "279    2017-08  \n",
       "280    2017-08  \n",
       "281    2017-08  "
      ]
     },
     "execution_count": 57,
     "metadata": {},
     "output_type": "execute_result"
    }
   ],
   "source": [
    "china.head()"
   ]
  },
  {
   "cell_type": "code",
   "execution_count": 58,
   "id": "cd3b6c7b",
   "metadata": {
    "scrolled": true
   },
   "outputs": [
    {
     "data": {
      "text/html": [
       "<div>\n",
       "<style scoped>\n",
       "    .dataframe tbody tr th:only-of-type {\n",
       "        vertical-align: middle;\n",
       "    }\n",
       "\n",
       "    .dataframe tbody tr th {\n",
       "        vertical-align: top;\n",
       "    }\n",
       "\n",
       "    .dataframe thead th {\n",
       "        text-align: right;\n",
       "    }\n",
       "</style>\n",
       "<table border=\"1\" class=\"dataframe\">\n",
       "  <thead>\n",
       "    <tr style=\"text-align: right;\">\n",
       "      <th></th>\n",
       "      <th>robotid</th>\n",
       "      <th>datetime</th>\n",
       "      <th>nmssn</th>\n",
       "      <th>runm</th>\n",
       "      <th>chrgm</th>\n",
       "      <th>pausem</th>\n",
       "      <th>outcome</th>\n",
       "      <th>country_cd</th>\n",
       "      <th>timezone</th>\n",
       "      <th>country</th>\n",
       "      <th>local_time</th>\n",
       "      <th>hour_of_day</th>\n",
       "      <th>year_month</th>\n",
       "    </tr>\n",
       "  </thead>\n",
       "  <tbody>\n",
       "    <tr>\n",
       "      <th>6604</th>\n",
       "      <td>0LZR5EBE1Q9AMOGK</td>\n",
       "      <td>2017-01-01 09:04:47</td>\n",
       "      <td>59</td>\n",
       "      <td>66</td>\n",
       "      <td>0</td>\n",
       "      <td>0</td>\n",
       "      <td>ok</td>\n",
       "      <td>PL</td>\n",
       "      <td>Europe/Warsaw</td>\n",
       "      <td>Poland</td>\n",
       "      <td>2017-01-01 10:04:47+01:00</td>\n",
       "      <td>10</td>\n",
       "      <td>2017-01</td>\n",
       "    </tr>\n",
       "    <tr>\n",
       "      <th>6605</th>\n",
       "      <td>0LZR5EBE1Q9AMOGK</td>\n",
       "      <td>2017-01-02 08:12:23</td>\n",
       "      <td>60</td>\n",
       "      <td>15</td>\n",
       "      <td>0</td>\n",
       "      <td>3</td>\n",
       "      <td>ok</td>\n",
       "      <td>PL</td>\n",
       "      <td>Europe/Warsaw</td>\n",
       "      <td>Poland</td>\n",
       "      <td>2017-01-02 09:12:23+01:00</td>\n",
       "      <td>09</td>\n",
       "      <td>2017-01</td>\n",
       "    </tr>\n",
       "    <tr>\n",
       "      <th>6606</th>\n",
       "      <td>0LZR5EBE1Q9AMOGK</td>\n",
       "      <td>2017-01-04 21:53:55</td>\n",
       "      <td>61</td>\n",
       "      <td>13</td>\n",
       "      <td>3</td>\n",
       "      <td>0</td>\n",
       "      <td>ok</td>\n",
       "      <td>PL</td>\n",
       "      <td>Europe/Warsaw</td>\n",
       "      <td>Poland</td>\n",
       "      <td>2017-01-04 22:53:55+01:00</td>\n",
       "      <td>22</td>\n",
       "      <td>2017-01</td>\n",
       "    </tr>\n",
       "    <tr>\n",
       "      <th>6607</th>\n",
       "      <td>0LZR5EBE1Q9AMOGK</td>\n",
       "      <td>2017-01-07 06:36:46</td>\n",
       "      <td>62</td>\n",
       "      <td>114</td>\n",
       "      <td>0</td>\n",
       "      <td>0</td>\n",
       "      <td>ok</td>\n",
       "      <td>PL</td>\n",
       "      <td>Europe/Warsaw</td>\n",
       "      <td>Poland</td>\n",
       "      <td>2017-01-07 07:36:46+01:00</td>\n",
       "      <td>07</td>\n",
       "      <td>2017-01</td>\n",
       "    </tr>\n",
       "    <tr>\n",
       "      <th>6608</th>\n",
       "      <td>0LZR5EBE1Q9AMOGK</td>\n",
       "      <td>2017-01-07 22:41:24</td>\n",
       "      <td>63</td>\n",
       "      <td>51</td>\n",
       "      <td>0</td>\n",
       "      <td>11</td>\n",
       "      <td>ok</td>\n",
       "      <td>PL</td>\n",
       "      <td>Europe/Warsaw</td>\n",
       "      <td>Poland</td>\n",
       "      <td>2017-01-07 23:41:24+01:00</td>\n",
       "      <td>23</td>\n",
       "      <td>2017-01</td>\n",
       "    </tr>\n",
       "  </tbody>\n",
       "</table>\n",
       "</div>"
      ],
      "text/plain": [
       "               robotid            datetime  nmssn  runm  chrgm  pausem  \\\n",
       "6604  0LZR5EBE1Q9AMOGK 2017-01-01 09:04:47     59    66      0       0   \n",
       "6605  0LZR5EBE1Q9AMOGK 2017-01-02 08:12:23     60    15      0       3   \n",
       "6606  0LZR5EBE1Q9AMOGK 2017-01-04 21:53:55     61    13      3       0   \n",
       "6607  0LZR5EBE1Q9AMOGK 2017-01-07 06:36:46     62   114      0       0   \n",
       "6608  0LZR5EBE1Q9AMOGK 2017-01-07 22:41:24     63    51      0      11   \n",
       "\n",
       "     outcome country_cd       timezone country                 local_time  \\\n",
       "6604      ok         PL  Europe/Warsaw  Poland  2017-01-01 10:04:47+01:00   \n",
       "6605      ok         PL  Europe/Warsaw  Poland  2017-01-02 09:12:23+01:00   \n",
       "6606      ok         PL  Europe/Warsaw  Poland  2017-01-04 22:53:55+01:00   \n",
       "6607      ok         PL  Europe/Warsaw  Poland  2017-01-07 07:36:46+01:00   \n",
       "6608      ok         PL  Europe/Warsaw  Poland  2017-01-07 23:41:24+01:00   \n",
       "\n",
       "     hour_of_day year_month  \n",
       "6604          10    2017-01  \n",
       "6605          09    2017-01  \n",
       "6606          22    2017-01  \n",
       "6607          07    2017-01  \n",
       "6608          23    2017-01  "
      ]
     },
     "execution_count": 58,
     "metadata": {},
     "output_type": "execute_result"
    }
   ],
   "source": [
    "poland.head()"
   ]
  },
  {
   "cell_type": "code",
   "execution_count": 59,
   "id": "740e4a3a",
   "metadata": {},
   "outputs": [
    {
     "data": {
      "text/plain": [
       "China            21054\n",
       "France           17719\n",
       "Japan            11743\n",
       "Canada           11126\n",
       "Austria          10558\n",
       "Germany           8284\n",
       "United States     8221\n",
       "Belgium           5123\n",
       "Poland            4388\n",
       "Name: country, dtype: int64"
      ]
     },
     "execution_count": 59,
     "metadata": {},
     "output_type": "execute_result"
    }
   ],
   "source": [
    "# The top 9 countries not including Israel\n",
    "top_9_countries = ['China', 'France', 'Japan', 'Austria', 'Canada', 'United States', 'Germany',\n",
    "                   'Belgium', 'Poland']\n",
    "\n",
    "top_9 = mis_geo_iso[mis_geo_iso['country'].isin(top_9_countries)]\n",
    "top_9['country'].value_counts()"
   ]
  },
  {
   "cell_type": "code",
   "execution_count": 60,
   "id": "5ee02d6d",
   "metadata": {},
   "outputs": [
    {
     "name": "stderr",
     "output_type": "stream",
     "text": [
      "/var/folders/c9/kmqtft5n5dzdbw3r5rghf2qxj6_kz9/T/ipykernel_12657/573954141.py:2: SettingWithCopyWarning: \n",
      "A value is trying to be set on a copy of a slice from a DataFrame.\n",
      "Try using .loc[row_indexer,col_indexer] = value instead\n",
      "\n",
      "See the caveats in the documentation: https://pandas.pydata.org/pandas-docs/stable/user_guide/indexing.html#returning-a-view-versus-a-copy\n",
      "  top_9['country'] = pd.Categorical(top_9['country'],\n"
     ]
    }
   ],
   "source": [
    "# Set a specific order for the Top 10 Countries so they are ranked from #1 to #10\n",
    "top_9['country'] = pd.Categorical(top_9['country'],\n",
    "                                             categories=['China', 'France', 'Japan', 'Austria', \n",
    "                                                         'Canada', 'United States', 'Germany', 'Belgium', \n",
    "                                                         'Poland'])"
   ]
  },
  {
   "cell_type": "code",
   "execution_count": 61,
   "id": "e09d7820",
   "metadata": {},
   "outputs": [
    {
     "data": {
      "text/html": [
       "<div>\n",
       "<style scoped>\n",
       "    .dataframe tbody tr th:only-of-type {\n",
       "        vertical-align: middle;\n",
       "    }\n",
       "\n",
       "    .dataframe tbody tr th {\n",
       "        vertical-align: top;\n",
       "    }\n",
       "\n",
       "    .dataframe thead th {\n",
       "        text-align: right;\n",
       "    }\n",
       "</style>\n",
       "<table border=\"1\" class=\"dataframe\">\n",
       "  <thead>\n",
       "    <tr style=\"text-align: right;\">\n",
       "      <th></th>\n",
       "      <th>robotid</th>\n",
       "      <th>datetime</th>\n",
       "      <th>nmssn</th>\n",
       "      <th>runm</th>\n",
       "      <th>chrgm</th>\n",
       "      <th>pausem</th>\n",
       "      <th>outcome</th>\n",
       "      <th>country_cd</th>\n",
       "      <th>timezone</th>\n",
       "      <th>country</th>\n",
       "      <th>local_time</th>\n",
       "      <th>hour_of_day</th>\n",
       "      <th>year_month</th>\n",
       "    </tr>\n",
       "  </thead>\n",
       "  <tbody>\n",
       "    <tr>\n",
       "      <th>5</th>\n",
       "      <td>000Y9NBMJ77LQ7S7</td>\n",
       "      <td>2016-11-28 05:41:25</td>\n",
       "      <td>55</td>\n",
       "      <td>61</td>\n",
       "      <td>0</td>\n",
       "      <td>13</td>\n",
       "      <td>ok</td>\n",
       "      <td>JP</td>\n",
       "      <td>Asia/Tokyo</td>\n",
       "      <td>Japan</td>\n",
       "      <td>2016-11-28 14:41:25+09:00</td>\n",
       "      <td>14</td>\n",
       "      <td>2016-11</td>\n",
       "    </tr>\n",
       "    <tr>\n",
       "      <th>6</th>\n",
       "      <td>000Y9NBMJ77LQ7S7</td>\n",
       "      <td>2016-12-20 10:06:42</td>\n",
       "      <td>56</td>\n",
       "      <td>31</td>\n",
       "      <td>0</td>\n",
       "      <td>6</td>\n",
       "      <td>cncl</td>\n",
       "      <td>JP</td>\n",
       "      <td>Asia/Tokyo</td>\n",
       "      <td>Japan</td>\n",
       "      <td>2016-12-20 19:06:42+09:00</td>\n",
       "      <td>19</td>\n",
       "      <td>2016-12</td>\n",
       "    </tr>\n",
       "    <tr>\n",
       "      <th>7</th>\n",
       "      <td>000Y9NBMJ77LQ7S7</td>\n",
       "      <td>2017-02-18 03:16:40</td>\n",
       "      <td>57</td>\n",
       "      <td>11</td>\n",
       "      <td>0</td>\n",
       "      <td>2</td>\n",
       "      <td>cncl</td>\n",
       "      <td>JP</td>\n",
       "      <td>Asia/Tokyo</td>\n",
       "      <td>Japan</td>\n",
       "      <td>2017-02-18 12:16:40+09:00</td>\n",
       "      <td>12</td>\n",
       "      <td>2017-02</td>\n",
       "    </tr>\n",
       "    <tr>\n",
       "      <th>8</th>\n",
       "      <td>000Y9NBMJ77LQ7S7</td>\n",
       "      <td>2017-03-08 10:49:36</td>\n",
       "      <td>58</td>\n",
       "      <td>78</td>\n",
       "      <td>0</td>\n",
       "      <td>0</td>\n",
       "      <td>ok</td>\n",
       "      <td>JP</td>\n",
       "      <td>Asia/Tokyo</td>\n",
       "      <td>Japan</td>\n",
       "      <td>2017-03-08 19:49:36+09:00</td>\n",
       "      <td>19</td>\n",
       "      <td>2017-03</td>\n",
       "    </tr>\n",
       "    <tr>\n",
       "      <th>9</th>\n",
       "      <td>000Y9NBMJ77LQ7S7</td>\n",
       "      <td>2017-03-19 10:21:15</td>\n",
       "      <td>59</td>\n",
       "      <td>99</td>\n",
       "      <td>0</td>\n",
       "      <td>0</td>\n",
       "      <td>cncl</td>\n",
       "      <td>JP</td>\n",
       "      <td>Asia/Tokyo</td>\n",
       "      <td>Japan</td>\n",
       "      <td>2017-03-19 19:21:15+09:00</td>\n",
       "      <td>19</td>\n",
       "      <td>2017-03</td>\n",
       "    </tr>\n",
       "  </tbody>\n",
       "</table>\n",
       "</div>"
      ],
      "text/plain": [
       "            robotid            datetime  nmssn  runm  chrgm  pausem outcome  \\\n",
       "5  000Y9NBMJ77LQ7S7 2016-11-28 05:41:25     55    61      0      13      ok   \n",
       "6  000Y9NBMJ77LQ7S7 2016-12-20 10:06:42     56    31      0       6    cncl   \n",
       "7  000Y9NBMJ77LQ7S7 2017-02-18 03:16:40     57    11      0       2    cncl   \n",
       "8  000Y9NBMJ77LQ7S7 2017-03-08 10:49:36     58    78      0       0      ok   \n",
       "9  000Y9NBMJ77LQ7S7 2017-03-19 10:21:15     59    99      0       0    cncl   \n",
       "\n",
       "  country_cd    timezone country                 local_time hour_of_day  \\\n",
       "5         JP  Asia/Tokyo   Japan  2016-11-28 14:41:25+09:00          14   \n",
       "6         JP  Asia/Tokyo   Japan  2016-12-20 19:06:42+09:00          19   \n",
       "7         JP  Asia/Tokyo   Japan  2017-02-18 12:16:40+09:00          12   \n",
       "8         JP  Asia/Tokyo   Japan  2017-03-08 19:49:36+09:00          19   \n",
       "9         JP  Asia/Tokyo   Japan  2017-03-19 19:21:15+09:00          19   \n",
       "\n",
       "  year_month  \n",
       "5    2016-11  \n",
       "6    2016-12  \n",
       "7    2017-02  \n",
       "8    2017-03  \n",
       "9    2017-03  "
      ]
     },
     "execution_count": 61,
     "metadata": {},
     "output_type": "execute_result"
    }
   ],
   "source": [
    "top_9.head()"
   ]
  },
  {
   "cell_type": "code",
   "execution_count": 62,
   "id": "cdf3ba83",
   "metadata": {},
   "outputs": [],
   "source": [
    "# Create a variable that stores the count of mission outcomes for each country, excluding Israel\n",
    "top_9_outcomes = top_9.groupby('country')['outcome'].value_counts()"
   ]
  },
  {
   "cell_type": "code",
   "execution_count": 63,
   "id": "ea3a1b49",
   "metadata": {},
   "outputs": [
    {
     "data": {
      "image/png": "[encoded data removed]",
      "text/plain": [
       "<Figure size 1152x576 with 1 Axes>"
      ]
     },
     "metadata": {
      "needs_background": "light"
     },
     "output_type": "display_data"
    }
   ],
   "source": [
    "top_9_outcomes.unstack().plot(kind='bar', figsize=(16,8))\n",
    "\n",
    "\n",
    "plt.xticks(rotation = 0, size=12)\n",
    "plt.xlabel(\"\")\n",
    "plt.ylabel(\"Count\", size=14, c='grey')\n",
    "plt.title('Mission Outcomes per Country (excluding Israel)', size=18, loc='left');\n",
    "\n",
    "plt.savefig(f\"plots/fig_2e_1.png\")"
   ]
  },
  {
   "cell_type": "code",
   "execution_count": 64,
   "id": "d2aed188",
   "metadata": {},
   "outputs": [],
   "source": [
    "# Create a variable to store the mission outcomes for Israel\n",
    "israel_outcomes = israel.groupby('country')['outcome'].value_counts()"
   ]
  },
  {
   "cell_type": "code",
   "execution_count": 65,
   "id": "dffa4a77",
   "metadata": {},
   "outputs": [
    {
     "data": {
      "image/png": "[encoded data removed]",
      "text/plain": [
       "<Figure size 720x432 with 1 Axes>"
      ]
     },
     "metadata": {
      "needs_background": "light"
     },
     "output_type": "display_data"
    }
   ],
   "source": [
    "israel_outcomes.unstack().plot(kind='bar', width=0.2, figsize=(10,6))\n",
    "\n",
    "plt.yticks(size=12)\n",
    "plt.xticks(rotation = 0, size=12)\n",
    "plt.xlabel(\"\")\n",
    "plt.ylabel(\"Count\", size=14, c='grey')\n",
    "plt.title('Mission Outcomes for Israel', size=18, loc='left');\n",
    "\n",
    "plt.savefig(f\"plots/fig_2e_2.png\")"
   ]
  },
  {
   "cell_type": "markdown",
   "id": "a65fe1bc",
   "metadata": {},
   "source": [
    "## 2.1f Explore Geographic Differences (Time of Day Usage)"
   ]
  },
  {
   "cell_type": "code",
   "execution_count": 66,
   "id": "ada55f27",
   "metadata": {},
   "outputs": [
    {
     "data": {
      "image/png": "[encoded data removed]",
      "text/plain": [
       "<Figure size 2160x1800 with 12 Axes>"
      ]
     },
     "metadata": {
      "needs_background": "light"
     },
     "output_type": "display_data"
    }
   ],
   "source": [
    "# Plot to the top 10 countries using subplots to pick out groups of similar behavior\n",
    "fig, axs = plt.subplots(4, 3, figsize=(30, 25))\n",
    "\n",
    "axs[0][0].hist(israel.hour_of_day.sort_values(), edgecolor='white', bins=23)\n",
    "axs[0][0].set_title('Israel', loc='left', size=20)\n",
    "\n",
    "axs[0][1].hist(china.hour_of_day.sort_values(), edgecolor='white', bins=23)\n",
    "axs[0][1].set_title('China', loc='left', size=20)\n",
    "\n",
    "axs[0][2].hist(france.hour_of_day.sort_values(), edgecolor='white', bins=23)\n",
    "axs[0][2].set_title('France', loc='left', size=20)\n",
    "\n",
    "axs[1][0].hist(japan.hour_of_day.sort_values(), edgecolor='white', bins=23)\n",
    "axs[1][0].set_title('Japan', loc='left', size=20)\n",
    "\n",
    "axs[1][1].hist(austria.hour_of_day.sort_values(), edgecolor='white', bins=23)\n",
    "axs[1][1].set_title('Austria', loc='left', size=20)\n",
    "\n",
    "axs[1][2].hist(canada.hour_of_day.sort_values(), edgecolor='white', bins=23)\n",
    "axs[1][2].set_title('Canada', loc='left', size=20)\n",
    "\n",
    "axs[2][0].hist(united_states.hour_of_day.sort_values(), edgecolor='white', bins=23)\n",
    "axs[2][0].set_title('United States', loc='left', size=20)\n",
    "\n",
    "axs[2][1].hist(germany.hour_of_day.sort_values(), edgecolor='white', bins=23)\n",
    "axs[2][1].set_title('Germany', loc='left', size=20)\n",
    "\n",
    "axs[2][2].hist(belgium.hour_of_day.sort_values(), edgecolor='white', bins=23)\n",
    "axs[2][2].set_title('Belgium', loc='left', size=20)\n",
    "\n",
    "axs[3][0].hist(poland.hour_of_day.sort_values(), edgecolor='white', bins=23)\n",
    "axs[3][0].set_title('Poland', loc='left', size=20);"
   ]
  },
  {
   "cell_type": "code",
   "execution_count": 67,
   "id": "44a3e325",
   "metadata": {},
   "outputs": [
    {
     "data": {
      "image/png": "[encoded data removed]",
      "text/plain": [
       "<Figure size 1584x1296 with 12 Axes>"
      ]
     },
     "metadata": {
      "needs_background": "light"
     },
     "output_type": "display_data"
    }
   ],
   "source": [
    "# After looking at the first set of subplots, I started shifting countries around to create like groupings\n",
    "fig, axs = plt.subplots(4, 3, figsize=(22, 18))\n",
    "\n",
    "axs[0][0].hist(israel.hour_of_day.sort_values(), edgecolor='white', bins=23)\n",
    "axs[0][0].set_title('Israel', loc='left', size=20)\n",
    "\n",
    "axs[0][1].hist(china.hour_of_day.sort_values(), edgecolor='white', bins=23)\n",
    "axs[0][1].set_title('China', loc='left', size=20)\n",
    "\n",
    "axs[0][2].hist(france.hour_of_day.sort_values(), edgecolor='white', bins=23)\n",
    "axs[0][2].set_title('France', loc='left', size=20)\n",
    "\n",
    "axs[3][2].hist(japan.hour_of_day.sort_values(), edgecolor='white', bins=23)\n",
    "axs[3][2].set_title('Japan', loc='left', size=20)\n",
    "\n",
    "axs[1][1].hist(austria.hour_of_day.sort_values(), edgecolor='white', bins=23)\n",
    "axs[1][1].set_title('Austria', loc='left', size=20);\n",
    "\n",
    "axs[1][2].hist(canada.hour_of_day.sort_values(), edgecolor='white', bins=23)\n",
    "axs[1][2].set_title('Canada', loc='left', size=20)\n",
    "\n",
    "axs[1][0].hist(united_states.hour_of_day.sort_values(), edgecolor='white', bins=23)\n",
    "axs[1][0].set_title('United States', loc='left', size=20)\n",
    "\n",
    "axs[2][1].hist(germany.hour_of_day.sort_values(), edgecolor='white', bins=23)\n",
    "axs[2][1].set_title('Germany', loc='left', size=20)\n",
    "\n",
    "axs[2][2].hist(belgium.hour_of_day.sort_values(), edgecolor='white', bins=23)\n",
    "axs[2][2].set_title('Belgium', loc='left', size=20)\n",
    "\n",
    "axs[3][1].hist(poland.hour_of_day.sort_values(), edgecolor='white', bins=23)\n",
    "axs[3][1].set_title('Poland', loc='left', size=20);"
   ]
  },
  {
   "cell_type": "code",
   "execution_count": 68,
   "id": "1823722d",
   "metadata": {},
   "outputs": [
    {
     "data": {
      "image/png": "[encoded data removed]",
      "text/plain": [
       "<Figure size 1584x1296 with 8 Axes>"
      ]
     },
     "metadata": {
      "needs_background": "light"
     },
     "output_type": "display_data"
    }
   ],
   "source": [
    "# I determined the following 8 had similar behavior\n",
    "fig, axs = plt.subplots(4, 2, figsize=(22, 18), sharex=True)\n",
    "\n",
    "# axs[0][0].hist(israel.hour_of_day.sort_values(), edgecolor='white', bins=23)\n",
    "# axs[0][0].set_title('Israel', loc='left', size=20)\n",
    "\n",
    "axs[0][0].hist(china.hour_of_day.sort_values(), edgecolor='white', bins=23)\n",
    "axs[0][0].set_title('China', loc='left', size=20)\n",
    "\n",
    "axs[1][0].hist(france.hour_of_day.sort_values(), edgecolor='white', bins=23)\n",
    "axs[1][0].set_title('France', loc='left', size=20)\n",
    "\n",
    "axs[0][1].hist(japan.hour_of_day.sort_values(), edgecolor='white', bins=23)\n",
    "axs[0][1].set_title('Japan', loc='left', size=20)\n",
    "\n",
    "axs[2][0].hist(austria.hour_of_day.sort_values(), edgecolor='white', bins=23)\n",
    "axs[2][0].set_title('Austria', loc='left', size=20);\n",
    "\n",
    "axs[1][1].hist(canada.hour_of_day.sort_values(), edgecolor='white', bins=23)\n",
    "axs[1][1].set_title('Canada', loc='left', size=20)\n",
    "\n",
    "# axs[1][0].hist(united_states.hour_of_day.sort_values(), edgecolor='white', bins=23)\n",
    "# axs[1][0].set_title('United States', loc='left', size=20)\n",
    "\n",
    "axs[2][1].hist(germany.hour_of_day.sort_values(), edgecolor='white', bins=23)\n",
    "axs[2][1].set_title('Germany', loc='left', size=20)\n",
    "\n",
    "axs[3][0].hist(belgium.hour_of_day.sort_values(), edgecolor='white', bins=23)\n",
    "axs[3][0].set_title('Belgium', loc='left', size=20)\n",
    "axs[3][0].set_xlabel(\"Hour of Day\", size=14)\n",
    "\n",
    "axs[3][1].hist(poland.hour_of_day.sort_values(), edgecolor='white', bins=23)\n",
    "axs[3][1].set_title('Poland', loc='left', size=20)\n",
    "\n",
    "plt.xlabel('Hour of Day', size=14)\n",
    "fig.suptitle('Time of Day Usage Histograms', fontsize=24, y=0.95);\n",
    "\n",
    "plt.savefig(f\"plots/fig_2f_1.png\")"
   ]
  },
  {
   "cell_type": "code",
   "execution_count": 69,
   "id": "c1f0826c",
   "metadata": {},
   "outputs": [
    {
     "data": {
      "image/png": "[encoded data removed]",
      "text/plain": [
       "<Figure size 576x720 with 2 Axes>"
      ]
     },
     "metadata": {
      "needs_background": "light"
     },
     "output_type": "display_data"
    }
   ],
   "source": [
    "# Israel and the United State had somewhat similar behavior so I grouped the two countries and separated them from\n",
    "# the 8 above\n",
    "fig, axs = plt.subplots(2, 1, figsize=(8, 10), sharex=True)\n",
    "\n",
    "axs[0].hist(israel.hour_of_day.sort_values(), edgecolor='white', bins=23)\n",
    "axs[0].set_title('Israel', loc='left', size=20)\n",
    "\n",
    "axs[1].hist(united_states.hour_of_day.sort_values(), edgecolor='white', bins=23)\n",
    "axs[1].set_title('United States', loc='left', size=20)\n",
    "\n",
    "plt.xlabel('Hour of Day',size=14)\n",
    "fig.suptitle('Time of Day Usage Histograms', fontsize=22, y=0.98);\n",
    "\n",
    "plt.savefig(f\"plots/fig_2f_2.png\")"
   ]
  },
  {
   "cell_type": "markdown",
   "id": "3a7f7dd7",
   "metadata": {},
   "source": [
    "## 2.1g Explore Geographic Differences for:\n",
    "### Time spent cleaning, charging, paused and number of missions"
   ]
  },
  {
   "cell_type": "code",
   "execution_count": 70,
   "id": "f78b35a9",
   "metadata": {},
   "outputs": [
    {
     "data": {
      "text/html": [
       "<div>\n",
       "<style scoped>\n",
       "    .dataframe tbody tr th:only-of-type {\n",
       "        vertical-align: middle;\n",
       "    }\n",
       "\n",
       "    .dataframe tbody tr th {\n",
       "        vertical-align: top;\n",
       "    }\n",
       "\n",
       "    .dataframe thead th {\n",
       "        text-align: right;\n",
       "    }\n",
       "</style>\n",
       "<table border=\"1\" class=\"dataframe\">\n",
       "  <thead>\n",
       "    <tr style=\"text-align: right;\">\n",
       "      <th></th>\n",
       "      <th>robotid</th>\n",
       "      <th>datetime</th>\n",
       "      <th>nmssn</th>\n",
       "      <th>runm</th>\n",
       "      <th>chrgm</th>\n",
       "      <th>pausem</th>\n",
       "      <th>outcome</th>\n",
       "      <th>country_cd</th>\n",
       "      <th>timezone</th>\n",
       "      <th>country</th>\n",
       "      <th>local_time</th>\n",
       "      <th>hour_of_day</th>\n",
       "      <th>year_month</th>\n",
       "    </tr>\n",
       "  </thead>\n",
       "  <tbody>\n",
       "    <tr>\n",
       "      <th>0</th>\n",
       "      <td>000NG2FMLJBT9ANZ</td>\n",
       "      <td>2017-10-01 16:17:22</td>\n",
       "      <td>40</td>\n",
       "      <td>3</td>\n",
       "      <td>1</td>\n",
       "      <td>2</td>\n",
       "      <td>stuck</td>\n",
       "      <td>IL</td>\n",
       "      <td>Asia/Jerusalem</td>\n",
       "      <td>Israel</td>\n",
       "      <td>2017-10-01 19:17:22+03:00</td>\n",
       "      <td>19</td>\n",
       "      <td>2017-10</td>\n",
       "    </tr>\n",
       "    <tr>\n",
       "      <th>1</th>\n",
       "      <td>000NG2FMLJBT9ANZ</td>\n",
       "      <td>2017-10-03 14:25:56</td>\n",
       "      <td>41</td>\n",
       "      <td>83</td>\n",
       "      <td>0</td>\n",
       "      <td>13</td>\n",
       "      <td>ok</td>\n",
       "      <td>IL</td>\n",
       "      <td>Asia/Jerusalem</td>\n",
       "      <td>Israel</td>\n",
       "      <td>2017-10-03 17:25:56+03:00</td>\n",
       "      <td>17</td>\n",
       "      <td>2017-10</td>\n",
       "    </tr>\n",
       "    <tr>\n",
       "      <th>2</th>\n",
       "      <td>000NG2FMLJBT9ANZ</td>\n",
       "      <td>2017-10-04 12:32:51</td>\n",
       "      <td>42</td>\n",
       "      <td>66</td>\n",
       "      <td>13</td>\n",
       "      <td>12</td>\n",
       "      <td>ok</td>\n",
       "      <td>IL</td>\n",
       "      <td>Asia/Jerusalem</td>\n",
       "      <td>Israel</td>\n",
       "      <td>2017-10-04 15:32:51+03:00</td>\n",
       "      <td>15</td>\n",
       "      <td>2017-10</td>\n",
       "    </tr>\n",
       "    <tr>\n",
       "      <th>3</th>\n",
       "      <td>000NG2FMLJBT9ANZ</td>\n",
       "      <td>2017-10-26 02:12:55</td>\n",
       "      <td>45</td>\n",
       "      <td>72</td>\n",
       "      <td>24</td>\n",
       "      <td>0</td>\n",
       "      <td>cncl</td>\n",
       "      <td>IL</td>\n",
       "      <td>Asia/Jerusalem</td>\n",
       "      <td>Israel</td>\n",
       "      <td>2017-10-26 05:12:55+03:00</td>\n",
       "      <td>05</td>\n",
       "      <td>2017-10</td>\n",
       "    </tr>\n",
       "    <tr>\n",
       "      <th>4</th>\n",
       "      <td>000NG2FMLJBT9ANZ</td>\n",
       "      <td>2017-10-27 07:17:39</td>\n",
       "      <td>46</td>\n",
       "      <td>61</td>\n",
       "      <td>9</td>\n",
       "      <td>0</td>\n",
       "      <td>cncl</td>\n",
       "      <td>IL</td>\n",
       "      <td>Asia/Jerusalem</td>\n",
       "      <td>Israel</td>\n",
       "      <td>2017-10-27 10:17:39+03:00</td>\n",
       "      <td>10</td>\n",
       "      <td>2017-10</td>\n",
       "    </tr>\n",
       "  </tbody>\n",
       "</table>\n",
       "</div>"
      ],
      "text/plain": [
       "            robotid            datetime  nmssn  runm  chrgm  pausem outcome  \\\n",
       "0  000NG2FMLJBT9ANZ 2017-10-01 16:17:22     40     3      1       2   stuck   \n",
       "1  000NG2FMLJBT9ANZ 2017-10-03 14:25:56     41    83      0      13      ok   \n",
       "2  000NG2FMLJBT9ANZ 2017-10-04 12:32:51     42    66     13      12      ok   \n",
       "3  000NG2FMLJBT9ANZ 2017-10-26 02:12:55     45    72     24       0    cncl   \n",
       "4  000NG2FMLJBT9ANZ 2017-10-27 07:17:39     46    61      9       0    cncl   \n",
       "\n",
       "  country_cd        timezone country                 local_time hour_of_day  \\\n",
       "0         IL  Asia/Jerusalem  Israel  2017-10-01 19:17:22+03:00          19   \n",
       "1         IL  Asia/Jerusalem  Israel  2017-10-03 17:25:56+03:00          17   \n",
       "2         IL  Asia/Jerusalem  Israel  2017-10-04 15:32:51+03:00          15   \n",
       "3         IL  Asia/Jerusalem  Israel  2017-10-26 05:12:55+03:00          05   \n",
       "4         IL  Asia/Jerusalem  Israel  2017-10-27 10:17:39+03:00          10   \n",
       "\n",
       "  year_month  \n",
       "0    2017-10  \n",
       "1    2017-10  \n",
       "2    2017-10  \n",
       "3    2017-10  \n",
       "4    2017-10  "
      ]
     },
     "execution_count": 70,
     "metadata": {},
     "output_type": "execute_result"
    }
   ],
   "source": [
    "# Create a dataframe of the top 10 countries to explore and compare boxplots\n",
    "top_10_countries = mis_geo_iso[mis_geo_iso['country'].isin(top_countries)]\n",
    "top_10_countries.head()"
   ]
  },
  {
   "cell_type": "code",
   "execution_count": 71,
   "id": "a71c6b57",
   "metadata": {},
   "outputs": [
    {
     "name": "stderr",
     "output_type": "stream",
     "text": [
      "/var/folders/c9/kmqtft5n5dzdbw3r5rghf2qxj6_kz9/T/ipykernel_12657/3130005792.py:2: SettingWithCopyWarning: \n",
      "A value is trying to be set on a copy of a slice from a DataFrame.\n",
      "Try using .loc[row_indexer,col_indexer] = value instead\n",
      "\n",
      "See the caveats in the documentation: https://pandas.pydata.org/pandas-docs/stable/user_guide/indexing.html#returning-a-view-versus-a-copy\n",
      "  top_10_countries['country'] = pd.Categorical(top_10_countries['country'],\n"
     ]
    }
   ],
   "source": [
    "# Set a specific order for the Top 10 Countries so they are ranked from #1 to #10\n",
    "top_10_countries['country'] = pd.Categorical(top_10_countries['country'],\n",
    "                                             categories=['Israel', 'China', 'France', 'Japan', 'Austria', \n",
    "                                                         'Canada', 'United States', 'Germany', 'Belgium', \n",
    "                                                         'Poland'])"
   ]
  },
  {
   "cell_type": "code",
   "execution_count": 72,
   "id": "9c5c0ac2",
   "metadata": {
    "scrolled": true
   },
   "outputs": [
    {
     "data": {
      "image/png": "[encoded data removed]",
      "text/plain": [
       "<Figure size 1080x576 with 1 Axes>"
      ]
     },
     "metadata": {
      "needs_background": "light"
     },
     "output_type": "display_data"
    }
   ],
   "source": [
    "# These get very messy and are difficult to edit.\n",
    "top_10_countries.boxplot(by='country', column='runm', figsize=(15,8), fontsize=10)\n",
    "\n",
    "plt.title('Time Spent Cleaning per Country', size =16)\n",
    "plt.suptitle('')\n",
    "plt.ylabel('Runtime (minutes)', size = 14)\n",
    "plt.xlabel('')\n",
    "plt.xticks(fontsize=14);\n",
    "\n",
    "plt.savefig(f\"plots/fig_2g_1.png\")"
   ]
  },
  {
   "cell_type": "code",
   "execution_count": 73,
   "id": "8491af98",
   "metadata": {},
   "outputs": [
    {
     "data": {
      "image/png": "[encoded data removed]",
      "text/plain": [
       "<Figure size 1080x576 with 1 Axes>"
      ]
     },
     "metadata": {
      "needs_background": "light"
     },
     "output_type": "display_data"
    }
   ],
   "source": [
    "top_10_countries.boxplot(by='country', column='chrgm', figsize=(15,8), fontsize=10)\n",
    "\n",
    "plt.title('Time Spent Charging per Country', size =16)\n",
    "plt.suptitle('')\n",
    "plt.ylabel('Charge time (minutes)', size = 14)\n",
    "plt.xlabel('')\n",
    "plt.xticks(fontsize=14);\n",
    "\n",
    "plt.savefig(f\"plots/fig_2g_2.png\")"
   ]
  },
  {
   "cell_type": "code",
   "execution_count": 74,
   "id": "9a106873",
   "metadata": {},
   "outputs": [
    {
     "data": {
      "image/png": "[encoded data removed]",
      "text/plain": [
       "<Figure size 1080x576 with 1 Axes>"
      ]
     },
     "metadata": {
      "needs_background": "light"
     },
     "output_type": "display_data"
    }
   ],
   "source": [
    "top_10_countries.boxplot(by='country', column='pausem', figsize=(15,8), fontsize=10)\n",
    "\n",
    "plt.title('Time Spent Paused per Country', size =16)\n",
    "plt.suptitle('')\n",
    "plt.ylabel('Pause time (minutes)', size = 14)\n",
    "plt.xlabel('')\n",
    "plt.xticks(fontsize=14);\n",
    "\n",
    "plt.savefig(f\"plots/fig_2g_3.png\")"
   ]
  },
  {
   "cell_type": "code",
   "execution_count": 75,
   "id": "f49da64d",
   "metadata": {},
   "outputs": [
    {
     "data": {
      "image/png": "[encoded data removed]",
      "text/plain": [
       "<Figure size 1080x576 with 1 Axes>"
      ]
     },
     "metadata": {
      "needs_background": "light"
     },
     "output_type": "display_data"
    }
   ],
   "source": [
    "top_10_countries.boxplot(by='country', column='nmssn', figsize=(15,8), fontsize=10)\n",
    "\n",
    "plt.title('Number of Missions per Country', size =16)\n",
    "plt.suptitle('')\n",
    "plt.ylabel('Mission Number', size = 14)\n",
    "plt.xlabel('')\n",
    "plt.xticks(fontsize=14);\n",
    "\n",
    "plt.savefig(f\"plots/fig_2g_4.png\")"
   ]
  },
  {
   "cell_type": "markdown",
   "id": "1f365b5a",
   "metadata": {},
   "source": [
    "## 2.1h Explore Geographic Differences (Robot Usage)"
   ]
  },
  {
   "cell_type": "code",
   "execution_count": 76,
   "id": "2032d189",
   "metadata": {},
   "outputs": [
    {
     "data": {
      "text/html": [
       "<div>\n",
       "<style scoped>\n",
       "    .dataframe tbody tr th:only-of-type {\n",
       "        vertical-align: middle;\n",
       "    }\n",
       "\n",
       "    .dataframe tbody tr th {\n",
       "        vertical-align: top;\n",
       "    }\n",
       "\n",
       "    .dataframe thead th {\n",
       "        text-align: right;\n",
       "    }\n",
       "</style>\n",
       "<table border=\"1\" class=\"dataframe\">\n",
       "  <thead>\n",
       "    <tr style=\"text-align: right;\">\n",
       "      <th></th>\n",
       "      <th>robotid</th>\n",
       "      <th>datetime</th>\n",
       "      <th>nmssn</th>\n",
       "      <th>runm</th>\n",
       "      <th>chrgm</th>\n",
       "      <th>pausem</th>\n",
       "      <th>outcome</th>\n",
       "      <th>country_cd</th>\n",
       "      <th>timezone</th>\n",
       "      <th>country</th>\n",
       "      <th>local_time</th>\n",
       "      <th>hour_of_day</th>\n",
       "      <th>year_month</th>\n",
       "    </tr>\n",
       "  </thead>\n",
       "  <tbody>\n",
       "    <tr>\n",
       "      <th>0</th>\n",
       "      <td>000NG2FMLJBT9ANZ</td>\n",
       "      <td>2017-10-01 16:17:22</td>\n",
       "      <td>40</td>\n",
       "      <td>3</td>\n",
       "      <td>1</td>\n",
       "      <td>2</td>\n",
       "      <td>stuck</td>\n",
       "      <td>IL</td>\n",
       "      <td>Asia/Jerusalem</td>\n",
       "      <td>Israel</td>\n",
       "      <td>2017-10-01 19:17:22+03:00</td>\n",
       "      <td>19</td>\n",
       "      <td>2017-10</td>\n",
       "    </tr>\n",
       "    <tr>\n",
       "      <th>1</th>\n",
       "      <td>000NG2FMLJBT9ANZ</td>\n",
       "      <td>2017-10-03 14:25:56</td>\n",
       "      <td>41</td>\n",
       "      <td>83</td>\n",
       "      <td>0</td>\n",
       "      <td>13</td>\n",
       "      <td>ok</td>\n",
       "      <td>IL</td>\n",
       "      <td>Asia/Jerusalem</td>\n",
       "      <td>Israel</td>\n",
       "      <td>2017-10-03 17:25:56+03:00</td>\n",
       "      <td>17</td>\n",
       "      <td>2017-10</td>\n",
       "    </tr>\n",
       "    <tr>\n",
       "      <th>2</th>\n",
       "      <td>000NG2FMLJBT9ANZ</td>\n",
       "      <td>2017-10-04 12:32:51</td>\n",
       "      <td>42</td>\n",
       "      <td>66</td>\n",
       "      <td>13</td>\n",
       "      <td>12</td>\n",
       "      <td>ok</td>\n",
       "      <td>IL</td>\n",
       "      <td>Asia/Jerusalem</td>\n",
       "      <td>Israel</td>\n",
       "      <td>2017-10-04 15:32:51+03:00</td>\n",
       "      <td>15</td>\n",
       "      <td>2017-10</td>\n",
       "    </tr>\n",
       "    <tr>\n",
       "      <th>3</th>\n",
       "      <td>000NG2FMLJBT9ANZ</td>\n",
       "      <td>2017-10-26 02:12:55</td>\n",
       "      <td>45</td>\n",
       "      <td>72</td>\n",
       "      <td>24</td>\n",
       "      <td>0</td>\n",
       "      <td>cncl</td>\n",
       "      <td>IL</td>\n",
       "      <td>Asia/Jerusalem</td>\n",
       "      <td>Israel</td>\n",
       "      <td>2017-10-26 05:12:55+03:00</td>\n",
       "      <td>05</td>\n",
       "      <td>2017-10</td>\n",
       "    </tr>\n",
       "    <tr>\n",
       "      <th>4</th>\n",
       "      <td>000NG2FMLJBT9ANZ</td>\n",
       "      <td>2017-10-27 07:17:39</td>\n",
       "      <td>46</td>\n",
       "      <td>61</td>\n",
       "      <td>9</td>\n",
       "      <td>0</td>\n",
       "      <td>cncl</td>\n",
       "      <td>IL</td>\n",
       "      <td>Asia/Jerusalem</td>\n",
       "      <td>Israel</td>\n",
       "      <td>2017-10-27 10:17:39+03:00</td>\n",
       "      <td>10</td>\n",
       "      <td>2017-10</td>\n",
       "    </tr>\n",
       "  </tbody>\n",
       "</table>\n",
       "</div>"
      ],
      "text/plain": [
       "            robotid            datetime  nmssn  runm  chrgm  pausem outcome  \\\n",
       "0  000NG2FMLJBT9ANZ 2017-10-01 16:17:22     40     3      1       2   stuck   \n",
       "1  000NG2FMLJBT9ANZ 2017-10-03 14:25:56     41    83      0      13      ok   \n",
       "2  000NG2FMLJBT9ANZ 2017-10-04 12:32:51     42    66     13      12      ok   \n",
       "3  000NG2FMLJBT9ANZ 2017-10-26 02:12:55     45    72     24       0    cncl   \n",
       "4  000NG2FMLJBT9ANZ 2017-10-27 07:17:39     46    61      9       0    cncl   \n",
       "\n",
       "  country_cd        timezone country                 local_time hour_of_day  \\\n",
       "0         IL  Asia/Jerusalem  Israel  2017-10-01 19:17:22+03:00          19   \n",
       "1         IL  Asia/Jerusalem  Israel  2017-10-03 17:25:56+03:00          17   \n",
       "2         IL  Asia/Jerusalem  Israel  2017-10-04 15:32:51+03:00          15   \n",
       "3         IL  Asia/Jerusalem  Israel  2017-10-26 05:12:55+03:00          05   \n",
       "4         IL  Asia/Jerusalem  Israel  2017-10-27 10:17:39+03:00          10   \n",
       "\n",
       "  year_month  \n",
       "0    2017-10  \n",
       "1    2017-10  \n",
       "2    2017-10  \n",
       "3    2017-10  \n",
       "4    2017-10  "
      ]
     },
     "execution_count": 76,
     "metadata": {},
     "output_type": "execute_result"
    }
   ],
   "source": [
    "israel.head()"
   ]
  },
  {
   "cell_type": "code",
   "execution_count": 77,
   "id": "b7c6a2bb",
   "metadata": {},
   "outputs": [
    {
     "data": {
      "text/html": [
       "<div>\n",
       "<style scoped>\n",
       "    .dataframe tbody tr th:only-of-type {\n",
       "        vertical-align: middle;\n",
       "    }\n",
       "\n",
       "    .dataframe tbody tr th {\n",
       "        vertical-align: top;\n",
       "    }\n",
       "\n",
       "    .dataframe thead th {\n",
       "        text-align: right;\n",
       "    }\n",
       "</style>\n",
       "<table border=\"1\" class=\"dataframe\">\n",
       "  <thead>\n",
       "    <tr style=\"text-align: right;\">\n",
       "      <th></th>\n",
       "      <th>robotid</th>\n",
       "      <th>datetime</th>\n",
       "      <th>nmssn</th>\n",
       "      <th>runm</th>\n",
       "      <th>chrgm</th>\n",
       "      <th>pausem</th>\n",
       "      <th>outcome</th>\n",
       "      <th>country_cd</th>\n",
       "      <th>timezone</th>\n",
       "      <th>country</th>\n",
       "      <th>local_time</th>\n",
       "      <th>hour_of_day</th>\n",
       "      <th>year_month</th>\n",
       "    </tr>\n",
       "  </thead>\n",
       "  <tbody>\n",
       "    <tr>\n",
       "      <th>277</th>\n",
       "      <td>024GL5LMHXQ4AXA5</td>\n",
       "      <td>2017-08-03 08:52:05</td>\n",
       "      <td>22</td>\n",
       "      <td>34</td>\n",
       "      <td>0</td>\n",
       "      <td>0</td>\n",
       "      <td>ok</td>\n",
       "      <td>CN</td>\n",
       "      <td>Asia/Shanghai</td>\n",
       "      <td>China</td>\n",
       "      <td>2017-08-03 16:52:05+08:00</td>\n",
       "      <td>16</td>\n",
       "      <td>2017-08</td>\n",
       "    </tr>\n",
       "    <tr>\n",
       "      <th>278</th>\n",
       "      <td>024GL5LMHXQ4AXA5</td>\n",
       "      <td>2017-08-03 02:39:11</td>\n",
       "      <td>23</td>\n",
       "      <td>66</td>\n",
       "      <td>0</td>\n",
       "      <td>0</td>\n",
       "      <td>ok</td>\n",
       "      <td>CN</td>\n",
       "      <td>Asia/Shanghai</td>\n",
       "      <td>China</td>\n",
       "      <td>2017-08-03 10:39:11+08:00</td>\n",
       "      <td>10</td>\n",
       "      <td>2017-08</td>\n",
       "    </tr>\n",
       "    <tr>\n",
       "      <th>279</th>\n",
       "      <td>024GL5LMHXQ4AXA5</td>\n",
       "      <td>2017-08-03 05:49:15</td>\n",
       "      <td>24</td>\n",
       "      <td>4</td>\n",
       "      <td>0</td>\n",
       "      <td>0</td>\n",
       "      <td>ok</td>\n",
       "      <td>CN</td>\n",
       "      <td>Asia/Shanghai</td>\n",
       "      <td>China</td>\n",
       "      <td>2017-08-03 13:49:15+08:00</td>\n",
       "      <td>13</td>\n",
       "      <td>2017-08</td>\n",
       "    </tr>\n",
       "    <tr>\n",
       "      <th>280</th>\n",
       "      <td>024GL5LMHXQ4AXA5</td>\n",
       "      <td>2017-08-03 02:47:32</td>\n",
       "      <td>25</td>\n",
       "      <td>67</td>\n",
       "      <td>0</td>\n",
       "      <td>0</td>\n",
       "      <td>ok</td>\n",
       "      <td>CN</td>\n",
       "      <td>Asia/Shanghai</td>\n",
       "      <td>China</td>\n",
       "      <td>2017-08-03 10:47:32+08:00</td>\n",
       "      <td>10</td>\n",
       "      <td>2017-08</td>\n",
       "    </tr>\n",
       "    <tr>\n",
       "      <th>281</th>\n",
       "      <td>024GL5LMHXQ4AXA5</td>\n",
       "      <td>2017-08-02 19:50:49</td>\n",
       "      <td>28</td>\n",
       "      <td>41</td>\n",
       "      <td>0</td>\n",
       "      <td>0</td>\n",
       "      <td>ok</td>\n",
       "      <td>CN</td>\n",
       "      <td>Asia/Shanghai</td>\n",
       "      <td>China</td>\n",
       "      <td>2017-08-03 03:50:49+08:00</td>\n",
       "      <td>03</td>\n",
       "      <td>2017-08</td>\n",
       "    </tr>\n",
       "  </tbody>\n",
       "</table>\n",
       "</div>"
      ],
      "text/plain": [
       "              robotid            datetime  nmssn  runm  chrgm  pausem outcome  \\\n",
       "277  024GL5LMHXQ4AXA5 2017-08-03 08:52:05     22    34      0       0      ok   \n",
       "278  024GL5LMHXQ4AXA5 2017-08-03 02:39:11     23    66      0       0      ok   \n",
       "279  024GL5LMHXQ4AXA5 2017-08-03 05:49:15     24     4      0       0      ok   \n",
       "280  024GL5LMHXQ4AXA5 2017-08-03 02:47:32     25    67      0       0      ok   \n",
       "281  024GL5LMHXQ4AXA5 2017-08-02 19:50:49     28    41      0       0      ok   \n",
       "\n",
       "    country_cd       timezone country                 local_time hour_of_day  \\\n",
       "277         CN  Asia/Shanghai   China  2017-08-03 16:52:05+08:00          16   \n",
       "278         CN  Asia/Shanghai   China  2017-08-03 10:39:11+08:00          10   \n",
       "279         CN  Asia/Shanghai   China  2017-08-03 13:49:15+08:00          13   \n",
       "280         CN  Asia/Shanghai   China  2017-08-03 10:47:32+08:00          10   \n",
       "281         CN  Asia/Shanghai   China  2017-08-03 03:50:49+08:00          03   \n",
       "\n",
       "    year_month  \n",
       "277    2017-08  \n",
       "278    2017-08  \n",
       "279    2017-08  \n",
       "280    2017-08  \n",
       "281    2017-08  "
      ]
     },
     "execution_count": 77,
     "metadata": {},
     "output_type": "execute_result"
    }
   ],
   "source": [
    "china.head()"
   ]
  },
  {
   "cell_type": "code",
   "execution_count": 78,
   "id": "d9d8aa29",
   "metadata": {},
   "outputs": [],
   "source": [
    "# Graph the count of robots per month for israel\n",
    "israel_robot_count = israel.groupby('year_month')['robotid'].size()"
   ]
  },
  {
   "cell_type": "code",
   "execution_count": 79,
   "id": "e3eba2d8",
   "metadata": {},
   "outputs": [],
   "source": [
    "# Graph the count of robots per month for china\n",
    "china_robot_count = china.groupby('year_month')['robotid'].size()"
   ]
  },
  {
   "cell_type": "code",
   "execution_count": 80,
   "id": "79c6b909",
   "metadata": {},
   "outputs": [],
   "source": [
    "# Graph the count of robots per month for france\n",
    "france_robot_count = france.groupby('year_month')['robotid'].size()"
   ]
  },
  {
   "cell_type": "code",
   "execution_count": 81,
   "id": "982091a6",
   "metadata": {},
   "outputs": [],
   "source": [
    "# Graph the count of robots per month for japan\n",
    "japan_robot_count = japan.groupby('year_month')['robotid'].size()"
   ]
  },
  {
   "cell_type": "code",
   "execution_count": 82,
   "id": "fae5586d",
   "metadata": {},
   "outputs": [],
   "source": [
    "# Graph the count of robots per month for austria\n",
    "austria_robot_count = austria.groupby('year_month')['robotid'].size()"
   ]
  },
  {
   "cell_type": "code",
   "execution_count": 83,
   "id": "1ec8077e",
   "metadata": {},
   "outputs": [],
   "source": [
    "# Graph the count of robots per month for canada\n",
    "canada_robot_count = canada.groupby('year_month')['robotid'].size()"
   ]
  },
  {
   "cell_type": "code",
   "execution_count": 84,
   "id": "850843e8",
   "metadata": {},
   "outputs": [],
   "source": [
    "# Graph the count of robots per month for united_states\n",
    "usa_robot_count = united_states.groupby('year_month')['robotid'].size()"
   ]
  },
  {
   "cell_type": "code",
   "execution_count": 85,
   "id": "b347b889",
   "metadata": {},
   "outputs": [],
   "source": [
    "# Graph the count of robots per month for germany\n",
    "germany_robot_count = germany.groupby('year_month')['robotid'].size()"
   ]
  },
  {
   "cell_type": "code",
   "execution_count": 86,
   "id": "bc9ca038",
   "metadata": {},
   "outputs": [],
   "source": [
    "# Graph the count of robots per month for belgium\n",
    "belgium_robot_count = belgium.groupby('year_month')['robotid'].size()"
   ]
  },
  {
   "cell_type": "code",
   "execution_count": 87,
   "id": "1721e3c3",
   "metadata": {},
   "outputs": [],
   "source": [
    "# Graph the count of robots per month for poland\n",
    "poland_robot_count = poland.groupby('year_month')['robotid'].size()"
   ]
  },
  {
   "cell_type": "code",
   "execution_count": 88,
   "id": "ef2686c0",
   "metadata": {},
   "outputs": [
    {
     "data": {
      "image/png": "[encoded data removed]",
      "text/plain": [
       "<Figure size 1296x1584 with 10 Axes>"
      ]
     },
     "metadata": {
      "needs_background": "light"
     },
     "output_type": "display_data"
    }
   ],
   "source": [
    "# Look at all missions per month for the top 10 countries to identify any patterns or similarities\n",
    "fig, axs = plt.subplots(5, 2, figsize=(18, 22))\n",
    "\n",
    "axs[0][1].plot(israel_robot_count.index.to_timestamp(), israel_robot_count)\n",
    "axs[0][1].set_title('Israel', loc='left', size=20)\n",
    "\n",
    "axs[1][1].plot(china_robot_count.index.to_timestamp(), china_robot_count)\n",
    "axs[1][1].set_title('China', loc='left', size=20)\n",
    "\n",
    "axs[0][0].plot(france_robot_count.index.to_timestamp(), france_robot_count)\n",
    "axs[0][0].set_title('France', loc='left', size=20)\n",
    "\n",
    "axs[2][1].plot(japan_robot_count.index.to_timestamp(), japan_robot_count)\n",
    "axs[2][1].set_title('Japan', loc='left', size=20)\n",
    "\n",
    "axs[1][0].plot(austria_robot_count.index.to_timestamp(), austria_robot_count)\n",
    "axs[1][0].set_title('Austria', loc='left', size=20)\n",
    "\n",
    "axs[2][0].plot(canada_robot_count.index.to_timestamp(), canada_robot_count)\n",
    "axs[2][0].set_title('Canada', loc='left', size=20)\n",
    "\n",
    "axs[3][0].plot(usa_robot_count.index.to_timestamp(), usa_robot_count)\n",
    "axs[3][0].set_title('United States', loc='left', size=20)\n",
    "\n",
    "axs[4][0].plot(germany_robot_count.index.to_timestamp(), germany_robot_count)\n",
    "axs[4][0].set_title('Germany', loc='left', size=20)\n",
    "axs[4][0].set_xlabel(\"Date\", size=14)\n",
    "\n",
    "axs[3][1].plot(belgium_robot_count.index.to_timestamp(), belgium_robot_count)\n",
    "axs[3][1].set_title('Belgium', loc='left', size=20)\n",
    "\n",
    "axs[4][1].plot(poland_robot_count.index.to_timestamp(), poland_robot_count)\n",
    "axs[4][1].set_title('Poland', loc='left', size=20)\n",
    "\n",
    "\n",
    "plt.xlabel('Date', size=14);"
   ]
  },
  {
   "cell_type": "code",
   "execution_count": 89,
   "id": "96236faa",
   "metadata": {},
   "outputs": [
    {
     "data": {
      "image/png": "[encoded data removed]",
      "text/plain": [
       "<Figure size 1296x648 with 4 Axes>"
      ]
     },
     "metadata": {
      "needs_background": "light"
     },
     "output_type": "display_data"
    }
   ],
   "source": [
    "# Group countries with similar mission plots\n",
    "fig, axs = plt.subplots(2, 2, figsize=(18, 9), sharex=True)\n",
    "\n",
    "axs[0][0].plot(israel_robot_count.index.to_timestamp(), israel_robot_count)\n",
    "axs[0][0].set_title('Israel', loc='left', size=20)\n",
    "\n",
    "axs[1][0].plot(china_robot_count.index.to_timestamp(), china_robot_count)\n",
    "axs[1][0].set_title('China', loc='left', size=20)\n",
    "axs[1][0].set_xlabel(\"Date\", size=14)\n",
    "\n",
    "# axs[0][0].plot(france_robot_count.index.to_timestamp(), france_robot_count)\n",
    "# axs[0][0].set_title('France', loc='left', size=20)\n",
    "\n",
    "axs[0][1].plot(japan_robot_count.index.to_timestamp(), japan_robot_count)\n",
    "axs[0][1].set_title('Japan', loc='left', size=20)\n",
    "\n",
    "# axs[1][0].plot(austria_robot_count.index.to_timestamp(), austria_robot_count)\n",
    "# axs[1][0].set_title('Austria', loc='left', size=20)\n",
    "\n",
    "# axs[2][0].plot(canada_robot_count.index.to_timestamp(), canada_robot_count)\n",
    "# axs[2][0].set_title('Canada', loc='left', size=20)\n",
    "\n",
    "# axs[3][0].plot(usa_robot_count.index.to_timestamp(), usa_robot_count)\n",
    "# axs[3][0].set_title('United States', loc='left', size=20)\n",
    "\n",
    "# axs[4][0].plot(germany_robot_count.index.to_timestamp(), germany_robot_count)\n",
    "# axs[4][0].set_title('Germany', loc='left', size=20)\n",
    "\n",
    "axs[1][1].plot(belgium_robot_count.index.to_timestamp(), belgium_robot_count)\n",
    "axs[1][1].set_title('Belgium', loc='left', size=20)\n",
    "\n",
    "# axs[4][1].plot(poland_robot_count.index.to_timestamp(), poland_robot_count)\n",
    "# axs[4][1].set_title('Poland', loc='left', size=20)\n",
    "\n",
    "plt.xlabel('Date', size=14)\n",
    "fig.suptitle('Number of Missions Run per Month', fontsize=22, y=0.98);\n",
    "\n",
    "plt.savefig(f\"plots/fig_2h_1.png\")"
   ]
  },
  {
   "cell_type": "code",
   "execution_count": 90,
   "id": "473aa4dc",
   "metadata": {},
   "outputs": [
    {
     "data": {
      "image/png": "[encoded data removed]",
      "text/plain": [
       "<Figure size 1296x936 with 6 Axes>"
      ]
     },
     "metadata": {
      "needs_background": "light"
     },
     "output_type": "display_data"
    }
   ],
   "source": [
    "# Group countries with similar mission plots\n",
    "fig, axs = plt.subplots(3, 2, figsize=(18, 13), sharex=True)\n",
    "\n",
    "# axs[0][1].plot(israel_robot_count.index.to_timestamp(), israel_robot_count)\n",
    "# axs[0][1].set_title('Israel', loc='left', size=20)\n",
    "\n",
    "# axs[1][1].plot(china_robot_count.index.to_timestamp(), china_robot_count)\n",
    "# axs[1][1].set_title('China', loc='left', size=20)\n",
    "\n",
    "axs[0][0].plot(france_robot_count.index.to_timestamp(), france_robot_count)\n",
    "axs[0][0].set_title('France', loc='left', size=20)\n",
    "\n",
    "# axs[2][1].plot(japan_robot_count.index.to_timestamp(), japan_robot_count)\n",
    "# axs[2][1].set_title('Japan', loc='left', size=20)\n",
    "\n",
    "axs[0][1].plot(austria_robot_count.index.to_timestamp(), austria_robot_count)\n",
    "axs[0][1].set_title('Austria', loc='left', size=20)\n",
    "\n",
    "axs[1][0].plot(canada_robot_count.index.to_timestamp(), canada_robot_count)\n",
    "axs[1][0].set_title('Canada', loc='left', size=20)\n",
    "\n",
    "axs[1][1].plot(usa_robot_count.index.to_timestamp(), usa_robot_count)\n",
    "axs[1][1].set_title('United States', loc='left', size=20)\n",
    "\n",
    "axs[2][0].plot(germany_robot_count.index.to_timestamp(), germany_robot_count)\n",
    "axs[2][0].set_title('Germany', loc='left', size=20)\n",
    "axs[2][0].set_xlabel(\"Date\", size=14)\n",
    "\n",
    "# axs[3][1].plot(belgium_robot_count.index.to_timestamp(), belgium_robot_count)\n",
    "# axs[3][1].set_title('Belgium', loc='left', size=20)\n",
    "\n",
    "axs[2][1].plot(poland_robot_count.index.to_timestamp(), poland_robot_count)\n",
    "axs[2][1].set_title('Poland', loc='left', size=20)\n",
    "\n",
    "\n",
    "plt.xlabel('Date', size=14)\n",
    "fig.suptitle('Number of Missions Run per Month', fontsize=22, y=0.95);\n",
    "\n",
    "plt.savefig(f\"plots/fig_2h_2.png\")"
   ]
  },
  {
   "cell_type": "markdown",
   "id": "76072250",
   "metadata": {},
   "source": [
    "# 2.2 Explore and Address Impacts of Potential Data Loss"
   ]
  },
  {
   "cell_type": "markdown",
   "id": "bdeaa674",
   "metadata": {},
   "source": [
    "## 2.2a Data Loss Investigation"
   ]
  },
  {
   "cell_type": "code",
   "execution_count": 91,
   "id": "52aaf9e1",
   "metadata": {},
   "outputs": [
    {
     "data": {
      "text/plain": [
       "9826"
      ]
     },
     "execution_count": 91,
     "metadata": {},
     "output_type": "execute_result"
    }
   ],
   "source": [
    "# Check to ensure we still have 10,000 wifi-connected robots\n",
    "# Looks like we have mission data on 9,826 unique robots\n",
    "# Seeing as we used a left join, we can see we are missing mission data for 174 robots from the geo dataset\n",
    "len(pd.unique(mis_geo['robotid']))"
   ]
  },
  {
   "cell_type": "code",
   "execution_count": 92,
   "id": "4836e686",
   "metadata": {},
   "outputs": [],
   "source": [
    "# Create a dataframe with geo dataset on the left\n",
    "geo_mis_missing = pd.merge(\n",
    "    geo,\n",
    "    mission,\n",
    "    left_on='robotid',\n",
    "    right_on='robotid',\n",
    "    how='left'\n",
    ")"
   ]
  },
  {
   "cell_type": "code",
   "execution_count": 93,
   "id": "4fa9af92",
   "metadata": {},
   "outputs": [
    {
     "data": {
      "text/plain": [
       "(367853, 9)"
      ]
     },
     "execution_count": 93,
     "metadata": {},
     "output_type": "execute_result"
    }
   ],
   "source": [
    "# As we can see, we have 174 additional rows\n",
    "geo_mis_missing.shape"
   ]
  },
  {
   "cell_type": "code",
   "execution_count": 94,
   "id": "af87eca8",
   "metadata": {},
   "outputs": [
    {
     "data": {
      "text/html": [
       "<div>\n",
       "<style scoped>\n",
       "    .dataframe tbody tr th:only-of-type {\n",
       "        vertical-align: middle;\n",
       "    }\n",
       "\n",
       "    .dataframe tbody tr th {\n",
       "        vertical-align: top;\n",
       "    }\n",
       "\n",
       "    .dataframe thead th {\n",
       "        text-align: right;\n",
       "    }\n",
       "</style>\n",
       "<table border=\"1\" class=\"dataframe\">\n",
       "  <thead>\n",
       "    <tr style=\"text-align: right;\">\n",
       "      <th></th>\n",
       "      <th>country_cd</th>\n",
       "      <th>timezone</th>\n",
       "      <th>robotid</th>\n",
       "      <th>datetime</th>\n",
       "      <th>nmssn</th>\n",
       "      <th>runm</th>\n",
       "      <th>chrgm</th>\n",
       "      <th>pausem</th>\n",
       "      <th>outcome</th>\n",
       "    </tr>\n",
       "  </thead>\n",
       "  <tbody>\n",
       "    <tr>\n",
       "      <th>0</th>\n",
       "      <td>SE</td>\n",
       "      <td>Europe/Stockholm</td>\n",
       "      <td>T29NF13ZIYISNF79</td>\n",
       "      <td>2017-08-10 19:15:38</td>\n",
       "      <td>16.0</td>\n",
       "      <td>26.0</td>\n",
       "      <td>0.0</td>\n",
       "      <td>5.0</td>\n",
       "      <td>ok</td>\n",
       "    </tr>\n",
       "    <tr>\n",
       "      <th>1</th>\n",
       "      <td>SE</td>\n",
       "      <td>Europe/Stockholm</td>\n",
       "      <td>T29NF13ZIYISNF79</td>\n",
       "      <td>2017-08-10 03:09:12</td>\n",
       "      <td>17.0</td>\n",
       "      <td>63.0</td>\n",
       "      <td>0.0</td>\n",
       "      <td>14.0</td>\n",
       "      <td>ok</td>\n",
       "    </tr>\n",
       "    <tr>\n",
       "      <th>2</th>\n",
       "      <td>SE</td>\n",
       "      <td>Europe/Stockholm</td>\n",
       "      <td>T29NF13ZIYISNF79</td>\n",
       "      <td>2017-08-11 17:05:58</td>\n",
       "      <td>18.0</td>\n",
       "      <td>49.0</td>\n",
       "      <td>0.0</td>\n",
       "      <td>11.0</td>\n",
       "      <td>bat</td>\n",
       "    </tr>\n",
       "    <tr>\n",
       "      <th>3</th>\n",
       "      <td>SE</td>\n",
       "      <td>Europe/Stockholm</td>\n",
       "      <td>T29NF13ZIYISNF79</td>\n",
       "      <td>2017-08-12 02:09:54</td>\n",
       "      <td>19.0</td>\n",
       "      <td>39.0</td>\n",
       "      <td>0.0</td>\n",
       "      <td>8.0</td>\n",
       "      <td>ok</td>\n",
       "    </tr>\n",
       "    <tr>\n",
       "      <th>4</th>\n",
       "      <td>SE</td>\n",
       "      <td>Europe/Stockholm</td>\n",
       "      <td>T29NF13ZIYISNF79</td>\n",
       "      <td>2017-08-12 16:38:55</td>\n",
       "      <td>21.0</td>\n",
       "      <td>38.0</td>\n",
       "      <td>0.0</td>\n",
       "      <td>8.0</td>\n",
       "      <td>ok</td>\n",
       "    </tr>\n",
       "  </tbody>\n",
       "</table>\n",
       "</div>"
      ],
      "text/plain": [
       "  country_cd          timezone           robotid            datetime  nmssn  \\\n",
       "0         SE  Europe/Stockholm  T29NF13ZIYISNF79 2017-08-10 19:15:38   16.0   \n",
       "1         SE  Europe/Stockholm  T29NF13ZIYISNF79 2017-08-10 03:09:12   17.0   \n",
       "2         SE  Europe/Stockholm  T29NF13ZIYISNF79 2017-08-11 17:05:58   18.0   \n",
       "3         SE  Europe/Stockholm  T29NF13ZIYISNF79 2017-08-12 02:09:54   19.0   \n",
       "4         SE  Europe/Stockholm  T29NF13ZIYISNF79 2017-08-12 16:38:55   21.0   \n",
       "\n",
       "   runm  chrgm  pausem outcome  \n",
       "0  26.0    0.0     5.0      ok  \n",
       "1  63.0    0.0    14.0      ok  \n",
       "2  49.0    0.0    11.0     bat  \n",
       "3  39.0    0.0     8.0      ok  \n",
       "4  38.0    0.0     8.0      ok  "
      ]
     },
     "execution_count": 94,
     "metadata": {},
     "output_type": "execute_result"
    }
   ],
   "source": [
    "geo_mis_missing.head()"
   ]
  },
  {
   "cell_type": "code",
   "execution_count": 95,
   "id": "a83978a3",
   "metadata": {},
   "outputs": [
    {
     "data": {
      "text/plain": [
       "country_cd      0\n",
       "timezone        0\n",
       "robotid         0\n",
       "datetime      174\n",
       "nmssn         174\n",
       "runm          174\n",
       "chrgm         174\n",
       "pausem        174\n",
       "outcome       174\n",
       "dtype: int64"
      ]
     },
     "execution_count": 95,
     "metadata": {},
     "output_type": "execute_result"
    }
   ],
   "source": [
    "# Further verification of missing data for 174 robots\n",
    "geo_mis_missing.isna().sum()"
   ]
  },
  {
   "cell_type": "code",
   "execution_count": 96,
   "id": "926992a8",
   "metadata": {},
   "outputs": [
    {
     "name": "stdout",
     "output_type": "stream",
     "text": [
      "<class 'pandas.core.frame.DataFrame'>\n",
      "Int64Index: 174 entries, 682 to 366056\n",
      "Data columns (total 9 columns):\n",
      " #   Column      Non-Null Count  Dtype         \n",
      "---  ------      --------------  -----         \n",
      " 0   country_cd  174 non-null    object        \n",
      " 1   timezone    174 non-null    object        \n",
      " 2   robotid     174 non-null    object        \n",
      " 3   datetime    0 non-null      datetime64[ns]\n",
      " 4   nmssn       0 non-null      float64       \n",
      " 5   runm        0 non-null      float64       \n",
      " 6   chrgm       0 non-null      float64       \n",
      " 7   pausem      0 non-null      float64       \n",
      " 8   outcome     0 non-null      object        \n",
      "dtypes: datetime64[ns](1), float64(4), object(4)\n",
      "memory usage: 13.6+ KB\n"
     ]
    }
   ],
   "source": [
    "# Create a dataframe of only the missing robots to send to client for future follow up\n",
    "missing_robots = geo_mis_missing.loc[(geo_mis_missing.datetime.isna())]\n",
    "missing_robots.info()"
   ]
  },
  {
   "cell_type": "code",
   "execution_count": 97,
   "id": "030aea73",
   "metadata": {},
   "outputs": [
    {
     "data": {
      "text/plain": [
       "IL    109\n",
       "AT      8\n",
       "CN      7\n",
       "FR      6\n",
       "JP      5\n",
       "CA      5\n",
       "DE      4\n",
       "RU      4\n",
       "TW      4\n",
       "PL      3\n",
       "IT      3\n",
       "BE      2\n",
       "IN      1\n",
       "US      1\n",
       "BR      1\n",
       "HK      1\n",
       "CZ      1\n",
       "AU      1\n",
       "MX      1\n",
       "SG      1\n",
       "CH      1\n",
       "GB      1\n",
       "NO      1\n",
       "HU      1\n",
       "PT      1\n",
       "PH      1\n",
       "Name: country_cd, dtype: int64"
      ]
     },
     "execution_count": 97,
     "metadata": {},
     "output_type": "execute_result"
    }
   ],
   "source": [
    "# Check how many robots are missing from each country\n",
    "missing_robots['country_cd'].value_counts()"
   ]
  },
  {
   "cell_type": "markdown",
   "id": "b9b84fcb",
   "metadata": {},
   "source": [
    "## 2.2b Explore mission loss prior to mission # 50\n",
    "As I noticed in the boxplots above for mission number, it appears most of our mission data is between mission number 50 to 100."
   ]
  },
  {
   "cell_type": "code",
   "execution_count": 98,
   "id": "8b7fc993",
   "metadata": {},
   "outputs": [
    {
     "data": {
      "image/png": "[encoded data removed]",
      "text/plain": [
       "<Figure size 1152x576 with 1 Axes>"
      ]
     },
     "metadata": {
      "needs_background": "light"
     },
     "output_type": "display_data"
    }
   ],
   "source": [
    "fig, ax = plt.subplots(figsize=(16,8))\n",
    "\n",
    "ax.hist(top_10_countries.nmssn, edgecolor='white', bins=20, color = 'steelblue')\n",
    "# bars = ax.bar(country_robot_count.index, country_robot_count, color='yellowgreen')\n",
    "\n",
    "# ax.bar_label(bars,label_type='edge',size=13)\n",
    "plt.xticks(size=12)\n",
    "# plt.xticks(np.arange(0, len(x)+1, 5), size=12)\n",
    "plt.yticks(size=12)\n",
    "ax.set_xlabel('Mission Number', size = 14, c='grey')\n",
    "ax.set_ylabel('Count', size=16 ,c='grey')\n",
    "plt.title(\"Mission Number Histogram for Top 10 Countries\", size =20, loc='left');\n",
    "\n",
    "plt.savefig(f\"plots/fig_2_2b.png\")"
   ]
  },
  {
   "cell_type": "code",
   "execution_count": null,
   "id": "88ce99f1",
   "metadata": {},
   "outputs": [],
   "source": []
  }
 ],
 "metadata": {
  "kernelspec": {
   "display_name": "Python 3 (ipykernel)",
   "language": "python",
   "name": "python3"
  },
  "language_info": {
   "codemirror_mode": {
    "name": "ipython",
    "version": 3
   },
   "file_extension": ".py",
   "mimetype": "text/x-python",
   "name": "python",
   "nbconvert_exporter": "python",
   "pygments_lexer": "ipython3",
   "version": "3.9.7"
  }
 },
 "nbformat": 4,
 "nbformat_minor": 5
}
